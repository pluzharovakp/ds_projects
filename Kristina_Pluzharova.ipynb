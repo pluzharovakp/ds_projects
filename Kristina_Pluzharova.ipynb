{
  "nbformat": 4,
  "nbformat_minor": 0,
  "metadata": {
    "colab": {
      "name": "Kristina Pluzharova.ipynb",
      "provenance": [],
      "collapsed_sections": [
        "EyxUBhi_VrAI",
        "Xf9IF4sk4Iqh",
        "LyUaHInytt7v",
        "IHewRd1BCRNs",
        "4rbk3xBP7Lik",
        "05VhBWkZ5kgC"
      ],
      "include_colab_link": true
    },
    "kernelspec": {
      "name": "python3",
      "display_name": "Python 3"
    },
    "language_info": {
      "name": "python"
    }
  },
  "cells": [
    {
      "cell_type": "markdown",
      "metadata": {
        "id": "view-in-github",
        "colab_type": "text"
      },
      "source": [
        "<a href=\"https://colab.research.google.com/github/pluzharovakp/ds_projects/blob/master/Kristina_Pluzharova.ipynb\" target=\"_parent\"><img src=\"https://colab.research.google.com/assets/colab-badge.svg\" alt=\"Open In Colab\"/></a>"
      ]
    },
    {
      "cell_type": "code",
      "metadata": {
        "colab": {
          "base_uri": "https://localhost:8080/"
        },
        "id": "NZ-8hnpEo9St",
        "outputId": "0400ff78-c586-4abb-ae4d-bbaeb8622410"
      },
      "source": [
        "from google.colab import drive\n",
        "drive.mount('/content/drive')"
      ],
      "execution_count": null,
      "outputs": [
        {
          "output_type": "stream",
          "text": [
            "Drive already mounted at /content/drive; to attempt to forcibly remount, call drive.mount(\"/content/drive\", force_remount=True).\n"
          ],
          "name": "stdout"
        }
      ]
    },
    {
      "cell_type": "markdown",
      "metadata": {
        "id": "it1dZGhzqvf4"
      },
      "source": [
        "**Plan**\n",
        "\n",
        "1. Data Preprocessing\n",
        "Drop NaN values and duplicates. Convert data to the faster readable format\n",
        "2. Preprocess given keywords and use them to select reviews related to localization\n",
        "3. Determine Language the reviews were written on and put it in the separate column. Translate all reviews to English\n",
        "4. Determine sentiments of the reviews with VADER\n",
        "5. EDA \n",
        "6. Conclusion + Dashboard\n",
        "\n"
      ]
    },
    {
      "cell_type": "markdown",
      "metadata": {
        "id": "EyxUBhi_VrAI"
      },
      "source": [
        "# Imports and preprocessing"
      ]
    },
    {
      "cell_type": "code",
      "metadata": {
        "id": "KGdQzqiXkWls"
      },
      "source": [
        "import warnings\n",
        "warnings.filterwarnings(\"ignore\")"
      ],
      "execution_count": null,
      "outputs": []
    },
    {
      "cell_type": "code",
      "metadata": {
        "colab": {
          "base_uri": "https://localhost:8080/"
        },
        "id": "oU1ziJzi2Uc1",
        "outputId": "071c2dd7-47e0-4f82-a1f0-dbdf13f1a956"
      },
      "source": [
        "!pip install langdetect nltk  deep_translator"
      ],
      "execution_count": null,
      "outputs": [
        {
          "output_type": "stream",
          "text": [
            "Collecting langdetect\n",
            "\u001b[?25l  Downloading https://files.pythonhosted.org/packages/0e/72/a3add0e4eec4eb9e2569554f7c70f4a3c27712f40e3284d483e88094cc0e/langdetect-1.0.9.tar.gz (981kB)\n",
            "\r\u001b[K     |▍                               | 10kB 15.9MB/s eta 0:00:01\r\u001b[K     |▊                               | 20kB 18.4MB/s eta 0:00:01\r\u001b[K     |█                               | 30kB 22.0MB/s eta 0:00:01\r\u001b[K     |█▍                              | 40kB 24.6MB/s eta 0:00:01\r\u001b[K     |█▊                              | 51kB 25.3MB/s eta 0:00:01\r\u001b[K     |██                              | 61kB 17.0MB/s eta 0:00:01\r\u001b[K     |██▍                             | 71kB 18.2MB/s eta 0:00:01\r\u001b[K     |██▊                             | 81kB 16.7MB/s eta 0:00:01\r\u001b[K     |███                             | 92kB 16.3MB/s eta 0:00:01\r\u001b[K     |███▍                            | 102kB 15.6MB/s eta 0:00:01\r\u001b[K     |███▊                            | 112kB 15.6MB/s eta 0:00:01\r\u001b[K     |████                            | 122kB 15.6MB/s eta 0:00:01\r\u001b[K     |████▍                           | 133kB 15.6MB/s eta 0:00:01\r\u001b[K     |████▊                           | 143kB 15.6MB/s eta 0:00:01\r\u001b[K     |█████                           | 153kB 15.6MB/s eta 0:00:01\r\u001b[K     |█████▍                          | 163kB 15.6MB/s eta 0:00:01\r\u001b[K     |█████▊                          | 174kB 15.6MB/s eta 0:00:01\r\u001b[K     |██████                          | 184kB 15.6MB/s eta 0:00:01\r\u001b[K     |██████▍                         | 194kB 15.6MB/s eta 0:00:01\r\u001b[K     |██████▊                         | 204kB 15.6MB/s eta 0:00:01\r\u001b[K     |███████                         | 215kB 15.6MB/s eta 0:00:01\r\u001b[K     |███████▍                        | 225kB 15.6MB/s eta 0:00:01\r\u001b[K     |███████▊                        | 235kB 15.6MB/s eta 0:00:01\r\u001b[K     |████████                        | 245kB 15.6MB/s eta 0:00:01\r\u001b[K     |████████▍                       | 256kB 15.6MB/s eta 0:00:01\r\u001b[K     |████████▊                       | 266kB 15.6MB/s eta 0:00:01\r\u001b[K     |█████████                       | 276kB 15.6MB/s eta 0:00:01\r\u001b[K     |█████████▍                      | 286kB 15.6MB/s eta 0:00:01\r\u001b[K     |█████████▊                      | 296kB 15.6MB/s eta 0:00:01\r\u001b[K     |██████████                      | 307kB 15.6MB/s eta 0:00:01\r\u001b[K     |██████████▍                     | 317kB 15.6MB/s eta 0:00:01\r\u001b[K     |██████████▊                     | 327kB 15.6MB/s eta 0:00:01\r\u001b[K     |███████████                     | 337kB 15.6MB/s eta 0:00:01\r\u001b[K     |███████████▍                    | 348kB 15.6MB/s eta 0:00:01\r\u001b[K     |███████████▊                    | 358kB 15.6MB/s eta 0:00:01\r\u001b[K     |████████████                    | 368kB 15.6MB/s eta 0:00:01\r\u001b[K     |████████████▍                   | 378kB 15.6MB/s eta 0:00:01\r\u001b[K     |████████████▊                   | 389kB 15.6MB/s eta 0:00:01\r\u001b[K     |█████████████                   | 399kB 15.6MB/s eta 0:00:01\r\u001b[K     |█████████████▍                  | 409kB 15.6MB/s eta 0:00:01\r\u001b[K     |█████████████▊                  | 419kB 15.6MB/s eta 0:00:01\r\u001b[K     |██████████████                  | 430kB 15.6MB/s eta 0:00:01\r\u001b[K     |██████████████▍                 | 440kB 15.6MB/s eta 0:00:01\r\u001b[K     |██████████████▊                 | 450kB 15.6MB/s eta 0:00:01\r\u001b[K     |███████████████                 | 460kB 15.6MB/s eta 0:00:01\r\u001b[K     |███████████████▍                | 471kB 15.6MB/s eta 0:00:01\r\u001b[K     |███████████████▊                | 481kB 15.6MB/s eta 0:00:01\r\u001b[K     |████████████████                | 491kB 15.6MB/s eta 0:00:01\r\u001b[K     |████████████████▍               | 501kB 15.6MB/s eta 0:00:01\r\u001b[K     |████████████████▊               | 512kB 15.6MB/s eta 0:00:01\r\u001b[K     |█████████████████               | 522kB 15.6MB/s eta 0:00:01\r\u001b[K     |█████████████████▍              | 532kB 15.6MB/s eta 0:00:01\r\u001b[K     |█████████████████▊              | 542kB 15.6MB/s eta 0:00:01\r\u001b[K     |██████████████████              | 552kB 15.6MB/s eta 0:00:01\r\u001b[K     |██████████████████▍             | 563kB 15.6MB/s eta 0:00:01\r\u001b[K     |██████████████████▊             | 573kB 15.6MB/s eta 0:00:01\r\u001b[K     |███████████████████             | 583kB 15.6MB/s eta 0:00:01\r\u001b[K     |███████████████████▍            | 593kB 15.6MB/s eta 0:00:01\r\u001b[K     |███████████████████▊            | 604kB 15.6MB/s eta 0:00:01\r\u001b[K     |████████████████████            | 614kB 15.6MB/s eta 0:00:01\r\u001b[K     |████████████████████▍           | 624kB 15.6MB/s eta 0:00:01\r\u001b[K     |████████████████████▊           | 634kB 15.6MB/s eta 0:00:01\r\u001b[K     |█████████████████████           | 645kB 15.6MB/s eta 0:00:01\r\u001b[K     |█████████████████████▍          | 655kB 15.6MB/s eta 0:00:01\r\u001b[K     |█████████████████████▊          | 665kB 15.6MB/s eta 0:00:01\r\u001b[K     |██████████████████████          | 675kB 15.6MB/s eta 0:00:01\r\u001b[K     |██████████████████████▍         | 686kB 15.6MB/s eta 0:00:01\r\u001b[K     |██████████████████████▊         | 696kB 15.6MB/s eta 0:00:01\r\u001b[K     |███████████████████████         | 706kB 15.6MB/s eta 0:00:01\r\u001b[K     |███████████████████████▍        | 716kB 15.6MB/s eta 0:00:01\r\u001b[K     |███████████████████████▊        | 727kB 15.6MB/s eta 0:00:01\r\u001b[K     |████████████████████████        | 737kB 15.6MB/s eta 0:00:01\r\u001b[K     |████████████████████████▍       | 747kB 15.6MB/s eta 0:00:01\r\u001b[K     |████████████████████████▊       | 757kB 15.6MB/s eta 0:00:01\r\u001b[K     |█████████████████████████       | 768kB 15.6MB/s eta 0:00:01\r\u001b[K     |█████████████████████████▍      | 778kB 15.6MB/s eta 0:00:01\r\u001b[K     |█████████████████████████▊      | 788kB 15.6MB/s eta 0:00:01\r\u001b[K     |██████████████████████████      | 798kB 15.6MB/s eta 0:00:01\r\u001b[K     |██████████████████████████▍     | 808kB 15.6MB/s eta 0:00:01\r\u001b[K     |██████████████████████████▊     | 819kB 15.6MB/s eta 0:00:01\r\u001b[K     |███████████████████████████     | 829kB 15.6MB/s eta 0:00:01\r\u001b[K     |███████████████████████████▍    | 839kB 15.6MB/s eta 0:00:01\r\u001b[K     |███████████████████████████▊    | 849kB 15.6MB/s eta 0:00:01\r\u001b[K     |████████████████████████████    | 860kB 15.6MB/s eta 0:00:01\r\u001b[K     |████████████████████████████▍   | 870kB 15.6MB/s eta 0:00:01\r\u001b[K     |████████████████████████████▊   | 880kB 15.6MB/s eta 0:00:01\r\u001b[K     |█████████████████████████████   | 890kB 15.6MB/s eta 0:00:01\r\u001b[K     |█████████████████████████████▍  | 901kB 15.6MB/s eta 0:00:01\r\u001b[K     |█████████████████████████████▊  | 911kB 15.6MB/s eta 0:00:01\r\u001b[K     |██████████████████████████████  | 921kB 15.6MB/s eta 0:00:01\r\u001b[K     |██████████████████████████████▍ | 931kB 15.6MB/s eta 0:00:01\r\u001b[K     |██████████████████████████████▊ | 942kB 15.6MB/s eta 0:00:01\r\u001b[K     |███████████████████████████████ | 952kB 15.6MB/s eta 0:00:01\r\u001b[K     |███████████████████████████████▍| 962kB 15.6MB/s eta 0:00:01\r\u001b[K     |███████████████████████████████▊| 972kB 15.6MB/s eta 0:00:01\r\u001b[K     |████████████████████████████████| 983kB 15.6MB/s \n",
            "\u001b[?25hRequirement already satisfied: nltk in /usr/local/lib/python3.7/dist-packages (3.2.5)\n",
            "Collecting deep_translator\n",
            "  Downloading https://files.pythonhosted.org/packages/67/b3/53b50057bf1a5ebbb8a77c19c42ae721129ebe1b8478029f2121a5914f07/deep_translator-1.4.2-py2.py3-none-any.whl\n",
            "Requirement already satisfied: six in /usr/local/lib/python3.7/dist-packages (from langdetect) (1.15.0)\n",
            "Requirement already satisfied: beautifulsoup4 in /usr/local/lib/python3.7/dist-packages (from deep_translator) (4.6.3)\n",
            "Requirement already satisfied: requests in /usr/local/lib/python3.7/dist-packages (from deep_translator) (2.23.0)\n",
            "Requirement already satisfied: chardet<4,>=3.0.2 in /usr/local/lib/python3.7/dist-packages (from requests->deep_translator) (3.0.4)\n",
            "Requirement already satisfied: idna<3,>=2.5 in /usr/local/lib/python3.7/dist-packages (from requests->deep_translator) (2.10)\n",
            "Requirement already satisfied: urllib3!=1.25.0,!=1.25.1,<1.26,>=1.21.1 in /usr/local/lib/python3.7/dist-packages (from requests->deep_translator) (1.24.3)\n",
            "Requirement already satisfied: certifi>=2017.4.17 in /usr/local/lib/python3.7/dist-packages (from requests->deep_translator) (2020.12.5)\n",
            "Building wheels for collected packages: langdetect\n",
            "  Building wheel for langdetect (setup.py) ... \u001b[?25l\u001b[?25hdone\n",
            "  Created wheel for langdetect: filename=langdetect-1.0.9-cp37-none-any.whl size=993223 sha256=18162673bed923d6f16678c0bac805f193005aa314d5146f7328b2e1eff28e27\n",
            "  Stored in directory: /root/.cache/pip/wheels/7e/18/13/038c34057808931c7ddc6c92d3aa015cf1a498df5a70268996\n",
            "Successfully built langdetect\n",
            "Installing collected packages: langdetect, deep-translator\n",
            "Successfully installed deep-translator-1.4.2 langdetect-1.0.9\n"
          ],
          "name": "stdout"
        }
      ]
    },
    {
      "cell_type": "code",
      "metadata": {
        "colab": {
          "base_uri": "https://localhost:8080/"
        },
        "id": "0KpFSpgjixHQ",
        "outputId": "5172d283-c915-4d9e-fdb7-0ccfbe5d5326"
      },
      "source": [
        "import nltk\n",
        "nltk.download('wordnet')\n",
        "from deep_translator import GoogleTranslator\n",
        "import pandas as pd\n",
        "import numpy as np\n",
        "from textblob import TextBlob\n",
        "import langdetect\n",
        "from nltk.stem.snowball import SnowballStemmer\n",
        "import re"
      ],
      "execution_count": null,
      "outputs": [
        {
          "output_type": "stream",
          "text": [
            "[nltk_data] Downloading package wordnet to /root/nltk_data...\n",
            "[nltk_data]   Unzipping corpora/wordnet.zip.\n"
          ],
          "name": "stdout"
        }
      ]
    },
    {
      "cell_type": "code",
      "metadata": {
        "id": "_cu-V4tHrY8Q"
      },
      "source": [
        "# reviews1 =  pd.read_excel('/content/drive/My Drive/data/REVIEWS_1.xlsx')"
      ],
      "execution_count": null,
      "outputs": []
    },
    {
      "cell_type": "code",
      "metadata": {
        "id": "RQ0z6EO9hlzO"
      },
      "source": [
        "# reviews2 =  pd.read_excel('/content/drive/My Drive/data/REVIEWS_2.xlsx')"
      ],
      "execution_count": null,
      "outputs": []
    },
    {
      "cell_type": "code",
      "metadata": {
        "id": "0ykFDdF7jWLL"
      },
      "source": [
        "# df = pd.concat([reviews1, reviews2])"
      ],
      "execution_count": null,
      "outputs": []
    },
    {
      "cell_type": "code",
      "metadata": {
        "id": "L1cigPnUnt-7"
      },
      "source": [
        "# df.info()"
      ],
      "execution_count": null,
      "outputs": []
    },
    {
      "cell_type": "code",
      "metadata": {
        "id": "zkKtZBz9kN6i"
      },
      "source": [
        "# df.to_csv('/content/drive/My Drive/data/df.csv')"
      ],
      "execution_count": null,
      "outputs": []
    },
    {
      "cell_type": "code",
      "metadata": {
        "id": "ZBXLeVkFkdZ5"
      },
      "source": [
        "df = pd.read_csv('/content/drive/My Drive/data/df.csv', index_col=0)"
      ],
      "execution_count": null,
      "outputs": []
    },
    {
      "cell_type": "code",
      "metadata": {
        "id": "yBvuewGHW5D3"
      },
      "source": [
        "df.columns = ['id', 'score', 'text']"
      ],
      "execution_count": null,
      "outputs": []
    },
    {
      "cell_type": "code",
      "metadata": {
        "colab": {
          "base_uri": "https://localhost:8080/"
        },
        "id": "ssdZiAAKmLyR",
        "outputId": "ec9d3d35-791c-4d30-81f2-ab1fdcc76069"
      },
      "source": [
        "df.shape"
      ],
      "execution_count": null,
      "outputs": [
        {
          "output_type": "execute_result",
          "data": {
            "text/plain": [
              "(1869775, 3)"
            ]
          },
          "metadata": {
            "tags": []
          },
          "execution_count": 13
        }
      ]
    },
    {
      "cell_type": "code",
      "metadata": {
        "colab": {
          "base_uri": "https://localhost:8080/",
          "height": 202
        },
        "id": "emNMe004Wr0h",
        "outputId": "2c4e9fc7-0e87-411b-eaaf-6065bbfb1c2b"
      },
      "source": [
        "df.head()"
      ],
      "execution_count": null,
      "outputs": [
        {
          "output_type": "execute_result",
          "data": {
            "text/html": [
              "<div>\n",
              "<style scoped>\n",
              "    .dataframe tbody tr th:only-of-type {\n",
              "        vertical-align: middle;\n",
              "    }\n",
              "\n",
              "    .dataframe tbody tr th {\n",
              "        vertical-align: top;\n",
              "    }\n",
              "\n",
              "    .dataframe thead th {\n",
              "        text-align: right;\n",
              "    }\n",
              "</style>\n",
              "<table border=\"1\" class=\"dataframe\">\n",
              "  <thead>\n",
              "    <tr style=\"text-align: right;\">\n",
              "      <th></th>\n",
              "      <th>id</th>\n",
              "      <th>score</th>\n",
              "      <th>text</th>\n",
              "    </tr>\n",
              "  </thead>\n",
              "  <tbody>\n",
              "    <tr>\n",
              "      <th>0</th>\n",
              "      <td>title777</td>\n",
              "      <td>4</td>\n",
              "      <td>Velmi návyková hra, skvěle zpracovaná. Jen ško...</td>\n",
              "    </tr>\n",
              "    <tr>\n",
              "      <th>1</th>\n",
              "      <td>title777</td>\n",
              "      <td>4</td>\n",
              "      <td>Hra hezká, vadí mi, že třeba přes noc se nepln...</td>\n",
              "    </tr>\n",
              "    <tr>\n",
              "      <th>2</th>\n",
              "      <td>title777</td>\n",
              "      <td>5</td>\n",
              "      <td>Cool</td>\n",
              "    </tr>\n",
              "    <tr>\n",
              "      <th>3</th>\n",
              "      <td>title777</td>\n",
              "      <td>5</td>\n",
              "      <td>Suprová hra.</td>\n",
              "    </tr>\n",
              "    <tr>\n",
              "      <th>4</th>\n",
              "      <td>title777</td>\n",
              "      <td>5</td>\n",
              "      <td>⚽️🏀🏈⚾️🥎去浏览器打开📲87ṚмＢ,C☻м📲华人最大娱乐站，开户免费送现金100块‼️-...</td>\n",
              "    </tr>\n",
              "  </tbody>\n",
              "</table>\n",
              "</div>"
            ],
            "text/plain": [
              "         id  score                                               text\n",
              "0  title777      4  Velmi návyková hra, skvěle zpracovaná. Jen ško...\n",
              "1  title777      4  Hra hezká, vadí mi, že třeba přes noc se nepln...\n",
              "2  title777      5                                               Cool\n",
              "3  title777      5                                       Suprová hra.\n",
              "4  title777      5  ⚽️🏀🏈⚾️🥎去浏览器打开📲87ṚмＢ,C☻м📲华人最大娱乐站，开户免费送现金100块‼️-..."
            ]
          },
          "metadata": {
            "tags": []
          },
          "execution_count": 14
        }
      ]
    },
    {
      "cell_type": "code",
      "metadata": {
        "id": "BCfp8lgyhObD"
      },
      "source": [
        "df = df.dropna()"
      ],
      "execution_count": null,
      "outputs": []
    },
    {
      "cell_type": "code",
      "metadata": {
        "id": "PJMpyQUQl95U"
      },
      "source": [
        "df = df.drop_duplicates().reset_index(drop=True)"
      ],
      "execution_count": null,
      "outputs": []
    },
    {
      "cell_type": "markdown",
      "metadata": {
        "id": "Xf9IF4sk4Iqh"
      },
      "source": [
        "# Select localization reviews "
      ]
    },
    {
      "cell_type": "code",
      "metadata": {
        "id": "2iNvhGkPEu4U"
      },
      "source": [
        "keywords = pd.read_excel('/content/drive/My Drive/data/Keywords.xlsx')"
      ],
      "execution_count": null,
      "outputs": []
    },
    {
      "cell_type": "code",
      "metadata": {
        "colab": {
          "base_uri": "https://localhost:8080/",
          "height": 1000
        },
        "id": "ep3BRy8TE4qv",
        "outputId": "9b12670d-b0fa-444e-f507-7fc2288db4e9"
      },
      "source": [
        "keywords"
      ],
      "execution_count": null,
      "outputs": [
        {
          "output_type": "execute_result",
          "data": {
            "text/html": [
              "<div>\n",
              "<style scoped>\n",
              "    .dataframe tbody tr th:only-of-type {\n",
              "        vertical-align: middle;\n",
              "    }\n",
              "\n",
              "    .dataframe tbody tr th {\n",
              "        vertical-align: top;\n",
              "    }\n",
              "\n",
              "    .dataframe thead th {\n",
              "        text-align: right;\n",
              "    }\n",
              "</style>\n",
              "<table border=\"1\" class=\"dataframe\">\n",
              "  <thead>\n",
              "    <tr style=\"text-align: right;\">\n",
              "      <th></th>\n",
              "      <th>Language combination</th>\n",
              "      <th>\"Translation\"</th>\n",
              "      <th>\"Language\"</th>\n",
              "      <th>\"Localization\"</th>\n",
              "      <th>\"English\"</th>\n",
              "      <th>Language</th>\n",
              "      <th>Unnamed: 6</th>\n",
              "      <th>ISO 639-1</th>\n",
              "      <th>ISO 3166-1-alpha-2</th>\n",
              "      <th>Unnamed: 9</th>\n",
              "    </tr>\n",
              "  </thead>\n",
              "  <tbody>\n",
              "    <tr>\n",
              "      <th>0</th>\n",
              "      <td>English - French</td>\n",
              "      <td>Traduction</td>\n",
              "      <td>la langue</td>\n",
              "      <td>localisation</td>\n",
              "      <td>anglais</td>\n",
              "      <td>Français</td>\n",
              "      <td>NaN</td>\n",
              "      <td>FR</td>\n",
              "      <td>FR</td>\n",
              "      <td>NaN</td>\n",
              "    </tr>\n",
              "    <tr>\n",
              "      <th>1</th>\n",
              "      <td>English - German</td>\n",
              "      <td>Übersetzung</td>\n",
              "      <td>Sprache</td>\n",
              "      <td>Lokalisierung</td>\n",
              "      <td>Englisch</td>\n",
              "      <td>Deutsch</td>\n",
              "      <td>NaN</td>\n",
              "      <td>DE</td>\n",
              "      <td>DE</td>\n",
              "      <td>NaN</td>\n",
              "    </tr>\n",
              "    <tr>\n",
              "      <th>2</th>\n",
              "      <td>English - Italian</td>\n",
              "      <td>traduzione</td>\n",
              "      <td>lingua</td>\n",
              "      <td>localizzazione</td>\n",
              "      <td>inglese</td>\n",
              "      <td>Italiano</td>\n",
              "      <td>NaN</td>\n",
              "      <td>IT</td>\n",
              "      <td>IT</td>\n",
              "      <td>NaN</td>\n",
              "    </tr>\n",
              "    <tr>\n",
              "      <th>3</th>\n",
              "      <td>English - Spanish</td>\n",
              "      <td>traducción</td>\n",
              "      <td>idioma</td>\n",
              "      <td>localización</td>\n",
              "      <td>inglés</td>\n",
              "      <td>español</td>\n",
              "      <td>NaN</td>\n",
              "      <td>ES</td>\n",
              "      <td>ES</td>\n",
              "      <td>NaN</td>\n",
              "    </tr>\n",
              "    <tr>\n",
              "      <th>4</th>\n",
              "      <td>English - Chinese Simplified</td>\n",
              "      <td>翻译</td>\n",
              "      <td>语言</td>\n",
              "      <td>本土化</td>\n",
              "      <td>英语</td>\n",
              "      <td>中国</td>\n",
              "      <td>NaN</td>\n",
              "      <td>ZH</td>\n",
              "      <td>CN</td>\n",
              "      <td>NaN</td>\n",
              "    </tr>\n",
              "    <tr>\n",
              "      <th>5</th>\n",
              "      <td>English - Chinese Traditional</td>\n",
              "      <td>翻譯</td>\n",
              "      <td>語言</td>\n",
              "      <td>本土化</td>\n",
              "      <td>英語</td>\n",
              "      <td>中國</td>\n",
              "      <td>NaN</td>\n",
              "      <td>ZH</td>\n",
              "      <td>CN</td>\n",
              "      <td>NaN</td>\n",
              "    </tr>\n",
              "    <tr>\n",
              "      <th>6</th>\n",
              "      <td>English - Japanese</td>\n",
              "      <td>翻訳</td>\n",
              "      <td>言語</td>\n",
              "      <td>局地化</td>\n",
              "      <td>英語</td>\n",
              "      <td>日本</td>\n",
              "      <td>NaN</td>\n",
              "      <td>JA</td>\n",
              "      <td>JP</td>\n",
              "      <td>NaN</td>\n",
              "    </tr>\n",
              "    <tr>\n",
              "      <th>7</th>\n",
              "      <td>English - Korean</td>\n",
              "      <td>번역</td>\n",
              "      <td>언어</td>\n",
              "      <td>지방화</td>\n",
              "      <td>영어</td>\n",
              "      <td>한국</td>\n",
              "      <td>NaN</td>\n",
              "      <td>KO</td>\n",
              "      <td>KR</td>\n",
              "      <td>NaN</td>\n",
              "    </tr>\n",
              "    <tr>\n",
              "      <th>8</th>\n",
              "      <td>English - Portuguese (BRZ)</td>\n",
              "      <td>tradução</td>\n",
              "      <td>língua</td>\n",
              "      <td>localização</td>\n",
              "      <td>inglês</td>\n",
              "      <td>Portugues</td>\n",
              "      <td>NaN</td>\n",
              "      <td>PT</td>\n",
              "      <td>BR</td>\n",
              "      <td>NaN</td>\n",
              "    </tr>\n",
              "    <tr>\n",
              "      <th>9</th>\n",
              "      <td>English - Portuguese (EUR)</td>\n",
              "      <td>tradução</td>\n",
              "      <td>língua</td>\n",
              "      <td>localização</td>\n",
              "      <td>inglês</td>\n",
              "      <td>Portugues</td>\n",
              "      <td>NaN</td>\n",
              "      <td>PT</td>\n",
              "      <td>PT</td>\n",
              "      <td>NaN</td>\n",
              "    </tr>\n",
              "    <tr>\n",
              "      <th>10</th>\n",
              "      <td>English - Polish</td>\n",
              "      <td>tłumaczenie</td>\n",
              "      <td>język</td>\n",
              "      <td>Lokalizacja</td>\n",
              "      <td>angielski</td>\n",
              "      <td>polski</td>\n",
              "      <td>NaN</td>\n",
              "      <td>PL</td>\n",
              "      <td>PL</td>\n",
              "      <td>NaN</td>\n",
              "    </tr>\n",
              "    <tr>\n",
              "      <th>11</th>\n",
              "      <td>English - Turkish</td>\n",
              "      <td>çeviri</td>\n",
              "      <td>dil</td>\n",
              "      <td>yerelleştirme</td>\n",
              "      <td>İngilizce</td>\n",
              "      <td>Türk</td>\n",
              "      <td>NaN</td>\n",
              "      <td>TR</td>\n",
              "      <td>TR</td>\n",
              "      <td>NaN</td>\n",
              "    </tr>\n",
              "    <tr>\n",
              "      <th>12</th>\n",
              "      <td>English - Arabic</td>\n",
              "      <td>ترجمة</td>\n",
              "      <td>لغة</td>\n",
              "      <td>الموقع</td>\n",
              "      <td>الإنجليزية</td>\n",
              "      <td>العربية</td>\n",
              "      <td>NaN</td>\n",
              "      <td>AR</td>\n",
              "      <td>EG, SA, AE</td>\n",
              "      <td>NaN</td>\n",
              "    </tr>\n",
              "    <tr>\n",
              "      <th>13</th>\n",
              "      <td>English - Russian</td>\n",
              "      <td>Перевод</td>\n",
              "      <td>язык</td>\n",
              "      <td>локализация</td>\n",
              "      <td>английский</td>\n",
              "      <td>русский</td>\n",
              "      <td>NaN</td>\n",
              "      <td>RU</td>\n",
              "      <td>RU, BY, KZ, KG</td>\n",
              "      <td>NaN</td>\n",
              "    </tr>\n",
              "    <tr>\n",
              "      <th>14</th>\n",
              "      <td>English - Dutch</td>\n",
              "      <td>vertaling</td>\n",
              "      <td>taal</td>\n",
              "      <td>lokalisatie</td>\n",
              "      <td>Engels</td>\n",
              "      <td>Nederlands</td>\n",
              "      <td>NaN</td>\n",
              "      <td>NL</td>\n",
              "      <td>NL</td>\n",
              "      <td>NaN</td>\n",
              "    </tr>\n",
              "    <tr>\n",
              "      <th>15</th>\n",
              "      <td>English - Swedish</td>\n",
              "      <td>översättning</td>\n",
              "      <td>språk</td>\n",
              "      <td>lokalisering</td>\n",
              "      <td>engelska</td>\n",
              "      <td>svenska</td>\n",
              "      <td>NaN</td>\n",
              "      <td>SV</td>\n",
              "      <td>SE</td>\n",
              "      <td>NaN</td>\n",
              "    </tr>\n",
              "    <tr>\n",
              "      <th>16</th>\n",
              "      <td>English - Danish</td>\n",
              "      <td>oversættelse</td>\n",
              "      <td>Sprog</td>\n",
              "      <td>lokalisering</td>\n",
              "      <td>engelsk</td>\n",
              "      <td>dansk</td>\n",
              "      <td>NaN</td>\n",
              "      <td>DA</td>\n",
              "      <td>DK</td>\n",
              "      <td>NaN</td>\n",
              "    </tr>\n",
              "    <tr>\n",
              "      <th>17</th>\n",
              "      <td>English - Czech</td>\n",
              "      <td>překlad</td>\n",
              "      <td>Jazyk</td>\n",
              "      <td>lokalizace</td>\n",
              "      <td>Anglický</td>\n",
              "      <td>Česky</td>\n",
              "      <td>NaN</td>\n",
              "      <td>CS</td>\n",
              "      <td>CZ</td>\n",
              "      <td>NaN</td>\n",
              "    </tr>\n",
              "    <tr>\n",
              "      <th>18</th>\n",
              "      <td>English - Finnish</td>\n",
              "      <td>käännös</td>\n",
              "      <td>Kieli</td>\n",
              "      <td>lokalisointi</td>\n",
              "      <td>englanti</td>\n",
              "      <td>suomalainen</td>\n",
              "      <td>NaN</td>\n",
              "      <td>FI</td>\n",
              "      <td>FI</td>\n",
              "      <td>NaN</td>\n",
              "    </tr>\n",
              "    <tr>\n",
              "      <th>19</th>\n",
              "      <td>English - Greek</td>\n",
              "      <td>μετάφραση</td>\n",
              "      <td>Γλώσσα</td>\n",
              "      <td>εντοπισμός</td>\n",
              "      <td>αγγλικά</td>\n",
              "      <td>Ελληνικά</td>\n",
              "      <td>NaN</td>\n",
              "      <td>EL</td>\n",
              "      <td>GR</td>\n",
              "      <td>NaN</td>\n",
              "    </tr>\n",
              "    <tr>\n",
              "      <th>20</th>\n",
              "      <td>English - Norwegian</td>\n",
              "      <td>oversettelse</td>\n",
              "      <td>Språk</td>\n",
              "      <td>lokalisering</td>\n",
              "      <td>engelsk</td>\n",
              "      <td>norsk</td>\n",
              "      <td>NaN</td>\n",
              "      <td>NO</td>\n",
              "      <td>NO</td>\n",
              "      <td>NaN</td>\n",
              "    </tr>\n",
              "    <tr>\n",
              "      <th>21</th>\n",
              "      <td>English - Icelandic</td>\n",
              "      <td>þýðing</td>\n",
              "      <td>tungumál</td>\n",
              "      <td>staðsetning</td>\n",
              "      <td>ensku</td>\n",
              "      <td>Íslensku</td>\n",
              "      <td>NaN</td>\n",
              "      <td>IS</td>\n",
              "      <td>IS</td>\n",
              "      <td>NaN</td>\n",
              "    </tr>\n",
              "    <tr>\n",
              "      <th>22</th>\n",
              "      <td>English - Vietnamese</td>\n",
              "      <td>dịch</td>\n",
              "      <td>ngôn ngữ</td>\n",
              "      <td>nội địa hoá</td>\n",
              "      <td>tiếng Anh</td>\n",
              "      <td>Tiếng Việt</td>\n",
              "      <td>NaN</td>\n",
              "      <td>VI</td>\n",
              "      <td>VN</td>\n",
              "      <td>NaN</td>\n",
              "    </tr>\n",
              "    <tr>\n",
              "      <th>23</th>\n",
              "      <td>English - Hindi</td>\n",
              "      <td>अनुवाद</td>\n",
              "      <td>भाषा</td>\n",
              "      <td>स्थानीयकरण</td>\n",
              "      <td>अंग्रेजी</td>\n",
              "      <td>हिन्दी</td>\n",
              "      <td>NaN</td>\n",
              "      <td>HI</td>\n",
              "      <td>IN</td>\n",
              "      <td>NaN</td>\n",
              "    </tr>\n",
              "    <tr>\n",
              "      <th>24</th>\n",
              "      <td>English - Indonesian</td>\n",
              "      <td>terjemahan</td>\n",
              "      <td>bahasa</td>\n",
              "      <td>penyetempatan</td>\n",
              "      <td>bahasa inggris</td>\n",
              "      <td>indonesia</td>\n",
              "      <td>NaN</td>\n",
              "      <td>ID</td>\n",
              "      <td>ID</td>\n",
              "      <td>NaN</td>\n",
              "    </tr>\n",
              "    <tr>\n",
              "      <th>25</th>\n",
              "      <td>English - Thai</td>\n",
              "      <td>การแปล</td>\n",
              "      <td>ภาษา</td>\n",
              "      <td>การ จำกัด</td>\n",
              "      <td>อังกฤษ</td>\n",
              "      <td>ไทย</td>\n",
              "      <td>NaN</td>\n",
              "      <td>TH</td>\n",
              "      <td>TH</td>\n",
              "      <td>NaN</td>\n",
              "    </tr>\n",
              "    <tr>\n",
              "      <th>26</th>\n",
              "      <td>English - Malayan</td>\n",
              "      <td>terjemahan</td>\n",
              "      <td>bahasa</td>\n",
              "      <td>penyetempatan</td>\n",
              "      <td>bahasa inggeris</td>\n",
              "      <td>Melayu</td>\n",
              "      <td>NaN</td>\n",
              "      <td>MS</td>\n",
              "      <td>MY, SG</td>\n",
              "      <td>NaN</td>\n",
              "    </tr>\n",
              "    <tr>\n",
              "      <th>27</th>\n",
              "      <td>English - Hebrew</td>\n",
              "      <td>תִרגוּם</td>\n",
              "      <td>שָׂפָה</td>\n",
              "      <td>לוקליזציה</td>\n",
              "      <td>אנגלית</td>\n",
              "      <td>עברית</td>\n",
              "      <td>NaN</td>\n",
              "      <td>HE</td>\n",
              "      <td>IL</td>\n",
              "      <td>NaN</td>\n",
              "    </tr>\n",
              "    <tr>\n",
              "      <th>28</th>\n",
              "      <td>English - English</td>\n",
              "      <td>translation</td>\n",
              "      <td>language</td>\n",
              "      <td>localization</td>\n",
              "      <td>english</td>\n",
              "      <td>english</td>\n",
              "      <td>NaN</td>\n",
              "      <td>EN</td>\n",
              "      <td>US, CA, AU, GB, IE, NZ</td>\n",
              "      <td>NaN</td>\n",
              "    </tr>\n",
              "    <tr>\n",
              "      <th>29</th>\n",
              "      <td>NaN</td>\n",
              "      <td>NaN</td>\n",
              "      <td>NaN</td>\n",
              "      <td>NaN</td>\n",
              "      <td>NaN</td>\n",
              "      <td>NaN</td>\n",
              "      <td>NaN</td>\n",
              "      <td>NaN</td>\n",
              "      <td>NaN</td>\n",
              "      <td>NaN</td>\n",
              "    </tr>\n",
              "  </tbody>\n",
              "</table>\n",
              "</div>"
            ],
            "text/plain": [
              "             Language combination  ... Unnamed: 9\n",
              "0                English - French  ...        NaN\n",
              "1                English - German  ...        NaN\n",
              "2               English - Italian  ...        NaN\n",
              "3               English - Spanish  ...        NaN\n",
              "4    English - Chinese Simplified  ...        NaN\n",
              "5   English - Chinese Traditional  ...        NaN\n",
              "6              English - Japanese  ...        NaN\n",
              "7                English - Korean  ...        NaN\n",
              "8      English - Portuguese (BRZ)  ...        NaN\n",
              "9      English - Portuguese (EUR)  ...        NaN\n",
              "10               English - Polish  ...        NaN\n",
              "11              English - Turkish  ...        NaN\n",
              "12               English - Arabic  ...        NaN\n",
              "13              English - Russian  ...        NaN\n",
              "14                English - Dutch  ...        NaN\n",
              "15              English - Swedish  ...        NaN\n",
              "16               English - Danish  ...        NaN\n",
              "17               English - Czech   ...        NaN\n",
              "18              English - Finnish  ...        NaN\n",
              "19                English - Greek  ...        NaN\n",
              "20            English - Norwegian  ...        NaN\n",
              "21            English - Icelandic  ...        NaN\n",
              "22           English - Vietnamese  ...        NaN\n",
              "23                English - Hindi  ...        NaN\n",
              "24           English - Indonesian  ...        NaN\n",
              "25                 English - Thai  ...        NaN\n",
              "26              English - Malayan  ...        NaN\n",
              "27               English - Hebrew  ...        NaN\n",
              "28              English - English  ...        NaN\n",
              "29                            NaN  ...        NaN\n",
              "\n",
              "[30 rows x 10 columns]"
            ]
          },
          "metadata": {
            "tags": []
          },
          "execution_count": 18
        }
      ]
    },
    {
      "cell_type": "code",
      "metadata": {
        "id": "giFY2SR4rgUM"
      },
      "source": [
        "keywords = keywords.drop(29, axis=0)"
      ],
      "execution_count": null,
      "outputs": []
    },
    {
      "cell_type": "code",
      "metadata": {
        "id": "Gy8nBXZs__fv"
      },
      "source": [
        "keywords['Language combination'] = keywords['Language combination'].str.replace('English - ', '')"
      ],
      "execution_count": null,
      "outputs": []
    },
    {
      "cell_type": "code",
      "metadata": {
        "id": "-MgdM93Voc6g"
      },
      "source": [
        "keywords_list = keywords['\"Translation\"'].tolist() + keywords['\"Language\"'].tolist() + keywords['\"Localization\"'].tolist() + keywords['\"English\"'].tolist() + keywords['Language'].tolist() + keywords['Language combination'].tolist()"
      ],
      "execution_count": null,
      "outputs": []
    },
    {
      "cell_type": "code",
      "metadata": {
        "id": "9X9wlTJ_j1Tv"
      },
      "source": [
        "from nltk.stem.porter import PorterStemmer\n",
        "stemmer = PorterStemmer()\n",
        "stemmer_rus = SnowballStemmer('russian')\n",
        "keywords_stem = [stemmer.stem(word) for word in keywords_list]"
      ],
      "execution_count": null,
      "outputs": []
    },
    {
      "cell_type": "code",
      "metadata": {
        "id": "OKtzdnzHZwM8"
      },
      "source": [
        "keywords_stem = keywords_stem + ['翻译', '语言', '中文',  '中国',  '汉语', '本土化', '英语', '版本',\n",
        "        '区域', '跨地区', '地区', '华语', '汉化', '英文', '国家', '国服', 'VPN', 'русс', 'англ']"
      ],
      "execution_count": null,
      "outputs": []
    },
    {
      "cell_type": "code",
      "metadata": {
        "id": "iVJur_gi53OE"
      },
      "source": [
        "keywords_stem = [keywords_stem[i].replace(' ', '') for i in range(len(keywords_stem))]"
      ],
      "execution_count": null,
      "outputs": []
    },
    {
      "cell_type": "code",
      "metadata": {
        "id": "6vHqdjMkrlpu"
      },
      "source": [
        "keywords_string = '|'.join(keywords_stem)"
      ],
      "execution_count": null,
      "outputs": []
    },
    {
      "cell_type": "code",
      "metadata": {
        "id": "NlObvjpBr92w"
      },
      "source": [
        "df['is_about_localization'] = df['text'].str.lower().str.contains(keywords_string.lower())"
      ],
      "execution_count": null,
      "outputs": []
    },
    {
      "cell_type": "code",
      "metadata": {
        "colab": {
          "base_uri": "https://localhost:8080/",
          "height": 202
        },
        "id": "bKo2nhW140R3",
        "outputId": "9b0405d5-f809-4d2e-b399-bb4db2a47999"
      },
      "source": [
        "df.head()"
      ],
      "execution_count": null,
      "outputs": [
        {
          "output_type": "execute_result",
          "data": {
            "text/html": [
              "<div>\n",
              "<style scoped>\n",
              "    .dataframe tbody tr th:only-of-type {\n",
              "        vertical-align: middle;\n",
              "    }\n",
              "\n",
              "    .dataframe tbody tr th {\n",
              "        vertical-align: top;\n",
              "    }\n",
              "\n",
              "    .dataframe thead th {\n",
              "        text-align: right;\n",
              "    }\n",
              "</style>\n",
              "<table border=\"1\" class=\"dataframe\">\n",
              "  <thead>\n",
              "    <tr style=\"text-align: right;\">\n",
              "      <th></th>\n",
              "      <th>id</th>\n",
              "      <th>score</th>\n",
              "      <th>text</th>\n",
              "      <th>is_about_localization</th>\n",
              "    </tr>\n",
              "  </thead>\n",
              "  <tbody>\n",
              "    <tr>\n",
              "      <th>0</th>\n",
              "      <td>title777</td>\n",
              "      <td>4</td>\n",
              "      <td>Velmi návyková hra, skvěle zpracovaná. Jen ško...</td>\n",
              "      <td>False</td>\n",
              "    </tr>\n",
              "    <tr>\n",
              "      <th>1</th>\n",
              "      <td>title777</td>\n",
              "      <td>4</td>\n",
              "      <td>Hra hezká, vadí mi, že třeba přes noc se nepln...</td>\n",
              "      <td>False</td>\n",
              "    </tr>\n",
              "    <tr>\n",
              "      <th>2</th>\n",
              "      <td>title777</td>\n",
              "      <td>5</td>\n",
              "      <td>Cool</td>\n",
              "      <td>False</td>\n",
              "    </tr>\n",
              "    <tr>\n",
              "      <th>3</th>\n",
              "      <td>title777</td>\n",
              "      <td>5</td>\n",
              "      <td>Suprová hra.</td>\n",
              "      <td>False</td>\n",
              "    </tr>\n",
              "    <tr>\n",
              "      <th>4</th>\n",
              "      <td>title777</td>\n",
              "      <td>5</td>\n",
              "      <td>⚽️🏀🏈⚾️🥎去浏览器打开📲87ṚмＢ,C☻м📲华人最大娱乐站，开户免费送现金100块‼️-...</td>\n",
              "      <td>False</td>\n",
              "    </tr>\n",
              "  </tbody>\n",
              "</table>\n",
              "</div>"
            ],
            "text/plain": [
              "         id  ...  is_about_localization\n",
              "0  title777  ...                  False\n",
              "1  title777  ...                  False\n",
              "2  title777  ...                  False\n",
              "3  title777  ...                  False\n",
              "4  title777  ...                  False\n",
              "\n",
              "[5 rows x 4 columns]"
            ]
          },
          "metadata": {
            "tags": []
          },
          "execution_count": 27
        }
      ]
    },
    {
      "cell_type": "code",
      "metadata": {
        "id": "Q5mQNvJ84c23"
      },
      "source": [
        "df_loc = df[df['is_about_localization']==True]"
      ],
      "execution_count": null,
      "outputs": []
    },
    {
      "cell_type": "code",
      "metadata": {
        "colab": {
          "base_uri": "https://localhost:8080/"
        },
        "id": "YMyUcni85BNs",
        "outputId": "41e53bb2-cb61-4df2-9de5-e24e5ca3b600"
      },
      "source": [
        "df_loc.shape"
      ],
      "execution_count": null,
      "outputs": [
        {
          "output_type": "execute_result",
          "data": {
            "text/plain": [
              "(36031, 4)"
            ]
          },
          "metadata": {
            "tags": []
          },
          "execution_count": 29
        }
      ]
    },
    {
      "cell_type": "code",
      "metadata": {
        "colab": {
          "base_uri": "https://localhost:8080/",
          "height": 415
        },
        "id": "XnARyy_qnGGs",
        "outputId": "de1a1a77-67f2-4105-eadc-ce0a39cd92e3"
      },
      "source": [
        "df_loc"
      ],
      "execution_count": null,
      "outputs": [
        {
          "output_type": "execute_result",
          "data": {
            "text/html": [
              "<div>\n",
              "<style scoped>\n",
              "    .dataframe tbody tr th:only-of-type {\n",
              "        vertical-align: middle;\n",
              "    }\n",
              "\n",
              "    .dataframe tbody tr th {\n",
              "        vertical-align: top;\n",
              "    }\n",
              "\n",
              "    .dataframe thead th {\n",
              "        text-align: right;\n",
              "    }\n",
              "</style>\n",
              "<table border=\"1\" class=\"dataframe\">\n",
              "  <thead>\n",
              "    <tr style=\"text-align: right;\">\n",
              "      <th></th>\n",
              "      <th>id</th>\n",
              "      <th>score</th>\n",
              "      <th>text</th>\n",
              "      <th>is_about_localization</th>\n",
              "    </tr>\n",
              "  </thead>\n",
              "  <tbody>\n",
              "    <tr>\n",
              "      <th>8</th>\n",
              "      <td>title777</td>\n",
              "      <td>1</td>\n",
              "      <td>没有华语版本</td>\n",
              "      <td>True</td>\n",
              "    </tr>\n",
              "    <tr>\n",
              "      <th>11</th>\n",
              "      <td>title777</td>\n",
              "      <td>5</td>\n",
              "      <td>没有中文字.很难玩-很好玩的游戏.只可惜语言不明</td>\n",
              "      <td>True</td>\n",
              "    </tr>\n",
              "    <tr>\n",
              "      <th>176</th>\n",
              "      <td>title777</td>\n",
              "      <td>5</td>\n",
              "      <td>Excellent en français et connexion Facebook sa...</td>\n",
              "      <td>True</td>\n",
              "    </tr>\n",
              "    <tr>\n",
              "      <th>967</th>\n",
              "      <td>title777</td>\n",
              "      <td>5</td>\n",
              "      <td>재밌어요. 영어까막눈이라 한국어 패치 됐음 좋겠어요.</td>\n",
              "      <td>True</td>\n",
              "    </tr>\n",
              "    <tr>\n",
              "      <th>968</th>\n",
              "      <td>title777</td>\n",
              "      <td>5</td>\n",
              "      <td>연료.. 너무안주고ㅜ 한국어로좀 번역좀해주시지. .정보도없고ㅜㅜ 잼있긴 잼있음 ㅋㅋ</td>\n",
              "      <td>True</td>\n",
              "    </tr>\n",
              "    <tr>\n",
              "      <th>...</th>\n",
              "      <td>...</td>\n",
              "      <td>...</td>\n",
              "      <td>...</td>\n",
              "      <td>...</td>\n",
              "    </tr>\n",
              "    <tr>\n",
              "      <th>1560168</th>\n",
              "      <td>title642</td>\n",
              "      <td>5</td>\n",
              "      <td>HARİKA YOL YAPMA VE ARABALAR HARİKA ONDAN 5 YI...</td>\n",
              "      <td>True</td>\n",
              "    </tr>\n",
              "    <tr>\n",
              "      <th>1560176</th>\n",
              "      <td>title642</td>\n",
              "      <td>5</td>\n",
              "      <td>Oyun fanadil</td>\n",
              "      <td>True</td>\n",
              "    </tr>\n",
              "    <tr>\n",
              "      <th>1560184</th>\n",
              "      <td>title642</td>\n",
              "      <td>3</td>\n",
              "      <td>güzel gibi yol yapıp arabaları geçirmeye çalış...</td>\n",
              "      <td>True</td>\n",
              "    </tr>\n",
              "    <tr>\n",
              "      <th>1560757</th>\n",
              "      <td>title642</td>\n",
              "      <td>2</td>\n",
              "      <td>I really like this game but they should update...</td>\n",
              "      <td>True</td>\n",
              "    </tr>\n",
              "    <tr>\n",
              "      <th>1563921</th>\n",
              "      <td>title642</td>\n",
              "      <td>5</td>\n",
              "      <td>Like si viste el video de fernanflo +german ga...</td>\n",
              "      <td>True</td>\n",
              "    </tr>\n",
              "  </tbody>\n",
              "</table>\n",
              "<p>36031 rows × 4 columns</p>\n",
              "</div>"
            ],
            "text/plain": [
              "               id  ...  is_about_localization\n",
              "8        title777  ...                   True\n",
              "11       title777  ...                   True\n",
              "176      title777  ...                   True\n",
              "967      title777  ...                   True\n",
              "968      title777  ...                   True\n",
              "...           ...  ...                    ...\n",
              "1560168  title642  ...                   True\n",
              "1560176  title642  ...                   True\n",
              "1560184  title642  ...                   True\n",
              "1560757  title642  ...                   True\n",
              "1563921  title642  ...                   True\n",
              "\n",
              "[36031 rows x 4 columns]"
            ]
          },
          "metadata": {
            "tags": []
          },
          "execution_count": 30
        }
      ]
    },
    {
      "cell_type": "markdown",
      "metadata": {
        "id": "LyUaHInytt7v"
      },
      "source": [
        "# Detect language and translate the reviews\n"
      ]
    },
    {
      "cell_type": "markdown",
      "metadata": {
        "id": "Qhw29l7Gl6WQ"
      },
      "source": [
        "## Determine language"
      ]
    },
    {
      "cell_type": "code",
      "metadata": {
        "id": "o69efpDbNLNM"
      },
      "source": [
        "def clear_text(text):\n",
        "    new_text = re.sub(r\"[^a-zA-Z']\", \" \", text) \n",
        "    new_text = new_text.split()\n",
        "    new_text = \" \".join(new_text)\n",
        "    return new_text.lower()"
      ],
      "execution_count": null,
      "outputs": []
    },
    {
      "cell_type": "code",
      "metadata": {
        "id": "lRisDbiMOFsI"
      },
      "source": [
        "# df_loc['text_norm'] = df_loc['text'].apply(clear_text)"
      ],
      "execution_count": null,
      "outputs": []
    },
    {
      "cell_type": "code",
      "metadata": {
        "id": "TfgMBqxjtxtv"
      },
      "source": [
        "def determine_language(text):\n",
        "    try:\n",
        "      return langdetect.detect(text)\n",
        "    except:\n",
        "      return None"
      ],
      "execution_count": null,
      "outputs": []
    },
    {
      "cell_type": "code",
      "metadata": {
        "id": "E8rNnx8RE1_g"
      },
      "source": [
        "# df_loc['language'] = [detect(row['text']) for index, row in df_loc.iterrows()]\n",
        "df_loc['language'] = df_loc['text'].apply(determine_language)"
      ],
      "execution_count": null,
      "outputs": []
    },
    {
      "cell_type": "code",
      "metadata": {
        "colab": {
          "base_uri": "https://localhost:8080/"
        },
        "id": "zHyzDBR7U7ab",
        "outputId": "8e56d8f4-271b-47cb-baf6-6ee445c33855"
      },
      "source": [
        "df_loc['language'].unique()"
      ],
      "execution_count": null,
      "outputs": [
        {
          "output_type": "execute_result",
          "data": {
            "text/plain": [
              "array(['zh-cn', 'fr', 'ko', 'ja', 'pt', 'pl', 'ru', 'en', 'tr', 'de',\n",
              "       'vi', 'it', 'no', 'th', 'es', 'hu', 'zh-tw', 'tl', 'af', 'et',\n",
              "       'cs', 'cy', 'hi', 'sl', 'so', 'sk', 'fi', 'ar', 'id', 'ca', 'nl',\n",
              "       'el', 'he', 'da', 'bg', 'mk', 'uk', 'sq', 'hr', 'sv', 'lv', 'lt',\n",
              "       'mr', 'ro', None, 'sw'], dtype=object)"
            ]
          },
          "metadata": {
            "tags": []
          },
          "execution_count": 35
        }
      ]
    },
    {
      "cell_type": "code",
      "metadata": {
        "colab": {
          "base_uri": "https://localhost:8080/",
          "height": 79
        },
        "id": "lqhHXn85L5eX",
        "outputId": "91cfd0e7-e45a-4af0-c81d-77a55abe35e4"
      },
      "source": [
        "df_loc[df_loc['language'].isnull()]"
      ],
      "execution_count": null,
      "outputs": [
        {
          "output_type": "execute_result",
          "data": {
            "text/html": [
              "<div>\n",
              "<style scoped>\n",
              "    .dataframe tbody tr th:only-of-type {\n",
              "        vertical-align: middle;\n",
              "    }\n",
              "\n",
              "    .dataframe tbody tr th {\n",
              "        vertical-align: top;\n",
              "    }\n",
              "\n",
              "    .dataframe thead th {\n",
              "        text-align: right;\n",
              "    }\n",
              "</style>\n",
              "<table border=\"1\" class=\"dataframe\">\n",
              "  <thead>\n",
              "    <tr style=\"text-align: right;\">\n",
              "      <th></th>\n",
              "      <th>id</th>\n",
              "      <th>score</th>\n",
              "      <th>text</th>\n",
              "      <th>is_about_localization</th>\n",
              "      <th>language</th>\n",
              "    </tr>\n",
              "  </thead>\n",
              "  <tbody>\n",
              "    <tr>\n",
              "      <th>403379</th>\n",
              "      <td>title249</td>\n",
              "      <td>1</td>\n",
              "      <td>RUSSIAN tanks/planes are the way to go...........</td>\n",
              "      <td>True</td>\n",
              "      <td>None</td>\n",
              "    </tr>\n",
              "  </tbody>\n",
              "</table>\n",
              "</div>"
            ],
            "text/plain": [
              "              id  score  ... is_about_localization  language\n",
              "403379  title249      1  ...                  True      None\n",
              "\n",
              "[1 rows x 5 columns]"
            ]
          },
          "metadata": {
            "tags": []
          },
          "execution_count": 36
        }
      ]
    },
    {
      "cell_type": "code",
      "metadata": {
        "id": "7CBblJTtL30M"
      },
      "source": [
        "df_loc['language'] = df_loc['language'].fillna('en')"
      ],
      "execution_count": null,
      "outputs": []
    },
    {
      "cell_type": "code",
      "metadata": {
        "colab": {
          "base_uri": "https://localhost:8080/"
        },
        "id": "5oi7k-tlakOP",
        "outputId": "189190a8-0351-452a-9b8a-1e14ab5988a5"
      },
      "source": [
        "df_loc.groupby('language')['language'].count().sort_values()"
      ],
      "execution_count": null,
      "outputs": [
        {
          "output_type": "execute_result",
          "data": {
            "text/plain": [
              "language\n",
              "mr          1\n",
              "lt          3\n",
              "hi          3\n",
              "lv          3\n",
              "mk          3\n",
              "sw         10\n",
              "uk         11\n",
              "hr         11\n",
              "hu         12\n",
              "sk         15\n",
              "sq         15\n",
              "cy         17\n",
              "ro         17\n",
              "bg         21\n",
              "he         22\n",
              "fi         29\n",
              "da         31\n",
              "sv         35\n",
              "sl         38\n",
              "ca         40\n",
              "et         41\n",
              "el         46\n",
              "no         50\n",
              "so         52\n",
              "tl         83\n",
              "af         99\n",
              "vi        108\n",
              "cs        120\n",
              "zh-tw     167\n",
              "nl        316\n",
              "pl        772\n",
              "ar        796\n",
              "ja        804\n",
              "es        884\n",
              "it       1367\n",
              "de       1405\n",
              "fr       1498\n",
              "id       1583\n",
              "ko       1611\n",
              "th       1731\n",
              "ru       2579\n",
              "zh-cn    3133\n",
              "pt       3754\n",
              "tr       4509\n",
              "en       8186\n",
              "Name: language, dtype: int64"
            ]
          },
          "metadata": {
            "tags": []
          },
          "execution_count": 38
        }
      ]
    },
    {
      "cell_type": "code",
      "metadata": {
        "id": "EcND9-nkd31d"
      },
      "source": [
        "df_loc['language'] = df_loc['language'].str.replace('zh-tw', 'zh')\n",
        "df_loc['language'] = df_loc['language'].str.replace('zh-cn', 'zh') "
      ],
      "execution_count": null,
      "outputs": []
    },
    {
      "cell_type": "code",
      "metadata": {
        "id": "TXoLjXjmfEor"
      },
      "source": [
        "table_lang_and_codes = keywords[['Language combination', 'ISO 639-1']]"
      ],
      "execution_count": null,
      "outputs": []
    },
    {
      "cell_type": "code",
      "metadata": {
        "id": "os5xZwlhfPx6"
      },
      "source": [
        "table_lang_and_codes['ISO 639-1'] = table_lang_and_codes['ISO 639-1'].str.lower()"
      ],
      "execution_count": null,
      "outputs": []
    },
    {
      "cell_type": "code",
      "metadata": {
        "id": "rdd6FeDNfcqG"
      },
      "source": [
        "table_lang_and_codes.columns = ['language_full', 'language']"
      ],
      "execution_count": null,
      "outputs": []
    },
    {
      "cell_type": "code",
      "metadata": {
        "id": "zATg8rRAgSPc"
      },
      "source": [
        "table_lang_and_codes['language'] = table_lang_and_codes['language'].drop_duplicates()"
      ],
      "execution_count": null,
      "outputs": []
    },
    {
      "cell_type": "code",
      "metadata": {
        "id": "ZFtbRM-Gfz0J"
      },
      "source": [
        "table_lang_and_codes = table_lang_and_codes.dropna()"
      ],
      "execution_count": null,
      "outputs": []
    },
    {
      "cell_type": "code",
      "metadata": {
        "id": "LasR2Y9-vPJ1"
      },
      "source": [
        "table_lang_and_codes['language_full'] = table_lang_and_codes['language_full'].str.replace('Chinese Simplified', 'Chinese')"
      ],
      "execution_count": null,
      "outputs": []
    },
    {
      "cell_type": "code",
      "metadata": {
        "id": "87bOWXX7vokR"
      },
      "source": [
        "table_lang_and_codes['language_full'] = table_lang_and_codes['language_full'].where(table_lang_and_codes['language_full'] != 'Portuguese (BRZ)', 'Portuguese')"
      ],
      "execution_count": null,
      "outputs": []
    },
    {
      "cell_type": "code",
      "metadata": {
        "colab": {
          "base_uri": "https://localhost:8080/",
          "height": 877
        },
        "id": "jyYCBvqkfo3i",
        "outputId": "cb274050-3346-4955-beca-1a52ff20860b"
      },
      "source": [
        "table_lang_and_codes"
      ],
      "execution_count": null,
      "outputs": [
        {
          "output_type": "execute_result",
          "data": {
            "text/html": [
              "<div>\n",
              "<style scoped>\n",
              "    .dataframe tbody tr th:only-of-type {\n",
              "        vertical-align: middle;\n",
              "    }\n",
              "\n",
              "    .dataframe tbody tr th {\n",
              "        vertical-align: top;\n",
              "    }\n",
              "\n",
              "    .dataframe thead th {\n",
              "        text-align: right;\n",
              "    }\n",
              "</style>\n",
              "<table border=\"1\" class=\"dataframe\">\n",
              "  <thead>\n",
              "    <tr style=\"text-align: right;\">\n",
              "      <th></th>\n",
              "      <th>language_full</th>\n",
              "      <th>language</th>\n",
              "    </tr>\n",
              "  </thead>\n",
              "  <tbody>\n",
              "    <tr>\n",
              "      <th>0</th>\n",
              "      <td>French</td>\n",
              "      <td>fr</td>\n",
              "    </tr>\n",
              "    <tr>\n",
              "      <th>1</th>\n",
              "      <td>German</td>\n",
              "      <td>de</td>\n",
              "    </tr>\n",
              "    <tr>\n",
              "      <th>2</th>\n",
              "      <td>Italian</td>\n",
              "      <td>it</td>\n",
              "    </tr>\n",
              "    <tr>\n",
              "      <th>3</th>\n",
              "      <td>Spanish</td>\n",
              "      <td>es</td>\n",
              "    </tr>\n",
              "    <tr>\n",
              "      <th>4</th>\n",
              "      <td>Chinese</td>\n",
              "      <td>zh</td>\n",
              "    </tr>\n",
              "    <tr>\n",
              "      <th>6</th>\n",
              "      <td>Japanese</td>\n",
              "      <td>ja</td>\n",
              "    </tr>\n",
              "    <tr>\n",
              "      <th>7</th>\n",
              "      <td>Korean</td>\n",
              "      <td>ko</td>\n",
              "    </tr>\n",
              "    <tr>\n",
              "      <th>8</th>\n",
              "      <td>Portuguese</td>\n",
              "      <td>pt</td>\n",
              "    </tr>\n",
              "    <tr>\n",
              "      <th>10</th>\n",
              "      <td>Polish</td>\n",
              "      <td>pl</td>\n",
              "    </tr>\n",
              "    <tr>\n",
              "      <th>11</th>\n",
              "      <td>Turkish</td>\n",
              "      <td>tr</td>\n",
              "    </tr>\n",
              "    <tr>\n",
              "      <th>12</th>\n",
              "      <td>Arabic</td>\n",
              "      <td>ar</td>\n",
              "    </tr>\n",
              "    <tr>\n",
              "      <th>13</th>\n",
              "      <td>Russian</td>\n",
              "      <td>ru</td>\n",
              "    </tr>\n",
              "    <tr>\n",
              "      <th>14</th>\n",
              "      <td>Dutch</td>\n",
              "      <td>nl</td>\n",
              "    </tr>\n",
              "    <tr>\n",
              "      <th>15</th>\n",
              "      <td>Swedish</td>\n",
              "      <td>sv</td>\n",
              "    </tr>\n",
              "    <tr>\n",
              "      <th>16</th>\n",
              "      <td>Danish</td>\n",
              "      <td>da</td>\n",
              "    </tr>\n",
              "    <tr>\n",
              "      <th>17</th>\n",
              "      <td>Czech</td>\n",
              "      <td>cs</td>\n",
              "    </tr>\n",
              "    <tr>\n",
              "      <th>18</th>\n",
              "      <td>Finnish</td>\n",
              "      <td>fi</td>\n",
              "    </tr>\n",
              "    <tr>\n",
              "      <th>19</th>\n",
              "      <td>Greek</td>\n",
              "      <td>el</td>\n",
              "    </tr>\n",
              "    <tr>\n",
              "      <th>20</th>\n",
              "      <td>Norwegian</td>\n",
              "      <td>no</td>\n",
              "    </tr>\n",
              "    <tr>\n",
              "      <th>21</th>\n",
              "      <td>Icelandic</td>\n",
              "      <td>is</td>\n",
              "    </tr>\n",
              "    <tr>\n",
              "      <th>22</th>\n",
              "      <td>Vietnamese</td>\n",
              "      <td>vi</td>\n",
              "    </tr>\n",
              "    <tr>\n",
              "      <th>23</th>\n",
              "      <td>Hindi</td>\n",
              "      <td>hi</td>\n",
              "    </tr>\n",
              "    <tr>\n",
              "      <th>24</th>\n",
              "      <td>Indonesian</td>\n",
              "      <td>id</td>\n",
              "    </tr>\n",
              "    <tr>\n",
              "      <th>25</th>\n",
              "      <td>Thai</td>\n",
              "      <td>th</td>\n",
              "    </tr>\n",
              "    <tr>\n",
              "      <th>26</th>\n",
              "      <td>Malayan</td>\n",
              "      <td>ms</td>\n",
              "    </tr>\n",
              "    <tr>\n",
              "      <th>27</th>\n",
              "      <td>Hebrew</td>\n",
              "      <td>he</td>\n",
              "    </tr>\n",
              "    <tr>\n",
              "      <th>28</th>\n",
              "      <td>English</td>\n",
              "      <td>en</td>\n",
              "    </tr>\n",
              "  </tbody>\n",
              "</table>\n",
              "</div>"
            ],
            "text/plain": [
              "   language_full language\n",
              "0         French       fr\n",
              "1         German       de\n",
              "2        Italian       it\n",
              "3        Spanish       es\n",
              "4        Chinese       zh\n",
              "6       Japanese       ja\n",
              "7         Korean       ko\n",
              "8     Portuguese       pt\n",
              "10        Polish       pl\n",
              "11       Turkish       tr\n",
              "12        Arabic       ar\n",
              "13       Russian       ru\n",
              "14         Dutch       nl\n",
              "15       Swedish       sv\n",
              "16        Danish       da\n",
              "17        Czech        cs\n",
              "18       Finnish       fi\n",
              "19         Greek       el\n",
              "20     Norwegian       no\n",
              "21     Icelandic       is\n",
              "22    Vietnamese       vi\n",
              "23         Hindi       hi\n",
              "24    Indonesian       id\n",
              "25          Thai       th\n",
              "26       Malayan       ms\n",
              "27        Hebrew       he\n",
              "28       English       en"
            ]
          },
          "metadata": {
            "tags": []
          },
          "execution_count": 47
        }
      ]
    },
    {
      "cell_type": "code",
      "metadata": {
        "id": "FxfJkH-pekAx"
      },
      "source": [
        "df_loc_new = df_loc.merge(table_lang_and_codes, on='language', how='left')"
      ],
      "execution_count": null,
      "outputs": []
    },
    {
      "cell_type": "code",
      "metadata": {
        "colab": {
          "base_uri": "https://localhost:8080/",
          "height": 415
        },
        "id": "U0wI8frGgGpg",
        "outputId": "ceebea59-41dc-4ba7-e210-5e156ea9392e"
      },
      "source": [
        "df_loc_new"
      ],
      "execution_count": null,
      "outputs": [
        {
          "output_type": "execute_result",
          "data": {
            "text/html": [
              "<div>\n",
              "<style scoped>\n",
              "    .dataframe tbody tr th:only-of-type {\n",
              "        vertical-align: middle;\n",
              "    }\n",
              "\n",
              "    .dataframe tbody tr th {\n",
              "        vertical-align: top;\n",
              "    }\n",
              "\n",
              "    .dataframe thead th {\n",
              "        text-align: right;\n",
              "    }\n",
              "</style>\n",
              "<table border=\"1\" class=\"dataframe\">\n",
              "  <thead>\n",
              "    <tr style=\"text-align: right;\">\n",
              "      <th></th>\n",
              "      <th>id</th>\n",
              "      <th>score</th>\n",
              "      <th>text</th>\n",
              "      <th>is_about_localization</th>\n",
              "      <th>language</th>\n",
              "      <th>language_full</th>\n",
              "    </tr>\n",
              "  </thead>\n",
              "  <tbody>\n",
              "    <tr>\n",
              "      <th>0</th>\n",
              "      <td>title777</td>\n",
              "      <td>1</td>\n",
              "      <td>没有华语版本</td>\n",
              "      <td>True</td>\n",
              "      <td>zh</td>\n",
              "      <td>Chinese</td>\n",
              "    </tr>\n",
              "    <tr>\n",
              "      <th>1</th>\n",
              "      <td>title777</td>\n",
              "      <td>5</td>\n",
              "      <td>没有中文字.很难玩-很好玩的游戏.只可惜语言不明</td>\n",
              "      <td>True</td>\n",
              "      <td>zh</td>\n",
              "      <td>Chinese</td>\n",
              "    </tr>\n",
              "    <tr>\n",
              "      <th>2</th>\n",
              "      <td>title777</td>\n",
              "      <td>5</td>\n",
              "      <td>Excellent en français et connexion Facebook sa...</td>\n",
              "      <td>True</td>\n",
              "      <td>fr</td>\n",
              "      <td>French</td>\n",
              "    </tr>\n",
              "    <tr>\n",
              "      <th>3</th>\n",
              "      <td>title777</td>\n",
              "      <td>5</td>\n",
              "      <td>재밌어요. 영어까막눈이라 한국어 패치 됐음 좋겠어요.</td>\n",
              "      <td>True</td>\n",
              "      <td>ko</td>\n",
              "      <td>Korean</td>\n",
              "    </tr>\n",
              "    <tr>\n",
              "      <th>4</th>\n",
              "      <td>title777</td>\n",
              "      <td>5</td>\n",
              "      <td>연료.. 너무안주고ㅜ 한국어로좀 번역좀해주시지. .정보도없고ㅜㅜ 잼있긴 잼있음 ㅋㅋ</td>\n",
              "      <td>True</td>\n",
              "      <td>ko</td>\n",
              "      <td>Korean</td>\n",
              "    </tr>\n",
              "    <tr>\n",
              "      <th>...</th>\n",
              "      <td>...</td>\n",
              "      <td>...</td>\n",
              "      <td>...</td>\n",
              "      <td>...</td>\n",
              "      <td>...</td>\n",
              "      <td>...</td>\n",
              "    </tr>\n",
              "    <tr>\n",
              "      <th>36026</th>\n",
              "      <td>title642</td>\n",
              "      <td>5</td>\n",
              "      <td>HARİKA YOL YAPMA VE ARABALAR HARİKA ONDAN 5 YI...</td>\n",
              "      <td>True</td>\n",
              "      <td>en</td>\n",
              "      <td>English</td>\n",
              "    </tr>\n",
              "    <tr>\n",
              "      <th>36027</th>\n",
              "      <td>title642</td>\n",
              "      <td>5</td>\n",
              "      <td>Oyun fanadil</td>\n",
              "      <td>True</td>\n",
              "      <td>tr</td>\n",
              "      <td>Turkish</td>\n",
              "    </tr>\n",
              "    <tr>\n",
              "      <th>36028</th>\n",
              "      <td>title642</td>\n",
              "      <td>3</td>\n",
              "      <td>güzel gibi yol yapıp arabaları geçirmeye çalış...</td>\n",
              "      <td>True</td>\n",
              "      <td>tr</td>\n",
              "      <td>Turkish</td>\n",
              "    </tr>\n",
              "    <tr>\n",
              "      <th>36029</th>\n",
              "      <td>title642</td>\n",
              "      <td>2</td>\n",
              "      <td>I really like this game but they should update...</td>\n",
              "      <td>True</td>\n",
              "      <td>en</td>\n",
              "      <td>English</td>\n",
              "    </tr>\n",
              "    <tr>\n",
              "      <th>36030</th>\n",
              "      <td>title642</td>\n",
              "      <td>5</td>\n",
              "      <td>Like si viste el video de fernanflo +german ga...</td>\n",
              "      <td>True</td>\n",
              "      <td>it</td>\n",
              "      <td>Italian</td>\n",
              "    </tr>\n",
              "  </tbody>\n",
              "</table>\n",
              "<p>36031 rows × 6 columns</p>\n",
              "</div>"
            ],
            "text/plain": [
              "             id  score  ... language  language_full\n",
              "0      title777      1  ...       zh        Chinese\n",
              "1      title777      5  ...       zh        Chinese\n",
              "2      title777      5  ...       fr         French\n",
              "3      title777      5  ...       ko         Korean\n",
              "4      title777      5  ...       ko         Korean\n",
              "...         ...    ...  ...      ...            ...\n",
              "36026  title642      5  ...       en        English\n",
              "36027  title642      5  ...       tr        Turkish\n",
              "36028  title642      3  ...       tr        Turkish\n",
              "36029  title642      2  ...       en        English\n",
              "36030  title642      5  ...       it        Italian\n",
              "\n",
              "[36031 rows x 6 columns]"
            ]
          },
          "metadata": {
            "tags": []
          },
          "execution_count": 49
        }
      ]
    },
    {
      "cell_type": "code",
      "metadata": {
        "colab": {
          "base_uri": "https://localhost:8080/"
        },
        "id": "hNm_6k_de4qV",
        "outputId": "0c1c2d19-0a94-49cb-b966-8b9fe82a41dd"
      },
      "source": [
        "df_loc_new[df_loc_new['language_full'].isnull()].groupby('language')['language'].count()"
      ],
      "execution_count": null,
      "outputs": [
        {
          "output_type": "execute_result",
          "data": {
            "text/plain": [
              "language\n",
              "af    99\n",
              "bg    21\n",
              "ca    40\n",
              "cy    17\n",
              "et    41\n",
              "hr    11\n",
              "hu    12\n",
              "lt     3\n",
              "lv     3\n",
              "mk     3\n",
              "mr     1\n",
              "ro    17\n",
              "sk    15\n",
              "sl    38\n",
              "so    52\n",
              "sq    15\n",
              "sw    10\n",
              "tl    83\n",
              "uk    11\n",
              "Name: language, dtype: int64"
            ]
          },
          "metadata": {
            "tags": []
          },
          "execution_count": 50
        }
      ]
    },
    {
      "cell_type": "markdown",
      "metadata": {
        "id": "2LTgLrHvhJTc"
      },
      "source": [
        "There are some reviews on languages we didn't have in keywords lists, but they include words are common with languages we do have in keywords. We can translate them to english to process them futher."
      ]
    },
    {
      "cell_type": "code",
      "metadata": {
        "id": "GXuVdFhVh38d"
      },
      "source": [
        "df_loc_known = df_loc_new.dropna()"
      ],
      "execution_count": null,
      "outputs": []
    },
    {
      "cell_type": "code",
      "metadata": {
        "colab": {
          "base_uri": "https://localhost:8080/"
        },
        "id": "cb3-v8ESxgf0",
        "outputId": "d1ba565b-d2d4-4dbf-89f4-2e8e95076b71"
      },
      "source": [
        "df_loc_known.shape"
      ],
      "execution_count": null,
      "outputs": [
        {
          "output_type": "execute_result",
          "data": {
            "text/plain": [
              "(35539, 6)"
            ]
          },
          "metadata": {
            "tags": []
          },
          "execution_count": 52
        }
      ]
    },
    {
      "cell_type": "markdown",
      "metadata": {
        "id": "IHewRd1BCRNs"
      },
      "source": [
        "## Translate the texts"
      ]
    },
    {
      "cell_type": "code",
      "metadata": {
        "id": "rVmBr2XIJJFu"
      },
      "source": [
        "# translator = GoogleTranslator(source='auto', target='en')\n",
        "\n",
        "# def translate_to_en(text):\n",
        "#   try:\n",
        "#       return translator.translate(text)\n",
        "#   except:\n",
        "#       return None\n",
        "  \n",
        "# df_loc_known['en_trans'] = df_loc_known['text'].apply(translate_to_en)"
      ],
      "execution_count": null,
      "outputs": []
    },
    {
      "cell_type": "code",
      "metadata": {
        "id": "-xp6OzvCpg09"
      },
      "source": [
        "# df_loc_known.to_csv('/content/drive/My Drive/data/df_loc_known.csv')\n",
        "df_loc_known = pd.read_csv('/content/drive/My Drive/data/df_loc_known.csv', index_col=0)"
      ],
      "execution_count": null,
      "outputs": []
    },
    {
      "cell_type": "code",
      "metadata": {
        "colab": {
          "base_uri": "https://localhost:8080/"
        },
        "id": "1e_0BHu6amnp",
        "outputId": "ea57c0bb-a3bf-4819-dc33-0d571a4a2887"
      },
      "source": [
        "df_loc_known[df_loc_known['en_trans'].isnull()]['language'].count()"
      ],
      "execution_count": null,
      "outputs": [
        {
          "output_type": "execute_result",
          "data": {
            "text/plain": [
              "343"
            ]
          },
          "metadata": {
            "tags": []
          },
          "execution_count": 55
        }
      ]
    },
    {
      "cell_type": "markdown",
      "metadata": {
        "id": "5RUUrguSaxEP"
      },
      "source": [
        "We have only 343 reviews without translation. They can be used for test our future model."
      ]
    },
    {
      "cell_type": "code",
      "metadata": {
        "id": "Yh81eCQCVn-r"
      },
      "source": [
        "df_final = df_loc_known[df_loc_known['en_trans'].isnull()==False]"
      ],
      "execution_count": null,
      "outputs": []
    },
    {
      "cell_type": "markdown",
      "metadata": {
        "id": "uRtrOYnTh5TB"
      },
      "source": [
        "# Determine the negative/positive reviews"
      ]
    },
    {
      "cell_type": "markdown",
      "metadata": {
        "id": "4rbk3xBP7Lik"
      },
      "source": [
        "## Sentiment Analysis"
      ]
    },
    {
      "cell_type": "code",
      "metadata": {
        "colab": {
          "base_uri": "https://localhost:8080/"
        },
        "id": "_Dc46yE4SfXe",
        "outputId": "da8ba3ca-6461-4696-98ef-90f852acd13f"
      },
      "source": [
        "nltk.download('vader_lexicon')"
      ],
      "execution_count": null,
      "outputs": [
        {
          "output_type": "stream",
          "text": [
            "[nltk_data] Downloading package vader_lexicon to /root/nltk_data...\n"
          ],
          "name": "stdout"
        },
        {
          "output_type": "execute_result",
          "data": {
            "text/plain": [
              "True"
            ]
          },
          "metadata": {
            "tags": []
          },
          "execution_count": 57
        }
      ]
    },
    {
      "cell_type": "code",
      "metadata": {
        "id": "V42uDy4HQjhy"
      },
      "source": [
        "from nltk.sentiment.vader import SentimentIntensityAnalyzer"
      ],
      "execution_count": null,
      "outputs": []
    },
    {
      "cell_type": "code",
      "metadata": {
        "id": "KsPx33tPRD2w"
      },
      "source": [
        "sid = SentimentIntensityAnalyzer()\n",
        "\n",
        "df_final['sentiment_vader'] = df_final['en_trans'].apply(lambda text: sid.polarity_scores(text))"
      ],
      "execution_count": null,
      "outputs": []
    },
    {
      "cell_type": "code",
      "metadata": {
        "colab": {
          "base_uri": "https://localhost:8080/"
        },
        "id": "InJzTXGob3W5",
        "outputId": "0f7dc86a-96ed-4874-f902-9ac6273382ab"
      },
      "source": [
        "for i in range(20,30):\n",
        "  print('Row ', i)\n",
        "  print(df_final.loc[i, 'en_trans'])\n",
        "  print(df_final.loc[i, 'sentiment_vader']['compound'])\n",
        "  print('')"
      ],
      "execution_count": null,
      "outputs": [
        {
          "output_type": "stream",
          "text": [
            "Row  20\n",
            "I'm from Cooking Fever. If you translate it into Japanese, it will be 5 stars without complaint.\n",
            "0.2235\n",
            "\n",
            "Row  21\n",
            "Thank you for your support in Japanese!\n",
            "0.6696\n",
            "\n",
            "Row  22\n",
            "I hope you can make it in Japanese\n",
            "0.4404\n",
            "\n",
            "Row  23\n",
            "In Japanese please!\n",
            "0.3802\n",
            "\n",
            "Row  24\n",
            "Make it Japanese! I don't know what it means!\n",
            "0.0\n",
            "\n",
            "Row  25\n",
            "Very addictive! I loved. I just thought the delay in filling the fuel was bad and little chance of winning diamonds. They did not put the language in Portuguese. Improve this please, the game has everything to be a success ❤\n",
            "0.9142\n",
            "\n",
            "Row  26\n",
            "The game is sensational but could have the option of Portuguese\n",
            "0.0\n",
            "\n",
            "Row  27\n",
            "No Polish language\n",
            "-0.296\n",
            "\n",
            "Row  28\n",
            "It's hard to get at least 1 star without diamond products, especially above level 30. The lack of the Polish language does not bother me. Interesting but not easy game.\n",
            "-0.6796\n",
            "\n",
            "Row  29\n",
            "It is a pity that the menu is not in Polish, but the overall sound is great\n",
            "0.7227\n",
            "\n"
          ],
          "name": "stdout"
        }
      ]
    },
    {
      "cell_type": "code",
      "metadata": {
        "id": "fqUsVsxm0Vto"
      },
      "source": [
        "df_final['compound'] = df_final['en_trans'].apply(lambda text: sid.polarity_scores(text)['compound'])"
      ],
      "execution_count": null,
      "outputs": []
    },
    {
      "cell_type": "code",
      "metadata": {
        "id": "gw1FdHJ_a5qo"
      },
      "source": [
        "df_final['score_sentiment'] = pd.cut(df_final['compound'], 5, labels=[1, 2, 3, 4, 5]).astype(int)"
      ],
      "execution_count": null,
      "outputs": []
    },
    {
      "cell_type": "markdown",
      "metadata": {
        "id": "v5asUSiStipW"
      },
      "source": [
        "Compound is a balanced valuation of a sentiment, that takes in account both negative and posive values. \n",
        "That is why it's used for further analysis."
      ]
    },
    {
      "cell_type": "markdown",
      "metadata": {
        "id": "05VhBWkZ5kgC"
      },
      "source": [
        "## Train/Test model split"
      ]
    },
    {
      "cell_type": "code",
      "metadata": {
        "id": "KJXD-mtQh_Xy"
      },
      "source": [
        "# def import_spacy(language_code, language_full):\n",
        "#   from spacy.lang.language_code import language_full\n",
        "#   nlp = language_full()  # use directly\n",
        "#   nlp = spacy.blank(language_code)  # blank instance\n",
        "\n",
        "# def text_preprocessing(text):\n",
        "#     doc = nlp(text)\n",
        "#     tokens = [token.lemma_ for token in doc if not token.is_stop]\n",
        "#     return ' '.join(tokens)"
      ],
      "execution_count": null,
      "outputs": []
    },
    {
      "cell_type": "code",
      "metadata": {
        "id": "epQrqh3Z_-P-"
      },
      "source": [
        "# df_loc_known_token = df_loc_known['text'].apply(text_preprocessing)"
      ],
      "execution_count": null,
      "outputs": []
    },
    {
      "cell_type": "code",
      "metadata": {
        "id": "suIY6dcfzXZu"
      },
      "source": [
        "# tfidf_vectorizer = TfidfVectorizer(ngram_range=(1, 2))"
      ],
      "execution_count": null,
      "outputs": []
    },
    {
      "cell_type": "code",
      "metadata": {
        "id": "NMvWMdH96Kj6"
      },
      "source": [
        "# from sklearn.model_selection import train_test_split"
      ],
      "execution_count": null,
      "outputs": []
    },
    {
      "cell_type": "code",
      "metadata": {
        "id": "V4n9O8NI5jbS"
      },
      "source": [
        "# X = 'features'\n",
        "# y = 'targets'\n",
        "\n",
        "# X_train, X_test, y_train, y_test = train_test_split(X, y, test_size=0.3, random_state=12345)"
      ],
      "execution_count": null,
      "outputs": []
    },
    {
      "cell_type": "code",
      "metadata": {
        "id": "6cCN3upp5adr"
      },
      "source": [
        "# spacy_tfidf_train = tfidf_vectorizer.fit_transform(texts_lemm_train)\n",
        "# spacy_tfidf_train.shape"
      ],
      "execution_count": null,
      "outputs": []
    },
    {
      "cell_type": "code",
      "metadata": {
        "id": "B5sGdVhG5c3B"
      },
      "source": [
        "# spacy_tfidf_test = tfidf_vectorizer.transform(texts_lemm_test)\n",
        "# spacy_tfidf_test.shape"
      ],
      "execution_count": null,
      "outputs": []
    },
    {
      "cell_type": "markdown",
      "metadata": {
        "id": "8d5kkW0lhPk2"
      },
      "source": [
        "\n",
        "# EDA"
      ]
    },
    {
      "cell_type": "markdown",
      "metadata": {
        "id": "Tii2Y0dovOFh"
      },
      "source": [
        "## Discover the score mean"
      ]
    },
    {
      "cell_type": "code",
      "metadata": {
        "id": "WQhB514lpIvd"
      },
      "source": [
        "df_final['is_pos'] =  (df_final['compound'] >= 0).astype(int)"
      ],
      "execution_count": null,
      "outputs": []
    },
    {
      "cell_type": "code",
      "metadata": {
        "id": "8C8FPyLZiIA9"
      },
      "source": [
        "games_with_zero = df_final[(df_final['score'] < 1) & (df_final['id'].count() > 1)]['id'].unique().tolist()"
      ],
      "execution_count": null,
      "outputs": []
    },
    {
      "cell_type": "code",
      "metadata": {
        "id": "flpwVcPbj9il"
      },
      "source": [
        "for i in games_with_zero:\n",
        "  print(i, 'Scores:', df_final[df_final['id'] == i]['score'].unique(), 'Number of reviews:', df_final[df_final['id'] == i]['id'].count())\n",
        "  print('')"
      ],
      "execution_count": null,
      "outputs": []
    },
    {
      "cell_type": "markdown",
      "metadata": {
        "id": "FOOr-eYfrb6H"
      },
      "source": [
        "All games that have 0 as a score have score 1 in addition. Probably there was kind of \"do you like/ not like our game\" question in a game. That's why there are 22 games with only 2 scores. "
      ]
    },
    {
      "cell_type": "code",
      "metadata": {
        "id": "yH03DZbfmyLR"
      },
      "source": [
        "avrg_score = pd.DataFrame(df_final.groupby('id')['score'].mean())\n",
        "avrg_score_sentiment = pd.DataFrame(df_final.groupby('id')['score_sentiment'].mean())\n",
        "\n",
        "avrg_compound_sentiment = pd.DataFrame(df_final.groupby('id')['is_pos'].mean())"
      ],
      "execution_count": null,
      "outputs": []
    },
    {
      "cell_type": "code",
      "metadata": {
        "id": "IQipsWCPMCem"
      },
      "source": [
        "scores_all = avrg_score[(~avrg_score.index.isin(games_with_zero)) & (df_final.groupby('id')['score'].count() > 1)].merge(avrg_score_sentiment, on='id')"
      ],
      "execution_count": null,
      "outputs": []
    },
    {
      "cell_type": "code",
      "metadata": {
        "id": "WfM4MPVe08qM"
      },
      "source": [
        "scores_all = scores_all.round(3)"
      ],
      "execution_count": null,
      "outputs": []
    },
    {
      "cell_type": "code",
      "metadata": {
        "colab": {
          "base_uri": "https://localhost:8080/",
          "height": 233
        },
        "id": "OZmFKlTju-1i",
        "outputId": "0e169178-881b-4e7b-84b5-7dbf032a598e"
      },
      "source": [
        "scores_all.sort_values(by='score_sentiment').head()"
      ],
      "execution_count": null,
      "outputs": [
        {
          "output_type": "execute_result",
          "data": {
            "text/html": [
              "<div>\n",
              "<style scoped>\n",
              "    .dataframe tbody tr th:only-of-type {\n",
              "        vertical-align: middle;\n",
              "    }\n",
              "\n",
              "    .dataframe tbody tr th {\n",
              "        vertical-align: top;\n",
              "    }\n",
              "\n",
              "    .dataframe thead th {\n",
              "        text-align: right;\n",
              "    }\n",
              "</style>\n",
              "<table border=\"1\" class=\"dataframe\">\n",
              "  <thead>\n",
              "    <tr style=\"text-align: right;\">\n",
              "      <th></th>\n",
              "      <th>score</th>\n",
              "      <th>score_sentiment</th>\n",
              "    </tr>\n",
              "    <tr>\n",
              "      <th>id</th>\n",
              "      <th></th>\n",
              "      <th></th>\n",
              "    </tr>\n",
              "  </thead>\n",
              "  <tbody>\n",
              "    <tr>\n",
              "      <th>title182</th>\n",
              "      <td>1.500</td>\n",
              "      <td>2.500</td>\n",
              "    </tr>\n",
              "    <tr>\n",
              "      <th>title697</th>\n",
              "      <td>4.667</td>\n",
              "      <td>2.833</td>\n",
              "    </tr>\n",
              "    <tr>\n",
              "      <th>title207</th>\n",
              "      <td>2.000</td>\n",
              "      <td>3.000</td>\n",
              "    </tr>\n",
              "    <tr>\n",
              "      <th>title83</th>\n",
              "      <td>1.000</td>\n",
              "      <td>3.000</td>\n",
              "    </tr>\n",
              "    <tr>\n",
              "      <th>title31</th>\n",
              "      <td>3.750</td>\n",
              "      <td>3.000</td>\n",
              "    </tr>\n",
              "  </tbody>\n",
              "</table>\n",
              "</div>"
            ],
            "text/plain": [
              "          score  score_sentiment\n",
              "id                              \n",
              "title182  1.500            2.500\n",
              "title697  4.667            2.833\n",
              "title207  2.000            3.000\n",
              "title83   1.000            3.000\n",
              "title31   3.750            3.000"
            ]
          },
          "metadata": {
            "tags": []
          },
          "execution_count": 97
        }
      ]
    },
    {
      "cell_type": "code",
      "metadata": {
        "id": "nKF_tAbFnXYF"
      },
      "source": [
        "compound_all = avrg_score[avrg_score.index.isin(games_with_zero)].merge(avrg_compound_sentiment, on='id')"
      ],
      "execution_count": null,
      "outputs": []
    },
    {
      "cell_type": "code",
      "metadata": {
        "id": "RjkQgtqt1E71"
      },
      "source": [
        "compound_all = compound_all.round(3)"
      ],
      "execution_count": null,
      "outputs": []
    },
    {
      "cell_type": "code",
      "metadata": {
        "colab": {
          "base_uri": "https://localhost:8080/",
          "height": 233
        },
        "id": "4rROTB1fnwXa",
        "outputId": "db62e3b4-c42f-4635-e4fb-1ae7fadf391c"
      },
      "source": [
        "compound_all.sort_values(by='is_pos').head()"
      ],
      "execution_count": null,
      "outputs": [
        {
          "output_type": "execute_result",
          "data": {
            "text/html": [
              "<div>\n",
              "<style scoped>\n",
              "    .dataframe tbody tr th:only-of-type {\n",
              "        vertical-align: middle;\n",
              "    }\n",
              "\n",
              "    .dataframe tbody tr th {\n",
              "        vertical-align: top;\n",
              "    }\n",
              "\n",
              "    .dataframe thead th {\n",
              "        text-align: right;\n",
              "    }\n",
              "</style>\n",
              "<table border=\"1\" class=\"dataframe\">\n",
              "  <thead>\n",
              "    <tr style=\"text-align: right;\">\n",
              "      <th></th>\n",
              "      <th>score</th>\n",
              "      <th>is_pos</th>\n",
              "    </tr>\n",
              "    <tr>\n",
              "      <th>id</th>\n",
              "      <th></th>\n",
              "      <th></th>\n",
              "    </tr>\n",
              "  </thead>\n",
              "  <tbody>\n",
              "    <tr>\n",
              "      <th>title451</th>\n",
              "      <td>0.889</td>\n",
              "      <td>0.540</td>\n",
              "    </tr>\n",
              "    <tr>\n",
              "      <th>title249</th>\n",
              "      <td>0.554</td>\n",
              "      <td>0.603</td>\n",
              "    </tr>\n",
              "    <tr>\n",
              "      <th>title508</th>\n",
              "      <td>0.843</td>\n",
              "      <td>0.604</td>\n",
              "    </tr>\n",
              "    <tr>\n",
              "      <th>title81</th>\n",
              "      <td>0.771</td>\n",
              "      <td>0.693</td>\n",
              "    </tr>\n",
              "    <tr>\n",
              "      <th>title417</th>\n",
              "      <td>0.685</td>\n",
              "      <td>0.697</td>\n",
              "    </tr>\n",
              "  </tbody>\n",
              "</table>\n",
              "</div>"
            ],
            "text/plain": [
              "          score  is_pos\n",
              "id                     \n",
              "title451  0.889   0.540\n",
              "title249  0.554   0.603\n",
              "title508  0.843   0.604\n",
              "title81   0.771   0.693\n",
              "title417  0.685   0.697"
            ]
          },
          "metadata": {
            "tags": []
          },
          "execution_count": 79
        }
      ]
    },
    {
      "cell_type": "code",
      "metadata": {
        "colab": {
          "base_uri": "https://localhost:8080/",
          "height": 455
        },
        "id": "V4WhGwXwcMq9",
        "outputId": "6aac483a-a684-4d64-84f9-abdeaca7fdf2"
      },
      "source": [
        "scores_all[:50].plot.bar(figsize=(30, 10))"
      ],
      "execution_count": null,
      "outputs": [
        {
          "output_type": "execute_result",
          "data": {
            "text/plain": [
              "<matplotlib.axes._subplots.AxesSubplot at 0x7f8952464590>"
            ]
          },
          "metadata": {
            "tags": []
          },
          "execution_count": 98
        },
        {
          "output_type": "display_data",
          "data": {
            "image/png": "[encoded data removed]",
            "text/plain": [
              "<Figure size 2160x720 with 1 Axes>"
            ]
          },
          "metadata": {
            "tags": [],
            "needs_background": "light"
          }
        }
      ]
    },
    {
      "cell_type": "code",
      "metadata": {
        "id": "6lhXUK5CMNqL"
      },
      "source": [
        "review_count = df_final[~df_final['id'].isin(games_with_zero)].groupby('id')['text'].count().reset_index()"
      ],
      "execution_count": null,
      "outputs": []
    },
    {
      "cell_type": "code",
      "metadata": {
        "id": "GCMJQPWwMboO"
      },
      "source": [
        "review_count.columns = ['id', 'text_count']"
      ],
      "execution_count": null,
      "outputs": []
    },
    {
      "cell_type": "code",
      "metadata": {
        "colab": {
          "base_uri": "https://localhost:8080/",
          "height": 202
        },
        "id": "-bSto1SNMhYM",
        "outputId": "93aec1bf-505c-4152-fdcb-a7c117606c80"
      },
      "source": [
        "review_count.head()"
      ],
      "execution_count": null,
      "outputs": [
        {
          "output_type": "execute_result",
          "data": {
            "text/html": [
              "<div>\n",
              "<style scoped>\n",
              "    .dataframe tbody tr th:only-of-type {\n",
              "        vertical-align: middle;\n",
              "    }\n",
              "\n",
              "    .dataframe tbody tr th {\n",
              "        vertical-align: top;\n",
              "    }\n",
              "\n",
              "    .dataframe thead th {\n",
              "        text-align: right;\n",
              "    }\n",
              "</style>\n",
              "<table border=\"1\" class=\"dataframe\">\n",
              "  <thead>\n",
              "    <tr style=\"text-align: right;\">\n",
              "      <th></th>\n",
              "      <th>id</th>\n",
              "      <th>text_count</th>\n",
              "    </tr>\n",
              "  </thead>\n",
              "  <tbody>\n",
              "    <tr>\n",
              "      <th>0</th>\n",
              "      <td>title101</td>\n",
              "      <td>171</td>\n",
              "    </tr>\n",
              "    <tr>\n",
              "      <th>1</th>\n",
              "      <td>title114</td>\n",
              "      <td>5</td>\n",
              "    </tr>\n",
              "    <tr>\n",
              "      <th>2</th>\n",
              "      <td>title13</td>\n",
              "      <td>4</td>\n",
              "    </tr>\n",
              "    <tr>\n",
              "      <th>3</th>\n",
              "      <td>title143</td>\n",
              "      <td>4</td>\n",
              "    </tr>\n",
              "    <tr>\n",
              "      <th>4</th>\n",
              "      <td>title146</td>\n",
              "      <td>43</td>\n",
              "    </tr>\n",
              "  </tbody>\n",
              "</table>\n",
              "</div>"
            ],
            "text/plain": [
              "         id  text_count\n",
              "0  title101         171\n",
              "1  title114           5\n",
              "2   title13           4\n",
              "3  title143           4\n",
              "4  title146          43"
            ]
          },
          "metadata": {
            "tags": []
          },
          "execution_count": 101
        }
      ]
    },
    {
      "cell_type": "code",
      "metadata": {
        "id": "4ZuPPbZF6vBd"
      },
      "source": [
        "scores_all = scores_all.merge(review_count, on='id').sort_values(by=['score_sentiment'], ascending=True)"
      ],
      "execution_count": null,
      "outputs": []
    },
    {
      "cell_type": "code",
      "metadata": {
        "colab": {
          "base_uri": "https://localhost:8080/",
          "height": 355
        },
        "id": "3prwangcNv0X",
        "outputId": "b6a311cb-0f1a-4336-96ac-a311b430cced"
      },
      "source": [
        "scores_all[:10]"
      ],
      "execution_count": null,
      "outputs": [
        {
          "output_type": "execute_result",
          "data": {
            "text/html": [
              "<div>\n",
              "<style scoped>\n",
              "    .dataframe tbody tr th:only-of-type {\n",
              "        vertical-align: middle;\n",
              "    }\n",
              "\n",
              "    .dataframe tbody tr th {\n",
              "        vertical-align: top;\n",
              "    }\n",
              "\n",
              "    .dataframe thead th {\n",
              "        text-align: right;\n",
              "    }\n",
              "</style>\n",
              "<table border=\"1\" class=\"dataframe\">\n",
              "  <thead>\n",
              "    <tr style=\"text-align: right;\">\n",
              "      <th></th>\n",
              "      <th>id</th>\n",
              "      <th>score</th>\n",
              "      <th>score_sentiment</th>\n",
              "      <th>text_count</th>\n",
              "    </tr>\n",
              "  </thead>\n",
              "  <tbody>\n",
              "    <tr>\n",
              "      <th>14</th>\n",
              "      <td>title182</td>\n",
              "      <td>1.500</td>\n",
              "      <td>2.500</td>\n",
              "      <td>2</td>\n",
              "    </tr>\n",
              "    <tr>\n",
              "      <th>58</th>\n",
              "      <td>title697</td>\n",
              "      <td>4.667</td>\n",
              "      <td>2.833</td>\n",
              "      <td>6</td>\n",
              "    </tr>\n",
              "    <tr>\n",
              "      <th>20</th>\n",
              "      <td>title207</td>\n",
              "      <td>2.000</td>\n",
              "      <td>3.000</td>\n",
              "      <td>2</td>\n",
              "    </tr>\n",
              "    <tr>\n",
              "      <th>88</th>\n",
              "      <td>title83</td>\n",
              "      <td>1.000</td>\n",
              "      <td>3.000</td>\n",
              "      <td>2</td>\n",
              "    </tr>\n",
              "    <tr>\n",
              "      <th>29</th>\n",
              "      <td>title31</td>\n",
              "      <td>3.750</td>\n",
              "      <td>3.000</td>\n",
              "      <td>4</td>\n",
              "    </tr>\n",
              "    <tr>\n",
              "      <th>45</th>\n",
              "      <td>title582</td>\n",
              "      <td>3.000</td>\n",
              "      <td>3.000</td>\n",
              "      <td>2</td>\n",
              "    </tr>\n",
              "    <tr>\n",
              "      <th>9</th>\n",
              "      <td>title167</td>\n",
              "      <td>3.176</td>\n",
              "      <td>3.235</td>\n",
              "      <td>17</td>\n",
              "    </tr>\n",
              "    <tr>\n",
              "      <th>37</th>\n",
              "      <td>title507</td>\n",
              "      <td>3.056</td>\n",
              "      <td>3.284</td>\n",
              "      <td>162</td>\n",
              "    </tr>\n",
              "    <tr>\n",
              "      <th>5</th>\n",
              "      <td>title152</td>\n",
              "      <td>4.167</td>\n",
              "      <td>3.333</td>\n",
              "      <td>6</td>\n",
              "    </tr>\n",
              "    <tr>\n",
              "      <th>63</th>\n",
              "      <td>title75</td>\n",
              "      <td>4.273</td>\n",
              "      <td>3.333</td>\n",
              "      <td>33</td>\n",
              "    </tr>\n",
              "  </tbody>\n",
              "</table>\n",
              "</div>"
            ],
            "text/plain": [
              "          id  score  score_sentiment  text_count\n",
              "14  title182  1.500            2.500           2\n",
              "58  title697  4.667            2.833           6\n",
              "20  title207  2.000            3.000           2\n",
              "88   title83  1.000            3.000           2\n",
              "29   title31  3.750            3.000           4\n",
              "45  title582  3.000            3.000           2\n",
              "9   title167  3.176            3.235          17\n",
              "37  title507  3.056            3.284         162\n",
              "5   title152  4.167            3.333           6\n",
              "63   title75  4.273            3.333          33"
            ]
          },
          "metadata": {
            "tags": []
          },
          "execution_count": 103
        }
      ]
    },
    {
      "cell_type": "markdown",
      "metadata": {
        "id": "6YPd7nAIvRqU"
      },
      "source": [
        "## Discover the reviews count"
      ]
    },
    {
      "cell_type": "code",
      "metadata": {
        "colab": {
          "base_uri": "https://localhost:8080/",
          "height": 462
        },
        "id": "ifXZUSt_xCQN",
        "outputId": "ecb722bc-9379-46ac-a86b-e634e863f97b"
      },
      "source": [
        "df_final.head()"
      ],
      "execution_count": null,
      "outputs": [
        {
          "output_type": "execute_result",
          "data": {
            "text/html": [
              "<div>\n",
              "<style scoped>\n",
              "    .dataframe tbody tr th:only-of-type {\n",
              "        vertical-align: middle;\n",
              "    }\n",
              "\n",
              "    .dataframe tbody tr th {\n",
              "        vertical-align: top;\n",
              "    }\n",
              "\n",
              "    .dataframe thead th {\n",
              "        text-align: right;\n",
              "    }\n",
              "</style>\n",
              "<table border=\"1\" class=\"dataframe\">\n",
              "  <thead>\n",
              "    <tr style=\"text-align: right;\">\n",
              "      <th></th>\n",
              "      <th>id</th>\n",
              "      <th>score</th>\n",
              "      <th>text</th>\n",
              "      <th>is_about_localization</th>\n",
              "      <th>language</th>\n",
              "      <th>language_full</th>\n",
              "      <th>en_trans</th>\n",
              "      <th>sentiment_vader</th>\n",
              "      <th>compound</th>\n",
              "      <th>score_sentiment</th>\n",
              "      <th>is_pos</th>\n",
              "    </tr>\n",
              "  </thead>\n",
              "  <tbody>\n",
              "    <tr>\n",
              "      <th>0</th>\n",
              "      <td>title777</td>\n",
              "      <td>1</td>\n",
              "      <td>没有华语版本</td>\n",
              "      <td>True</td>\n",
              "      <td>zh</td>\n",
              "      <td>Chinese</td>\n",
              "      <td>No Chinese version</td>\n",
              "      <td>{'neg': 0.524, 'neu': 0.476, 'pos': 0.0, 'comp...</td>\n",
              "      <td>-0.2960</td>\n",
              "      <td>2</td>\n",
              "      <td>0</td>\n",
              "    </tr>\n",
              "    <tr>\n",
              "      <th>1</th>\n",
              "      <td>title777</td>\n",
              "      <td>5</td>\n",
              "      <td>没有中文字.很难玩-很好玩的游戏.只可惜语言不明</td>\n",
              "      <td>True</td>\n",
              "      <td>zh</td>\n",
              "      <td>Chinese</td>\n",
              "      <td>No Chinese characters. Hard to play-very fun g...</td>\n",
              "      <td>{'neg': 0.289, 'neu': 0.547, 'pos': 0.164, 'co...</td>\n",
              "      <td>-0.1280</td>\n",
              "      <td>3</td>\n",
              "      <td>0</td>\n",
              "    </tr>\n",
              "    <tr>\n",
              "      <th>2</th>\n",
              "      <td>title777</td>\n",
              "      <td>5</td>\n",
              "      <td>Excellent en français et connexion Facebook sa...</td>\n",
              "      <td>True</td>\n",
              "      <td>fr</td>\n",
              "      <td>French</td>\n",
              "      <td>Excellent in French and Facebook connection wi...</td>\n",
              "      <td>{'neg': 0.0, 'neu': 0.654, 'pos': 0.346, 'comp...</td>\n",
              "      <td>0.5719</td>\n",
              "      <td>4</td>\n",
              "      <td>1</td>\n",
              "    </tr>\n",
              "    <tr>\n",
              "      <th>3</th>\n",
              "      <td>title777</td>\n",
              "      <td>5</td>\n",
              "      <td>재밌어요. 영어까막눈이라 한국어 패치 됐음 좋겠어요.</td>\n",
              "      <td>True</td>\n",
              "      <td>ko</td>\n",
              "      <td>Korean</td>\n",
              "      <td>fun. It’s English black eyes, so I hope that t...</td>\n",
              "      <td>{'neg': 0.0, 'neu': 0.63, 'pos': 0.37, 'compou...</td>\n",
              "      <td>0.7930</td>\n",
              "      <td>5</td>\n",
              "      <td>1</td>\n",
              "    </tr>\n",
              "    <tr>\n",
              "      <th>4</th>\n",
              "      <td>title777</td>\n",
              "      <td>5</td>\n",
              "      <td>연료.. 너무안주고ㅜ 한국어로좀 번역좀해주시지. .정보도없고ㅜㅜ 잼있긴 잼있음 ㅋㅋ</td>\n",
              "      <td>True</td>\n",
              "      <td>ko</td>\n",
              "      <td>Korean</td>\n",
              "      <td>Don't give me fuel.. Please translate it into ...</td>\n",
              "      <td>{'neg': 0.056, 'neu': 0.668, 'pos': 0.276, 'co...</td>\n",
              "      <td>0.7391</td>\n",
              "      <td>5</td>\n",
              "      <td>1</td>\n",
              "    </tr>\n",
              "  </tbody>\n",
              "</table>\n",
              "</div>"
            ],
            "text/plain": [
              "         id  score  ... score_sentiment  is_pos\n",
              "0  title777      1  ...               2       0\n",
              "1  title777      5  ...               3       0\n",
              "2  title777      5  ...               4       1\n",
              "3  title777      5  ...               5       1\n",
              "4  title777      5  ...               5       1\n",
              "\n",
              "[5 rows x 11 columns]"
            ]
          },
          "metadata": {
            "tags": []
          },
          "execution_count": 86
        }
      ]
    },
    {
      "cell_type": "code",
      "metadata": {
        "colab": {
          "base_uri": "https://localhost:8080/",
          "height": 355
        },
        "id": "d_SX6Lt8xDyt",
        "outputId": "a6261331-33b4-406d-cbf9-2135cf7c3182"
      },
      "source": [
        "neg_review_count = df_final[df_final['is_pos']==0].groupby('id')['text'].count().reset_index().sort_values(by='text', ascending=False)\n",
        "neg_review_count.head(10)"
      ],
      "execution_count": null,
      "outputs": [
        {
          "output_type": "execute_result",
          "data": {
            "text/html": [
              "<div>\n",
              "<style scoped>\n",
              "    .dataframe tbody tr th:only-of-type {\n",
              "        vertical-align: middle;\n",
              "    }\n",
              "\n",
              "    .dataframe tbody tr th {\n",
              "        vertical-align: top;\n",
              "    }\n",
              "\n",
              "    .dataframe thead th {\n",
              "        text-align: right;\n",
              "    }\n",
              "</style>\n",
              "<table border=\"1\" class=\"dataframe\">\n",
              "  <thead>\n",
              "    <tr style=\"text-align: right;\">\n",
              "      <th></th>\n",
              "      <th>id</th>\n",
              "      <th>text</th>\n",
              "    </tr>\n",
              "  </thead>\n",
              "  <tbody>\n",
              "    <tr>\n",
              "      <th>24</th>\n",
              "      <td>title249</td>\n",
              "      <td>2134</td>\n",
              "    </tr>\n",
              "    <tr>\n",
              "      <th>70</th>\n",
              "      <td>title658</td>\n",
              "      <td>723</td>\n",
              "    </tr>\n",
              "    <tr>\n",
              "      <th>109</th>\n",
              "      <td>title885</td>\n",
              "      <td>548</td>\n",
              "    </tr>\n",
              "    <tr>\n",
              "      <th>75</th>\n",
              "      <td>title700</td>\n",
              "      <td>527</td>\n",
              "    </tr>\n",
              "    <tr>\n",
              "      <th>40</th>\n",
              "      <td>title407</td>\n",
              "      <td>434</td>\n",
              "    </tr>\n",
              "    <tr>\n",
              "      <th>105</th>\n",
              "      <td>title832</td>\n",
              "      <td>267</td>\n",
              "    </tr>\n",
              "    <tr>\n",
              "      <th>73</th>\n",
              "      <td>title675</td>\n",
              "      <td>264</td>\n",
              "    </tr>\n",
              "    <tr>\n",
              "      <th>81</th>\n",
              "      <td>title765</td>\n",
              "      <td>187</td>\n",
              "    </tr>\n",
              "    <tr>\n",
              "      <th>66</th>\n",
              "      <td>title631</td>\n",
              "      <td>169</td>\n",
              "    </tr>\n",
              "    <tr>\n",
              "      <th>69</th>\n",
              "      <td>title655</td>\n",
              "      <td>137</td>\n",
              "    </tr>\n",
              "  </tbody>\n",
              "</table>\n",
              "</div>"
            ],
            "text/plain": [
              "           id  text\n",
              "24   title249  2134\n",
              "70   title658   723\n",
              "109  title885   548\n",
              "75   title700   527\n",
              "40   title407   434\n",
              "105  title832   267\n",
              "73   title675   264\n",
              "81   title765   187\n",
              "66   title631   169\n",
              "69   title655   137"
            ]
          },
          "metadata": {
            "tags": []
          },
          "execution_count": 87
        }
      ]
    },
    {
      "cell_type": "markdown",
      "metadata": {
        "id": "Dc5BU7tJyGj7"
      },
      "source": [
        "There are 10 games with most count of negative location reviews. Let's see what languages asked more.\n",
        "\n",
        "Usually the primary language for a new game is an English, so I assume that people that wrote reviews in English are not asked about the translation. Of course it's not true, but let's do it to have a fast overview."
      ]
    },
    {
      "cell_type": "code",
      "metadata": {
        "id": "7pZO_uJuxDrW"
      },
      "source": [
        "df_to_dashboard_negative_top = df_final[(df_final['id'].isin(neg_review_count['id'].tolist()[:10])) & (df_final['is_pos']==0) & (df_final['language_full']!='English')][['id', 'language_full', 'score_sentiment', 'is_pos']]"
      ],
      "execution_count": null,
      "outputs": []
    },
    {
      "cell_type": "code",
      "metadata": {
        "colab": {
          "base_uri": "https://localhost:8080/"
        },
        "id": "8OM2Mc3UxDvN",
        "outputId": "3ea8dc94-f1ce-4aa4-f23a-e005fa4edc30"
      },
      "source": [
        "# neg_review_by_language = pd.DataFrame(columns=['language_full','text'])\n",
        "for i in neg_review_count['id'].tolist()[:10]:\n",
        "  df = df_final[(df_final['id']==i) & (df_final['is_pos']==0) & (df_final['language_full']!='English')].groupby('language_full')['text'].count().reset_index().sort_values(by='text', ascending=False)\n",
        "  print(\"game:\", i)\n",
        "  print(df.head(10))\n",
        "  print('')\n",
        "\n",
        "  top_lang = df['language_full'][:4]\n",
        "  df_to_dashboard_negative_top['language_full'] = np.where(~(df_to_dashboard_negative_top['language_full'].isin(top_lang)) & (df_to_dashboard_negative_top['id'] == i), 'Other', df_to_dashboard_negative_top['language_full'])"
      ],
      "execution_count": null,
      "outputs": [
        {
          "output_type": "stream",
          "text": [
            "game: title249\n",
            "   language_full  text\n",
            "0        Chinese   299\n",
            "5         German   102\n",
            "12       Russian    74\n",
            "6     Indonesian    36\n",
            "16       Turkish    31\n",
            "4         French    22\n",
            "9         Korean    17\n",
            "13       Spanish    16\n",
            "10        Polish    15\n",
            "11    Portuguese    12\n",
            "\n",
            "game: title658\n",
            "   language_full  text\n",
            "11       Russian   232\n",
            "3         French   186\n",
            "14       Turkish   112\n",
            "6        Italian    63\n",
            "4         German    42\n",
            "8         Korean    23\n",
            "12       Spanish    11\n",
            "5     Indonesian     9\n",
            "9         Polish     8\n",
            "1        Chinese     7\n",
            "\n",
            "game: title885\n",
            "   language_full  text\n",
            "15       Turkish   163\n",
            "14          Thai    81\n",
            "5     Indonesian    64\n",
            "8         Korean    50\n",
            "1        Chinese    40\n",
            "0         Arabic    28\n",
            "10        Polish    27\n",
            "11    Portuguese    15\n",
            "7       Japanese    14\n",
            "12       Russian    14\n",
            "\n",
            "game: title700\n",
            "   language_full  text\n",
            "20       Turkish   134\n",
            "12        Korean    61\n",
            "11      Japanese    58\n",
            "0         Arabic    36\n",
            "9     Indonesian    29\n",
            "16       Russian    25\n",
            "19          Thai    24\n",
            "5         French    23\n",
            "6         German    22\n",
            "1        Chinese    18\n",
            "\n",
            "game: title407\n",
            "   language_full  text\n",
            "0        Chinese   111\n",
            "10       Russian    43\n",
            "7         Korean    22\n",
            "13       Turkish    15\n",
            "4         French     9\n",
            "6       Japanese     9\n",
            "9     Portuguese     7\n",
            "11       Spanish     6\n",
            "8         Polish     5\n",
            "1         Czech      1\n",
            "\n",
            "game: title832\n",
            "   language_full  text\n",
            "8         Polish    46\n",
            "1        Chinese    43\n",
            "4     Indonesian    30\n",
            "13       Turkish    30\n",
            "7         Korean    21\n",
            "5        Italian    16\n",
            "12          Thai    15\n",
            "0         Arabic    12\n",
            "10       Russian    11\n",
            "9     Portuguese    10\n",
            "\n",
            "game: title675\n",
            "   language_full  text\n",
            "10       Russian    79\n",
            "3         German    58\n",
            "5        Italian    36\n",
            "8         Polish    10\n",
            "9     Portuguese     8\n",
            "11       Spanish     8\n",
            "2         French     5\n",
            "6       Japanese     3\n",
            "0        Chinese     2\n",
            "7         Korean     2\n",
            "\n",
            "game: title765\n",
            "   language_full  text\n",
            "15       Turkish    35\n",
            "10        Polish    23\n",
            "1        Chinese    19\n",
            "9         Korean    18\n",
            "5         German    12\n",
            "6     Indonesian    12\n",
            "12       Russian    11\n",
            "16    Vietnamese     7\n",
            "11    Portuguese     6\n",
            "13       Spanish     5\n",
            "\n",
            "game: title631\n",
            "   language_full  text\n",
            "1        Chinese    40\n",
            "8         Korean    23\n",
            "14       Turkish    22\n",
            "5     Indonesian    11\n",
            "9         Polish    10\n",
            "13          Thai    10\n",
            "10    Portuguese     7\n",
            "4         German     5\n",
            "7       Japanese     4\n",
            "11       Russian     3\n",
            "\n",
            "game: title655\n",
            "   language_full  text\n",
            "15       Turkish    66\n",
            "0         Arabic     8\n",
            "10        Polish     8\n",
            "6     Indonesian     7\n",
            "12       Russian     7\n",
            "7        Italian     6\n",
            "11    Portuguese     5\n",
            "1        Chinese     4\n",
            "9         Korean     4\n",
            "13       Spanish     4\n",
            "\n"
          ],
          "name": "stdout"
        }
      ]
    },
    {
      "cell_type": "markdown",
      "metadata": {
        "id": "JEuHwMa23KhL"
      },
      "source": [
        "## Top languages among localization reviews\n",
        "10 games with most count of reviews about localization"
      ]
    },
    {
      "cell_type": "code",
      "metadata": {
        "id": "Kr2hxHhvOvYE"
      },
      "source": [
        "popular_games_without_loc = scores_all.sort_values(by=['text_count'], ascending=False)['id'][:10].tolist()"
      ],
      "execution_count": null,
      "outputs": []
    },
    {
      "cell_type": "code",
      "metadata": {
        "colab": {
          "base_uri": "https://localhost:8080/"
        },
        "id": "srYQ7SJyP6S3",
        "outputId": "43251907-10b0-4965-f893-b2c9be59e7d9"
      },
      "source": [
        "popular_games_without_loc"
      ],
      "execution_count": null,
      "outputs": [
        {
          "output_type": "execute_result",
          "data": {
            "text/plain": [
              "['title885',\n",
              " 'title658',\n",
              " 'title700',\n",
              " 'title832',\n",
              " 'title655',\n",
              " 'title675',\n",
              " 'title765',\n",
              " 'title631',\n",
              " 'title600',\n",
              " 'title782']"
            ]
          },
          "metadata": {
            "tags": []
          },
          "execution_count": 105
        }
      ]
    },
    {
      "cell_type": "code",
      "metadata": {
        "colab": {
          "base_uri": "https://localhost:8080/"
        },
        "id": "tQAqKgdYxK1E",
        "outputId": "2485d7a7-39d1-4624-d070-c3c5a3aa754c"
      },
      "source": [
        "df_final[df_final['id'].isin(popular_games_without_loc)].groupby('language_full')['language_full'].count().sort_values(ascending=False)"
      ],
      "execution_count": null,
      "outputs": [
        {
          "output_type": "execute_result",
          "data": {
            "text/plain": [
              "language_full\n",
              "Turkish       3175\n",
              "Portuguese    1649\n",
              "English       1547\n",
              "Thai          1480\n",
              "Russian       1454\n",
              "Indonesian    1204\n",
              "French         898\n",
              "Korean         809\n",
              "Italian        792\n",
              "Arabic         673\n",
              "German         626\n",
              "Chinese        624\n",
              "Polish         550\n",
              "Japanese       377\n",
              "Spanish        281\n",
              "Dutch          115\n",
              "Vietnamese      69\n",
              "Czech           53\n",
              "Greek           41\n",
              "Norwegian       18\n",
              "Hebrew          12\n",
              "Swedish         11\n",
              "Danish          10\n",
              "Finnish          9\n",
              "Hindi            2\n",
              "Name: language_full, dtype: int64"
            ]
          },
          "metadata": {
            "tags": []
          },
          "execution_count": 106
        }
      ]
    },
    {
      "cell_type": "code",
      "metadata": {
        "colab": {
          "base_uri": "https://localhost:8080/"
        },
        "id": "ShWXWRQXQWRP",
        "outputId": "4591c044-90c5-4bc3-a176-2828189bf00b"
      },
      "source": [
        "df_final.groupby('language_full')['language_full'].count().sort_values(ascending=False)"
      ],
      "execution_count": null,
      "outputs": [
        {
          "output_type": "execute_result",
          "data": {
            "text/plain": [
              "language_full\n",
              "English       8000\n",
              "Turkish       4510\n",
              "Portuguese    3755\n",
              "Chinese       3260\n",
              "Russian       2537\n",
              "Thai          1729\n",
              "Korean        1596\n",
              "Indonesian    1576\n",
              "French        1491\n",
              "German        1390\n",
              "Italian       1367\n",
              "Spanish        875\n",
              "Japanese       798\n",
              "Arabic         794\n",
              "Polish         767\n",
              "Dutch          314\n",
              "Czech          118\n",
              "Vietnamese     109\n",
              "Norwegian       49\n",
              "Greek           46\n",
              "Swedish         34\n",
              "Finnish         33\n",
              "Danish          32\n",
              "Hebrew          21\n",
              "Hindi            3\n",
              "Name: language_full, dtype: int64"
            ]
          },
          "metadata": {
            "tags": []
          },
          "execution_count": 93
        }
      ]
    },
    {
      "cell_type": "markdown",
      "metadata": {
        "id": "KU6vkN25Ptng"
      },
      "source": [
        "# Conclusion\n",
        "\n",
        "**We do not really know the reasons for negative reviews.**\n",
        "VADER rely on words' emotional, so the review is negative because the reviewer used negative emotion words. \n",
        "\n",
        "**We do know the sentiment of all reviews.**\n",
        "So we can assume that a negative review tells about a problem with a language the review was written on.\n",
        "\n",
        "\n",
        "The languages, the most localization reviews are written, are *English*, *Turkish*, *Portuguese*, *Thai*, *Russian*, *Chinese*, *Korean*, *French*, *German*, *Italian* and *Indonesian*. \n",
        "\n",
        "\n",
        "\n",
        " "
      ]
    }
  ]
}
