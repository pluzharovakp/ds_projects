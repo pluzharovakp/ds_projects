{
  "nbformat": 4,
  "nbformat_minor": 0,
  "metadata": {
    "colab": {
      "name": "Final_project.ipynb",
      "provenance": [],
      "collapsed_sections": [
        "rBbsRC1bkcJr"
      ],
      "toc_visible": true
    },
    "kernelspec": {
      "name": "python3",
      "display_name": "Python 3"
    }
  },
  "cells": [
    {
      "cell_type": "markdown",
      "metadata": {
        "id": "pLLKixAcDyzx"
      },
      "source": [
        "# Interconnect DS Project"
      ]
    },
    {
      "cell_type": "markdown",
      "metadata": {
        "id": "FqmCCr-y1dZ3"
      },
      "source": [
        "# Project Description\n",
        "\n",
        "The telecom operator Interconnect would like to be able to forecast their churn of clients. If it's discovered that a user is planning to leave, they will be offered promotional codes and special plan options. Interconnect's marketing team has collected some of their clientele's personal data, including information about their plans and contracts."
      ]
    },
    {
      "cell_type": "markdown",
      "metadata": {
        "id": "45ympywfJQMG"
      },
      "source": [
        "# **Plan**\n",
        "\n",
        "1.   [Data Preprocessing](#Data-Preprocessing)\n",
        "  *   Look at the data\n",
        "  *   Change data types\n",
        "  *   Join the tables\n",
        "  *   Make decition about NaN values\n",
        "2.   [EDA](#EDA)\n",
        "  *  Figure out what data is more relevant for prediction task and what is the target value\n",
        "  *  Try to find some pattern or new info that can be used\n",
        "3.   [Models training](#Model-Training)\n",
        "  *  Use cross-validation for better traning\n",
        "  *  Hyperparameter tuning\n",
        "  *  Choose the best model rest on the choosen metric (AUC-ROC)\n",
        "4.   [Test the model](#Test-the-model)\n",
        "5. [Conclusion](#Solution-Report) \n"
      ]
    },
    {
      "cell_type": "code",
      "metadata": {
        "colab": {
          "base_uri": "https://localhost:8080/"
        },
        "id": "dLJ3cuoQlT3J",
        "outputId": "72cf7c47-3988-4787-d8ca-b3195e8ecbd4"
      },
      "source": [
        "#hide\n",
        "from google.colab import drive\n",
        "drive.mount('/content/drive')"
      ],
      "execution_count": null,
      "outputs": [
        {
          "output_type": "stream",
          "text": [
            "Drive already mounted at /content/drive; to attempt to forcibly remount, call drive.mount(\"/content/drive\", force_remount=True).\n"
          ],
          "name": "stdout"
        }
      ]
    },
    {
      "cell_type": "code",
      "metadata": {
        "colab": {
          "base_uri": "https://localhost:8080/"
        },
        "id": "Qw3qTS_UGcUY",
        "outputId": "447da094-76e3-4286-c477-edbada34b9ac"
      },
      "source": [
        "#collapse_output\n",
        "!pip3 install catboost"
      ],
      "execution_count": null,
      "outputs": [
        {
          "output_type": "stream",
          "text": [
            "Collecting catboost\n",
            "\u001b[?25l  Downloading https://files.pythonhosted.org/packages/96/3b/bb419654adcf7efff42ed8a3f84e50c8f236424b7ed1cc8ccd290852e003/catboost-0.24.4-cp37-none-manylinux1_x86_64.whl (65.7MB)\n",
            "\u001b[K     |████████████████████████████████| 65.7MB 71kB/s \n",
            "\u001b[?25hRequirement already satisfied: pandas>=0.24.0 in /usr/local/lib/python3.7/dist-packages (from catboost) (1.1.5)\n",
            "Requirement already satisfied: numpy>=1.16.0 in /usr/local/lib/python3.7/dist-packages (from catboost) (1.19.5)\n",
            "Requirement already satisfied: scipy in /usr/local/lib/python3.7/dist-packages (from catboost) (1.4.1)\n",
            "Requirement already satisfied: six in /usr/local/lib/python3.7/dist-packages (from catboost) (1.15.0)\n",
            "Requirement already satisfied: graphviz in /usr/local/lib/python3.7/dist-packages (from catboost) (0.10.1)\n",
            "Requirement already satisfied: matplotlib in /usr/local/lib/python3.7/dist-packages (from catboost) (3.2.2)\n",
            "Requirement already satisfied: plotly in /usr/local/lib/python3.7/dist-packages (from catboost) (4.4.1)\n",
            "Requirement already satisfied: pytz>=2017.2 in /usr/local/lib/python3.7/dist-packages (from pandas>=0.24.0->catboost) (2018.9)\n",
            "Requirement already satisfied: python-dateutil>=2.7.3 in /usr/local/lib/python3.7/dist-packages (from pandas>=0.24.0->catboost) (2.8.1)\n",
            "Requirement already satisfied: kiwisolver>=1.0.1 in /usr/local/lib/python3.7/dist-packages (from matplotlib->catboost) (1.3.1)\n",
            "Requirement already satisfied: cycler>=0.10 in /usr/local/lib/python3.7/dist-packages (from matplotlib->catboost) (0.10.0)\n",
            "Requirement already satisfied: pyparsing!=2.0.4,!=2.1.2,!=2.1.6,>=2.0.1 in /usr/local/lib/python3.7/dist-packages (from matplotlib->catboost) (2.4.7)\n",
            "Requirement already satisfied: retrying>=1.3.3 in /usr/local/lib/python3.7/dist-packages (from plotly->catboost) (1.3.3)\n",
            "Installing collected packages: catboost\n",
            "Successfully installed catboost-0.24.4\n"
          ],
          "name": "stdout"
        }
      ]
    },
    {
      "cell_type": "code",
      "metadata": {
        "id": "bNWghwHYlaKa"
      },
      "source": [
        "import pandas as pd\n",
        "import numpy as np\n",
        "from lightgbm import LGBMRegressor, cv, Dataset\n",
        "from catboost import Pool, CatBoostRegressor\n",
        "from sklearn.ensemble import RandomForestRegressor\n",
        "from sklearn.ensemble import RandomForestClassifier\n",
        "from sklearn.tree import DecisionTreeClassifier\n",
        "from sklearn.model_selection import train_test_split\n",
        "from sklearn.linear_model import LinearRegression\n",
        "from sklearn.metrics import roc_auc_score\n",
        "from sklearn.preprocessing import OrdinalEncoder, StandardScaler, LabelEncoder, OneHotEncoder\n",
        "from sklearn.model_selection import GridSearchCV\n",
        "from sklearn.metrics import make_scorer\n",
        "from sklearn.dummy import DummyRegressor\n",
        "from sklearn.ensemble import GradientBoostingRegressor"
      ],
      "execution_count": null,
      "outputs": []
    },
    {
      "cell_type": "markdown",
      "metadata": {
        "id": "WoLujq7aGxcu"
      },
      "source": [
        "# **Data Preprocessing**"
      ]
    },
    {
      "cell_type": "code",
      "metadata": {
        "id": "hNFtZ5Zh9y-j"
      },
      "source": [
        "#hide\n",
        "path_to_contract =  '/content/drive/My Drive/final_project_data/final_provider/contract.csv'\n",
        "path_to_internet =  '/content/drive/My Drive/final_project_data/final_provider/internet.csv'\n",
        "path_to_personal =  '/content/drive/My Drive/final_project_data/final_provider/personal.csv'\n",
        "path_to_phone =  '/content/drive/My Drive/final_project_data/final_provider/phone.csv'"
      ],
      "execution_count": null,
      "outputs": []
    },
    {
      "cell_type": "code",
      "metadata": {
        "id": "qUgZO8rnrdC-"
      },
      "source": [
        "contract =  pd.read_csv(path_to_contract)\n",
        "internet =  pd.read_csv(path_to_internet)\n",
        "personal =  pd.read_csv(path_to_personal)\n",
        "phone =  pd.read_csv(path_to_phone)"
      ],
      "execution_count": null,
      "outputs": []
    },
    {
      "cell_type": "code",
      "metadata": {
        "colab": {
          "base_uri": "https://localhost:8080/"
        },
        "id": "Y0oUN84I0Q_X",
        "outputId": "7859f2fb-427c-41e4-904d-7428489f985c"
      },
      "source": [
        "contract.info()"
      ],
      "execution_count": null,
      "outputs": [
        {
          "output_type": "stream",
          "text": [
            "<class 'pandas.core.frame.DataFrame'>\n",
            "RangeIndex: 7043 entries, 0 to 7042\n",
            "Data columns (total 8 columns):\n",
            " #   Column            Non-Null Count  Dtype  \n",
            "---  ------            --------------  -----  \n",
            " 0   customerID        7043 non-null   object \n",
            " 1   BeginDate         7043 non-null   object \n",
            " 2   EndDate           7043 non-null   object \n",
            " 3   Type              7043 non-null   object \n",
            " 4   PaperlessBilling  7043 non-null   object \n",
            " 5   PaymentMethod     7043 non-null   object \n",
            " 6   MonthlyCharges    7043 non-null   float64\n",
            " 7   TotalCharges      7043 non-null   object \n",
            "dtypes: float64(1), object(7)\n",
            "memory usage: 440.3+ KB\n"
          ],
          "name": "stdout"
        }
      ]
    },
    {
      "cell_type": "code",
      "metadata": {
        "colab": {
          "base_uri": "https://localhost:8080/"
        },
        "id": "7X9ibAaTi5Iu",
        "outputId": "d22bd9de-d360-4173-e2b3-dd8b458ccc5c"
      },
      "source": [
        "internet.info()"
      ],
      "execution_count": null,
      "outputs": [
        {
          "output_type": "stream",
          "text": [
            "<class 'pandas.core.frame.DataFrame'>\n",
            "RangeIndex: 5517 entries, 0 to 5516\n",
            "Data columns (total 8 columns):\n",
            " #   Column            Non-Null Count  Dtype \n",
            "---  ------            --------------  ----- \n",
            " 0   customerID        5517 non-null   object\n",
            " 1   InternetService   5517 non-null   object\n",
            " 2   OnlineSecurity    5517 non-null   object\n",
            " 3   OnlineBackup      5517 non-null   object\n",
            " 4   DeviceProtection  5517 non-null   object\n",
            " 5   TechSupport       5517 non-null   object\n",
            " 6   StreamingTV       5517 non-null   object\n",
            " 7   StreamingMovies   5517 non-null   object\n",
            "dtypes: object(8)\n",
            "memory usage: 344.9+ KB\n"
          ],
          "name": "stdout"
        }
      ]
    },
    {
      "cell_type": "code",
      "metadata": {
        "colab": {
          "base_uri": "https://localhost:8080/"
        },
        "id": "49ywzelyi54l",
        "outputId": "f13546b7-ac81-4861-e19d-9f4568f1a81c"
      },
      "source": [
        "personal.info()"
      ],
      "execution_count": null,
      "outputs": [
        {
          "output_type": "stream",
          "text": [
            "<class 'pandas.core.frame.DataFrame'>\n",
            "RangeIndex: 7043 entries, 0 to 7042\n",
            "Data columns (total 5 columns):\n",
            " #   Column         Non-Null Count  Dtype \n",
            "---  ------         --------------  ----- \n",
            " 0   customerID     7043 non-null   object\n",
            " 1   gender         7043 non-null   object\n",
            " 2   SeniorCitizen  7043 non-null   int64 \n",
            " 3   Partner        7043 non-null   object\n",
            " 4   Dependents     7043 non-null   object\n",
            "dtypes: int64(1), object(4)\n",
            "memory usage: 275.2+ KB\n"
          ],
          "name": "stdout"
        }
      ]
    },
    {
      "cell_type": "code",
      "metadata": {
        "colab": {
          "base_uri": "https://localhost:8080/"
        },
        "id": "hay2c2ADi6O9",
        "outputId": "fa401665-cde6-40e9-88ef-a961887e515a"
      },
      "source": [
        "phone.info()"
      ],
      "execution_count": null,
      "outputs": [
        {
          "output_type": "stream",
          "text": [
            "<class 'pandas.core.frame.DataFrame'>\n",
            "RangeIndex: 6361 entries, 0 to 6360\n",
            "Data columns (total 2 columns):\n",
            " #   Column         Non-Null Count  Dtype \n",
            "---  ------         --------------  ----- \n",
            " 0   customerID     6361 non-null   object\n",
            " 1   MultipleLines  6361 non-null   object\n",
            "dtypes: object(2)\n",
            "memory usage: 99.5+ KB\n"
          ],
          "name": "stdout"
        }
      ]
    },
    {
      "cell_type": "code",
      "metadata": {
        "colab": {
          "base_uri": "https://localhost:8080/",
          "height": 197
        },
        "id": "FWxh3AeMi6hd",
        "outputId": "2f5c6c66-7280-4170-b1e4-f5dc4483fc25"
      },
      "source": [
        "#collapse_output\n",
        "contract.head()"
      ],
      "execution_count": null,
      "outputs": [
        {
          "output_type": "execute_result",
          "data": {
            "text/html": [
              "<div>\n",
              "<style scoped>\n",
              "    .dataframe tbody tr th:only-of-type {\n",
              "        vertical-align: middle;\n",
              "    }\n",
              "\n",
              "    .dataframe tbody tr th {\n",
              "        vertical-align: top;\n",
              "    }\n",
              "\n",
              "    .dataframe thead th {\n",
              "        text-align: right;\n",
              "    }\n",
              "</style>\n",
              "<table border=\"1\" class=\"dataframe\">\n",
              "  <thead>\n",
              "    <tr style=\"text-align: right;\">\n",
              "      <th></th>\n",
              "      <th>customerID</th>\n",
              "      <th>BeginDate</th>\n",
              "      <th>EndDate</th>\n",
              "      <th>Type</th>\n",
              "      <th>PaperlessBilling</th>\n",
              "      <th>PaymentMethod</th>\n",
              "      <th>MonthlyCharges</th>\n",
              "      <th>TotalCharges</th>\n",
              "    </tr>\n",
              "  </thead>\n",
              "  <tbody>\n",
              "    <tr>\n",
              "      <th>0</th>\n",
              "      <td>7590-VHVEG</td>\n",
              "      <td>2020-01-01</td>\n",
              "      <td>No</td>\n",
              "      <td>Month-to-month</td>\n",
              "      <td>Yes</td>\n",
              "      <td>Electronic check</td>\n",
              "      <td>29.85</td>\n",
              "      <td>29.85</td>\n",
              "    </tr>\n",
              "    <tr>\n",
              "      <th>1</th>\n",
              "      <td>5575-GNVDE</td>\n",
              "      <td>2017-04-01</td>\n",
              "      <td>No</td>\n",
              "      <td>One year</td>\n",
              "      <td>No</td>\n",
              "      <td>Mailed check</td>\n",
              "      <td>56.95</td>\n",
              "      <td>1889.5</td>\n",
              "    </tr>\n",
              "    <tr>\n",
              "      <th>2</th>\n",
              "      <td>3668-QPYBK</td>\n",
              "      <td>2019-10-01</td>\n",
              "      <td>2019-12-01 00:00:00</td>\n",
              "      <td>Month-to-month</td>\n",
              "      <td>Yes</td>\n",
              "      <td>Mailed check</td>\n",
              "      <td>53.85</td>\n",
              "      <td>108.15</td>\n",
              "    </tr>\n",
              "    <tr>\n",
              "      <th>3</th>\n",
              "      <td>7795-CFOCW</td>\n",
              "      <td>2016-05-01</td>\n",
              "      <td>No</td>\n",
              "      <td>One year</td>\n",
              "      <td>No</td>\n",
              "      <td>Bank transfer (automatic)</td>\n",
              "      <td>42.30</td>\n",
              "      <td>1840.75</td>\n",
              "    </tr>\n",
              "    <tr>\n",
              "      <th>4</th>\n",
              "      <td>9237-HQITU</td>\n",
              "      <td>2019-09-01</td>\n",
              "      <td>2019-11-01 00:00:00</td>\n",
              "      <td>Month-to-month</td>\n",
              "      <td>Yes</td>\n",
              "      <td>Electronic check</td>\n",
              "      <td>70.70</td>\n",
              "      <td>151.65</td>\n",
              "    </tr>\n",
              "  </tbody>\n",
              "</table>\n",
              "</div>"
            ],
            "text/plain": [
              "   customerID   BeginDate  ... MonthlyCharges TotalCharges\n",
              "0  7590-VHVEG  2020-01-01  ...          29.85        29.85\n",
              "1  5575-GNVDE  2017-04-01  ...          56.95       1889.5\n",
              "2  3668-QPYBK  2019-10-01  ...          53.85       108.15\n",
              "3  7795-CFOCW  2016-05-01  ...          42.30      1840.75\n",
              "4  9237-HQITU  2019-09-01  ...          70.70       151.65\n",
              "\n",
              "[5 rows x 8 columns]"
            ]
          },
          "metadata": {
            "tags": []
          },
          "execution_count": 10
        }
      ]
    },
    {
      "cell_type": "code",
      "metadata": {
        "colab": {
          "base_uri": "https://localhost:8080/",
          "height": 197
        },
        "id": "fYBpxaQbxB9A",
        "outputId": "489cb8d7-181d-4839-f27d-90483382f6c1"
      },
      "source": [
        "#collapse_output\n",
        "internet.head()"
      ],
      "execution_count": null,
      "outputs": [
        {
          "output_type": "execute_result",
          "data": {
            "text/html": [
              "<div>\n",
              "<style scoped>\n",
              "    .dataframe tbody tr th:only-of-type {\n",
              "        vertical-align: middle;\n",
              "    }\n",
              "\n",
              "    .dataframe tbody tr th {\n",
              "        vertical-align: top;\n",
              "    }\n",
              "\n",
              "    .dataframe thead th {\n",
              "        text-align: right;\n",
              "    }\n",
              "</style>\n",
              "<table border=\"1\" class=\"dataframe\">\n",
              "  <thead>\n",
              "    <tr style=\"text-align: right;\">\n",
              "      <th></th>\n",
              "      <th>customerID</th>\n",
              "      <th>InternetService</th>\n",
              "      <th>OnlineSecurity</th>\n",
              "      <th>OnlineBackup</th>\n",
              "      <th>DeviceProtection</th>\n",
              "      <th>TechSupport</th>\n",
              "      <th>StreamingTV</th>\n",
              "      <th>StreamingMovies</th>\n",
              "    </tr>\n",
              "  </thead>\n",
              "  <tbody>\n",
              "    <tr>\n",
              "      <th>0</th>\n",
              "      <td>7590-VHVEG</td>\n",
              "      <td>DSL</td>\n",
              "      <td>No</td>\n",
              "      <td>Yes</td>\n",
              "      <td>No</td>\n",
              "      <td>No</td>\n",
              "      <td>No</td>\n",
              "      <td>No</td>\n",
              "    </tr>\n",
              "    <tr>\n",
              "      <th>1</th>\n",
              "      <td>5575-GNVDE</td>\n",
              "      <td>DSL</td>\n",
              "      <td>Yes</td>\n",
              "      <td>No</td>\n",
              "      <td>Yes</td>\n",
              "      <td>No</td>\n",
              "      <td>No</td>\n",
              "      <td>No</td>\n",
              "    </tr>\n",
              "    <tr>\n",
              "      <th>2</th>\n",
              "      <td>3668-QPYBK</td>\n",
              "      <td>DSL</td>\n",
              "      <td>Yes</td>\n",
              "      <td>Yes</td>\n",
              "      <td>No</td>\n",
              "      <td>No</td>\n",
              "      <td>No</td>\n",
              "      <td>No</td>\n",
              "    </tr>\n",
              "    <tr>\n",
              "      <th>3</th>\n",
              "      <td>7795-CFOCW</td>\n",
              "      <td>DSL</td>\n",
              "      <td>Yes</td>\n",
              "      <td>No</td>\n",
              "      <td>Yes</td>\n",
              "      <td>Yes</td>\n",
              "      <td>No</td>\n",
              "      <td>No</td>\n",
              "    </tr>\n",
              "    <tr>\n",
              "      <th>4</th>\n",
              "      <td>9237-HQITU</td>\n",
              "      <td>Fiber optic</td>\n",
              "      <td>No</td>\n",
              "      <td>No</td>\n",
              "      <td>No</td>\n",
              "      <td>No</td>\n",
              "      <td>No</td>\n",
              "      <td>No</td>\n",
              "    </tr>\n",
              "  </tbody>\n",
              "</table>\n",
              "</div>"
            ],
            "text/plain": [
              "   customerID InternetService  ... StreamingTV StreamingMovies\n",
              "0  7590-VHVEG             DSL  ...          No              No\n",
              "1  5575-GNVDE             DSL  ...          No              No\n",
              "2  3668-QPYBK             DSL  ...          No              No\n",
              "3  7795-CFOCW             DSL  ...          No              No\n",
              "4  9237-HQITU     Fiber optic  ...          No              No\n",
              "\n",
              "[5 rows x 8 columns]"
            ]
          },
          "metadata": {
            "tags": []
          },
          "execution_count": 11
        }
      ]
    },
    {
      "cell_type": "code",
      "metadata": {
        "colab": {
          "base_uri": "https://localhost:8080/",
          "height": 197
        },
        "id": "QsnGUs-MxQwo",
        "outputId": "eaa99d10-451f-4f71-dc11-c22aa32eb447"
      },
      "source": [
        "#collapse_output\n",
        "personal.head()"
      ],
      "execution_count": null,
      "outputs": [
        {
          "output_type": "execute_result",
          "data": {
            "text/html": [
              "<div>\n",
              "<style scoped>\n",
              "    .dataframe tbody tr th:only-of-type {\n",
              "        vertical-align: middle;\n",
              "    }\n",
              "\n",
              "    .dataframe tbody tr th {\n",
              "        vertical-align: top;\n",
              "    }\n",
              "\n",
              "    .dataframe thead th {\n",
              "        text-align: right;\n",
              "    }\n",
              "</style>\n",
              "<table border=\"1\" class=\"dataframe\">\n",
              "  <thead>\n",
              "    <tr style=\"text-align: right;\">\n",
              "      <th></th>\n",
              "      <th>customerID</th>\n",
              "      <th>gender</th>\n",
              "      <th>SeniorCitizen</th>\n",
              "      <th>Partner</th>\n",
              "      <th>Dependents</th>\n",
              "    </tr>\n",
              "  </thead>\n",
              "  <tbody>\n",
              "    <tr>\n",
              "      <th>0</th>\n",
              "      <td>7590-VHVEG</td>\n",
              "      <td>Female</td>\n",
              "      <td>0</td>\n",
              "      <td>Yes</td>\n",
              "      <td>No</td>\n",
              "    </tr>\n",
              "    <tr>\n",
              "      <th>1</th>\n",
              "      <td>5575-GNVDE</td>\n",
              "      <td>Male</td>\n",
              "      <td>0</td>\n",
              "      <td>No</td>\n",
              "      <td>No</td>\n",
              "    </tr>\n",
              "    <tr>\n",
              "      <th>2</th>\n",
              "      <td>3668-QPYBK</td>\n",
              "      <td>Male</td>\n",
              "      <td>0</td>\n",
              "      <td>No</td>\n",
              "      <td>No</td>\n",
              "    </tr>\n",
              "    <tr>\n",
              "      <th>3</th>\n",
              "      <td>7795-CFOCW</td>\n",
              "      <td>Male</td>\n",
              "      <td>0</td>\n",
              "      <td>No</td>\n",
              "      <td>No</td>\n",
              "    </tr>\n",
              "    <tr>\n",
              "      <th>4</th>\n",
              "      <td>9237-HQITU</td>\n",
              "      <td>Female</td>\n",
              "      <td>0</td>\n",
              "      <td>No</td>\n",
              "      <td>No</td>\n",
              "    </tr>\n",
              "  </tbody>\n",
              "</table>\n",
              "</div>"
            ],
            "text/plain": [
              "   customerID  gender  SeniorCitizen Partner Dependents\n",
              "0  7590-VHVEG  Female              0     Yes         No\n",
              "1  5575-GNVDE    Male              0      No         No\n",
              "2  3668-QPYBK    Male              0      No         No\n",
              "3  7795-CFOCW    Male              0      No         No\n",
              "4  9237-HQITU  Female              0      No         No"
            ]
          },
          "metadata": {
            "tags": []
          },
          "execution_count": 12
        }
      ]
    },
    {
      "cell_type": "code",
      "metadata": {
        "colab": {
          "base_uri": "https://localhost:8080/",
          "height": 197
        },
        "id": "3vJLh25OxTL_",
        "outputId": "73b5f1d6-6218-4d80-84c1-e817ba2dce14"
      },
      "source": [
        "#collapse_output\n",
        "phone.head()"
      ],
      "execution_count": null,
      "outputs": [
        {
          "output_type": "execute_result",
          "data": {
            "text/html": [
              "<div>\n",
              "<style scoped>\n",
              "    .dataframe tbody tr th:only-of-type {\n",
              "        vertical-align: middle;\n",
              "    }\n",
              "\n",
              "    .dataframe tbody tr th {\n",
              "        vertical-align: top;\n",
              "    }\n",
              "\n",
              "    .dataframe thead th {\n",
              "        text-align: right;\n",
              "    }\n",
              "</style>\n",
              "<table border=\"1\" class=\"dataframe\">\n",
              "  <thead>\n",
              "    <tr style=\"text-align: right;\">\n",
              "      <th></th>\n",
              "      <th>customerID</th>\n",
              "      <th>MultipleLines</th>\n",
              "    </tr>\n",
              "  </thead>\n",
              "  <tbody>\n",
              "    <tr>\n",
              "      <th>0</th>\n",
              "      <td>5575-GNVDE</td>\n",
              "      <td>No</td>\n",
              "    </tr>\n",
              "    <tr>\n",
              "      <th>1</th>\n",
              "      <td>3668-QPYBK</td>\n",
              "      <td>No</td>\n",
              "    </tr>\n",
              "    <tr>\n",
              "      <th>2</th>\n",
              "      <td>9237-HQITU</td>\n",
              "      <td>No</td>\n",
              "    </tr>\n",
              "    <tr>\n",
              "      <th>3</th>\n",
              "      <td>9305-CDSKC</td>\n",
              "      <td>Yes</td>\n",
              "    </tr>\n",
              "    <tr>\n",
              "      <th>4</th>\n",
              "      <td>1452-KIOVK</td>\n",
              "      <td>Yes</td>\n",
              "    </tr>\n",
              "  </tbody>\n",
              "</table>\n",
              "</div>"
            ],
            "text/plain": [
              "   customerID MultipleLines\n",
              "0  5575-GNVDE            No\n",
              "1  3668-QPYBK            No\n",
              "2  9237-HQITU            No\n",
              "3  9305-CDSKC           Yes\n",
              "4  1452-KIOVK           Yes"
            ]
          },
          "metadata": {
            "tags": []
          },
          "execution_count": 13
        }
      ]
    },
    {
      "cell_type": "code",
      "metadata": {
        "id": "YuKz7QXGzBZU"
      },
      "source": [
        "internet['FiberOptic'] = (internet['InternetService'] == 'Fiber optic').astype(int)\n",
        "internet = internet.drop(columns=['InternetService'])"
      ],
      "execution_count": null,
      "outputs": []
    },
    {
      "cell_type": "code",
      "metadata": {
        "id": "mJLC9T6qkX4W"
      },
      "source": [
        "df = contract.merge(phone, on='customerID', how='left')\n",
        "df = df.merge(internet, on='customerID', how='left')\n",
        "df = df.merge(personal, on='customerID', how='left')"
      ],
      "execution_count": null,
      "outputs": []
    },
    {
      "cell_type": "code",
      "metadata": {
        "colab": {
          "base_uri": "https://localhost:8080/",
          "height": 351
        },
        "id": "oux6jPcJ63GB",
        "outputId": "77c25f57-6574-4110-ea54-badf08a8b6e2"
      },
      "source": [
        "df.head()"
      ],
      "execution_count": null,
      "outputs": [
        {
          "output_type": "execute_result",
          "data": {
            "text/html": [
              "<div>\n",
              "<style scoped>\n",
              "    .dataframe tbody tr th:only-of-type {\n",
              "        vertical-align: middle;\n",
              "    }\n",
              "\n",
              "    .dataframe tbody tr th {\n",
              "        vertical-align: top;\n",
              "    }\n",
              "\n",
              "    .dataframe thead th {\n",
              "        text-align: right;\n",
              "    }\n",
              "</style>\n",
              "<table border=\"1\" class=\"dataframe\">\n",
              "  <thead>\n",
              "    <tr style=\"text-align: right;\">\n",
              "      <th></th>\n",
              "      <th>customerID</th>\n",
              "      <th>BeginDate</th>\n",
              "      <th>EndDate</th>\n",
              "      <th>Type</th>\n",
              "      <th>PaperlessBilling</th>\n",
              "      <th>PaymentMethod</th>\n",
              "      <th>MonthlyCharges</th>\n",
              "      <th>TotalCharges</th>\n",
              "      <th>MultipleLines</th>\n",
              "      <th>OnlineSecurity</th>\n",
              "      <th>OnlineBackup</th>\n",
              "      <th>DeviceProtection</th>\n",
              "      <th>TechSupport</th>\n",
              "      <th>StreamingTV</th>\n",
              "      <th>StreamingMovies</th>\n",
              "      <th>FiberOptic</th>\n",
              "      <th>gender</th>\n",
              "      <th>SeniorCitizen</th>\n",
              "      <th>Partner</th>\n",
              "      <th>Dependents</th>\n",
              "    </tr>\n",
              "  </thead>\n",
              "  <tbody>\n",
              "    <tr>\n",
              "      <th>0</th>\n",
              "      <td>7590-VHVEG</td>\n",
              "      <td>2020-01-01</td>\n",
              "      <td>No</td>\n",
              "      <td>Month-to-month</td>\n",
              "      <td>Yes</td>\n",
              "      <td>Electronic check</td>\n",
              "      <td>29.85</td>\n",
              "      <td>29.85</td>\n",
              "      <td>NaN</td>\n",
              "      <td>No</td>\n",
              "      <td>Yes</td>\n",
              "      <td>No</td>\n",
              "      <td>No</td>\n",
              "      <td>No</td>\n",
              "      <td>No</td>\n",
              "      <td>0.0</td>\n",
              "      <td>Female</td>\n",
              "      <td>0</td>\n",
              "      <td>Yes</td>\n",
              "      <td>No</td>\n",
              "    </tr>\n",
              "    <tr>\n",
              "      <th>1</th>\n",
              "      <td>5575-GNVDE</td>\n",
              "      <td>2017-04-01</td>\n",
              "      <td>No</td>\n",
              "      <td>One year</td>\n",
              "      <td>No</td>\n",
              "      <td>Mailed check</td>\n",
              "      <td>56.95</td>\n",
              "      <td>1889.5</td>\n",
              "      <td>No</td>\n",
              "      <td>Yes</td>\n",
              "      <td>No</td>\n",
              "      <td>Yes</td>\n",
              "      <td>No</td>\n",
              "      <td>No</td>\n",
              "      <td>No</td>\n",
              "      <td>0.0</td>\n",
              "      <td>Male</td>\n",
              "      <td>0</td>\n",
              "      <td>No</td>\n",
              "      <td>No</td>\n",
              "    </tr>\n",
              "    <tr>\n",
              "      <th>2</th>\n",
              "      <td>3668-QPYBK</td>\n",
              "      <td>2019-10-01</td>\n",
              "      <td>2019-12-01 00:00:00</td>\n",
              "      <td>Month-to-month</td>\n",
              "      <td>Yes</td>\n",
              "      <td>Mailed check</td>\n",
              "      <td>53.85</td>\n",
              "      <td>108.15</td>\n",
              "      <td>No</td>\n",
              "      <td>Yes</td>\n",
              "      <td>Yes</td>\n",
              "      <td>No</td>\n",
              "      <td>No</td>\n",
              "      <td>No</td>\n",
              "      <td>No</td>\n",
              "      <td>0.0</td>\n",
              "      <td>Male</td>\n",
              "      <td>0</td>\n",
              "      <td>No</td>\n",
              "      <td>No</td>\n",
              "    </tr>\n",
              "    <tr>\n",
              "      <th>3</th>\n",
              "      <td>7795-CFOCW</td>\n",
              "      <td>2016-05-01</td>\n",
              "      <td>No</td>\n",
              "      <td>One year</td>\n",
              "      <td>No</td>\n",
              "      <td>Bank transfer (automatic)</td>\n",
              "      <td>42.30</td>\n",
              "      <td>1840.75</td>\n",
              "      <td>NaN</td>\n",
              "      <td>Yes</td>\n",
              "      <td>No</td>\n",
              "      <td>Yes</td>\n",
              "      <td>Yes</td>\n",
              "      <td>No</td>\n",
              "      <td>No</td>\n",
              "      <td>0.0</td>\n",
              "      <td>Male</td>\n",
              "      <td>0</td>\n",
              "      <td>No</td>\n",
              "      <td>No</td>\n",
              "    </tr>\n",
              "    <tr>\n",
              "      <th>4</th>\n",
              "      <td>9237-HQITU</td>\n",
              "      <td>2019-09-01</td>\n",
              "      <td>2019-11-01 00:00:00</td>\n",
              "      <td>Month-to-month</td>\n",
              "      <td>Yes</td>\n",
              "      <td>Electronic check</td>\n",
              "      <td>70.70</td>\n",
              "      <td>151.65</td>\n",
              "      <td>No</td>\n",
              "      <td>No</td>\n",
              "      <td>No</td>\n",
              "      <td>No</td>\n",
              "      <td>No</td>\n",
              "      <td>No</td>\n",
              "      <td>No</td>\n",
              "      <td>1.0</td>\n",
              "      <td>Female</td>\n",
              "      <td>0</td>\n",
              "      <td>No</td>\n",
              "      <td>No</td>\n",
              "    </tr>\n",
              "  </tbody>\n",
              "</table>\n",
              "</div>"
            ],
            "text/plain": [
              "   customerID   BeginDate  ... Partner Dependents\n",
              "0  7590-VHVEG  2020-01-01  ...     Yes         No\n",
              "1  5575-GNVDE  2017-04-01  ...      No         No\n",
              "2  3668-QPYBK  2019-10-01  ...      No         No\n",
              "3  7795-CFOCW  2016-05-01  ...      No         No\n",
              "4  9237-HQITU  2019-09-01  ...      No         No\n",
              "\n",
              "[5 rows x 20 columns]"
            ]
          },
          "metadata": {
            "tags": []
          },
          "execution_count": 16
        }
      ]
    },
    {
      "cell_type": "code",
      "metadata": {
        "id": "vXcGaeOwarbN"
      },
      "source": [
        "df['TotalCharges'] = pd.to_numeric(df['TotalCharges'],errors='coerce')\n",
        "df['TotalCharges'] = df['TotalCharges'].round(2)"
      ],
      "execution_count": null,
      "outputs": []
    },
    {
      "cell_type": "code",
      "metadata": {
        "id": "QoWNPrtokdhu"
      },
      "source": [
        "columns = ['MultipleLines', 'OnlineSecurity', 'OnlineBackup', 'DeviceProtection', 'TechSupport', 'StreamingTV', \n",
        "           'StreamingMovies', 'FiberOptic', 'SeniorCitizen', 'PaperlessBilling', 'Partner',\t'Dependents', 'TotalCharges','MonthlyCharges']\n",
        "for i in columns:\n",
        "  df[i] = df[i].replace('No', 0)\n",
        "  df[i] = df[i].replace('Yes', 1)\n",
        "  df[i] =  df[i].fillna(0)\n",
        "  df[i] = df[i].astype(int)"
      ],
      "execution_count": null,
      "outputs": []
    },
    {
      "cell_type": "code",
      "metadata": {
        "id": "LD3kIARy5c3y"
      },
      "source": [
        "df['BeginDate'] = pd.to_datetime(df['BeginDate'], format='%Y-%m-%d')"
      ],
      "execution_count": null,
      "outputs": []
    },
    {
      "cell_type": "code",
      "metadata": {
        "id": "OnfJASx94gy7"
      },
      "source": [
        "df['Woman'] = (df['gender'] == 'Female').astype(int)\n",
        "df = df.drop(columns=['gender'])"
      ],
      "execution_count": null,
      "outputs": []
    },
    {
      "cell_type": "markdown",
      "metadata": {
        "id": "DbeplV_LJ2lX"
      },
      "source": [
        "Need to explore ex-users and find something common between them. \n",
        "\n",
        "For client who didn't exist in phone or internet tables NaN values should be fiiled with False value or 0 in the case. Probably they didn't use those services. "
      ]
    },
    {
      "cell_type": "markdown",
      "metadata": {
        "id": "rBbsRC1bkcJr"
      },
      "source": [
        "# **EDA**"
      ]
    },
    {
      "cell_type": "code",
      "metadata": {
        "colab": {
          "base_uri": "https://localhost:8080/"
        },
        "id": "4DzyxnHXMYn1",
        "outputId": "616b75b2-2bdb-4fee-d7a9-fab93c5c363e"
      },
      "source": [
        "df['EndDate'].value_counts()"
      ],
      "execution_count": null,
      "outputs": [
        {
          "output_type": "execute_result",
          "data": {
            "text/plain": [
              "No                     5174\n",
              "2019-11-01 00:00:00     485\n",
              "2019-12-01 00:00:00     466\n",
              "2020-01-01 00:00:00     460\n",
              "2019-10-01 00:00:00     458\n",
              "Name: EndDate, dtype: int64"
            ]
          },
          "metadata": {
            "tags": []
          },
          "execution_count": 21
        }
      ]
    },
    {
      "cell_type": "code",
      "metadata": {
        "id": "P87gm8npEQ3-"
      },
      "source": [
        "current_users = df.loc[df['EndDate'] == 'No']"
      ],
      "execution_count": null,
      "outputs": []
    },
    {
      "cell_type": "code",
      "metadata": {
        "id": "CejKPKr1kYMV"
      },
      "source": [
        "ex_users = df.loc[df['EndDate'] != 'No']"
      ],
      "execution_count": null,
      "outputs": []
    },
    {
      "cell_type": "code",
      "metadata": {
        "colab": {
          "base_uri": "https://localhost:8080/"
        },
        "id": "JWxzqilcMzC0",
        "outputId": "c19175c5-a5cb-4104-c2ef-1c60c44db68a"
      },
      "source": [
        "ex_users['BeginDate'] = ex_users['BeginDate'].dt.year\n",
        "current_users['BeginDate'] = current_users['BeginDate'].dt.year"
      ],
      "execution_count": null,
      "outputs": [
        {
          "output_type": "stream",
          "text": [
            "/usr/local/lib/python3.7/dist-packages/ipykernel_launcher.py:1: SettingWithCopyWarning: \n",
            "A value is trying to be set on a copy of a slice from a DataFrame.\n",
            "Try using .loc[row_indexer,col_indexer] = value instead\n",
            "\n",
            "See the caveats in the documentation: https://pandas.pydata.org/pandas-docs/stable/user_guide/indexing.html#returning-a-view-versus-a-copy\n",
            "  \"\"\"Entry point for launching an IPython kernel.\n",
            "/usr/local/lib/python3.7/dist-packages/ipykernel_launcher.py:2: SettingWithCopyWarning: \n",
            "A value is trying to be set on a copy of a slice from a DataFrame.\n",
            "Try using .loc[row_indexer,col_indexer] = value instead\n",
            "\n",
            "See the caveats in the documentation: https://pandas.pydata.org/pandas-docs/stable/user_guide/indexing.html#returning-a-view-versus-a-copy\n",
            "  \n"
          ],
          "name": "stderr"
        }
      ]
    },
    {
      "cell_type": "code",
      "metadata": {
        "colab": {
          "base_uri": "https://localhost:8080/",
          "height": 282
        },
        "id": "mztcJsggQ7ir",
        "outputId": "7a2f3aa7-bedb-4dff-ce75-ab345e9da926"
      },
      "source": [
        "ex_users['BeginDate'].hist()"
      ],
      "execution_count": null,
      "outputs": [
        {
          "output_type": "execute_result",
          "data": {
            "text/plain": [
              "<matplotlib.axes._subplots.AxesSubplot at 0x7ff9c9338dd0>"
            ]
          },
          "metadata": {
            "tags": []
          },
          "execution_count": 25
        },
        {
          "output_type": "display_data",
          "data": {
            "image/png": "[encoded data removed]",
            "text/plain": [
              "<Figure size 432x288 with 1 Axes>"
            ]
          },
          "metadata": {
            "tags": [],
            "needs_background": "light"
          }
        }
      ]
    },
    {
      "cell_type": "markdown",
      "metadata": {
        "id": "jZlU7whaVd99"
      },
      "source": [
        "There are a lot of new users from 2019 year who probably decided to try, but the service didn't sute them for some reason."
      ]
    },
    {
      "cell_type": "code",
      "metadata": {
        "id": "6-8zGHFXtLjj"
      },
      "source": [
        "arg_difference = {'Ex-Users': ex_users.mean(), 'Current-Users': current_users.mean()}\n",
        "arg_difference_df = pd.DataFrame(data=arg_difference)"
      ],
      "execution_count": null,
      "outputs": []
    },
    {
      "cell_type": "code",
      "metadata": {
        "colab": {
          "base_uri": "https://localhost:8080/",
          "height": 527
        },
        "id": "hRH6_JE647g6",
        "outputId": "36dd78a7-29a7-4059-cddc-3d8898d03001"
      },
      "source": [
        "arg_difference_df"
      ],
      "execution_count": null,
      "outputs": [
        {
          "output_type": "execute_result",
          "data": {
            "text/html": [
              "<div>\n",
              "<style scoped>\n",
              "    .dataframe tbody tr th:only-of-type {\n",
              "        vertical-align: middle;\n",
              "    }\n",
              "\n",
              "    .dataframe tbody tr th {\n",
              "        vertical-align: top;\n",
              "    }\n",
              "\n",
              "    .dataframe thead th {\n",
              "        text-align: right;\n",
              "    }\n",
              "</style>\n",
              "<table border=\"1\" class=\"dataframe\">\n",
              "  <thead>\n",
              "    <tr style=\"text-align: right;\">\n",
              "      <th></th>\n",
              "      <th>Ex-Users</th>\n",
              "      <th>Current-Users</th>\n",
              "    </tr>\n",
              "  </thead>\n",
              "  <tbody>\n",
              "    <tr>\n",
              "      <th>BeginDate</th>\n",
              "      <td>2017.834671</td>\n",
              "      <td>2016.533243</td>\n",
              "    </tr>\n",
              "    <tr>\n",
              "      <th>PaperlessBilling</th>\n",
              "      <td>0.749064</td>\n",
              "      <td>0.535562</td>\n",
              "    </tr>\n",
              "    <tr>\n",
              "      <th>MonthlyCharges</th>\n",
              "      <td>73.979668</td>\n",
              "      <td>60.797835</td>\n",
              "    </tr>\n",
              "    <tr>\n",
              "      <th>TotalCharges</th>\n",
              "      <td>1531.323167</td>\n",
              "      <td>2549.443564</td>\n",
              "    </tr>\n",
              "    <tr>\n",
              "      <th>MultipleLines</th>\n",
              "      <td>0.454789</td>\n",
              "      <td>0.409934</td>\n",
              "    </tr>\n",
              "    <tr>\n",
              "      <th>OnlineSecurity</th>\n",
              "      <td>0.157838</td>\n",
              "      <td>0.333204</td>\n",
              "    </tr>\n",
              "    <tr>\n",
              "      <th>OnlineBackup</th>\n",
              "      <td>0.279829</td>\n",
              "      <td>0.368380</td>\n",
              "    </tr>\n",
              "    <tr>\n",
              "      <th>DeviceProtection</th>\n",
              "      <td>0.291600</td>\n",
              "      <td>0.362775</td>\n",
              "    </tr>\n",
              "    <tr>\n",
              "      <th>TechSupport</th>\n",
              "      <td>0.165864</td>\n",
              "      <td>0.335137</td>\n",
              "    </tr>\n",
              "    <tr>\n",
              "      <th>StreamingTV</th>\n",
              "      <td>0.435527</td>\n",
              "      <td>0.365868</td>\n",
              "    </tr>\n",
              "    <tr>\n",
              "      <th>StreamingMovies</th>\n",
              "      <td>0.437667</td>\n",
              "      <td>0.369927</td>\n",
              "    </tr>\n",
              "    <tr>\n",
              "      <th>FiberOptic</th>\n",
              "      <td>0.693954</td>\n",
              "      <td>0.347700</td>\n",
              "    </tr>\n",
              "    <tr>\n",
              "      <th>SeniorCitizen</th>\n",
              "      <td>0.254682</td>\n",
              "      <td>0.128721</td>\n",
              "    </tr>\n",
              "    <tr>\n",
              "      <th>Partner</th>\n",
              "      <td>0.357945</td>\n",
              "      <td>0.528218</td>\n",
              "    </tr>\n",
              "    <tr>\n",
              "      <th>Dependents</th>\n",
              "      <td>0.174425</td>\n",
              "      <td>0.344801</td>\n",
              "    </tr>\n",
              "    <tr>\n",
              "      <th>Woman</th>\n",
              "      <td>0.502408</td>\n",
              "      <td>0.492656</td>\n",
              "    </tr>\n",
              "  </tbody>\n",
              "</table>\n",
              "</div>"
            ],
            "text/plain": [
              "                     Ex-Users  Current-Users\n",
              "BeginDate         2017.834671    2016.533243\n",
              "PaperlessBilling     0.749064       0.535562\n",
              "MonthlyCharges      73.979668      60.797835\n",
              "TotalCharges      1531.323167    2549.443564\n",
              "MultipleLines        0.454789       0.409934\n",
              "OnlineSecurity       0.157838       0.333204\n",
              "OnlineBackup         0.279829       0.368380\n",
              "DeviceProtection     0.291600       0.362775\n",
              "TechSupport          0.165864       0.335137\n",
              "StreamingTV          0.435527       0.365868\n",
              "StreamingMovies      0.437667       0.369927\n",
              "FiberOptic           0.693954       0.347700\n",
              "SeniorCitizen        0.254682       0.128721\n",
              "Partner              0.357945       0.528218\n",
              "Dependents           0.174425       0.344801\n",
              "Woman                0.502408       0.492656"
            ]
          },
          "metadata": {
            "tags": []
          },
          "execution_count": 27
        }
      ]
    },
    {
      "cell_type": "code",
      "metadata": {
        "colab": {
          "base_uri": "https://localhost:8080/",
          "height": 287
        },
        "id": "ihHyFhdaBmx2",
        "outputId": "ca3b133d-ffba-4d16-85e4-0139f8a75c09"
      },
      "source": [
        "ex_users.groupby('BeginDate').mean()"
      ],
      "execution_count": null,
      "outputs": [
        {
          "output_type": "execute_result",
          "data": {
            "text/html": [
              "<div>\n",
              "<style scoped>\n",
              "    .dataframe tbody tr th:only-of-type {\n",
              "        vertical-align: middle;\n",
              "    }\n",
              "\n",
              "    .dataframe tbody tr th {\n",
              "        vertical-align: top;\n",
              "    }\n",
              "\n",
              "    .dataframe thead th {\n",
              "        text-align: right;\n",
              "    }\n",
              "</style>\n",
              "<table border=\"1\" class=\"dataframe\">\n",
              "  <thead>\n",
              "    <tr style=\"text-align: right;\">\n",
              "      <th></th>\n",
              "      <th>PaperlessBilling</th>\n",
              "      <th>MonthlyCharges</th>\n",
              "      <th>TotalCharges</th>\n",
              "      <th>MultipleLines</th>\n",
              "      <th>OnlineSecurity</th>\n",
              "      <th>OnlineBackup</th>\n",
              "      <th>DeviceProtection</th>\n",
              "      <th>TechSupport</th>\n",
              "      <th>StreamingTV</th>\n",
              "      <th>StreamingMovies</th>\n",
              "      <th>FiberOptic</th>\n",
              "      <th>SeniorCitizen</th>\n",
              "      <th>Partner</th>\n",
              "      <th>Dependents</th>\n",
              "      <th>Woman</th>\n",
              "    </tr>\n",
              "    <tr>\n",
              "      <th>BeginDate</th>\n",
              "      <th></th>\n",
              "      <th></th>\n",
              "      <th></th>\n",
              "      <th></th>\n",
              "      <th></th>\n",
              "      <th></th>\n",
              "      <th></th>\n",
              "      <th></th>\n",
              "      <th></th>\n",
              "      <th></th>\n",
              "      <th></th>\n",
              "      <th></th>\n",
              "      <th></th>\n",
              "      <th></th>\n",
              "      <th></th>\n",
              "    </tr>\n",
              "  </thead>\n",
              "  <tbody>\n",
              "    <tr>\n",
              "      <th>2013</th>\n",
              "      <td>0.750000</td>\n",
              "      <td>100.125000</td>\n",
              "      <td>7137.750000</td>\n",
              "      <td>1.000000</td>\n",
              "      <td>0.625000</td>\n",
              "      <td>0.625000</td>\n",
              "      <td>0.875000</td>\n",
              "      <td>0.750000</td>\n",
              "      <td>0.875000</td>\n",
              "      <td>0.875000</td>\n",
              "      <td>0.750000</td>\n",
              "      <td>0.250000</td>\n",
              "      <td>0.875000</td>\n",
              "      <td>0.250000</td>\n",
              "      <td>0.500000</td>\n",
              "    </tr>\n",
              "    <tr>\n",
              "      <th>2014</th>\n",
              "      <td>0.775510</td>\n",
              "      <td>95.724490</td>\n",
              "      <td>6316.387755</td>\n",
              "      <td>0.826531</td>\n",
              "      <td>0.326531</td>\n",
              "      <td>0.734694</td>\n",
              "      <td>0.663265</td>\n",
              "      <td>0.387755</td>\n",
              "      <td>0.836735</td>\n",
              "      <td>0.846939</td>\n",
              "      <td>0.846939</td>\n",
              "      <td>0.255102</td>\n",
              "      <td>0.724490</td>\n",
              "      <td>0.295918</td>\n",
              "      <td>0.367347</td>\n",
              "    </tr>\n",
              "    <tr>\n",
              "      <th>2015</th>\n",
              "      <td>0.756098</td>\n",
              "      <td>88.000000</td>\n",
              "      <td>4646.040650</td>\n",
              "      <td>0.747967</td>\n",
              "      <td>0.325203</td>\n",
              "      <td>0.560976</td>\n",
              "      <td>0.512195</td>\n",
              "      <td>0.243902</td>\n",
              "      <td>0.731707</td>\n",
              "      <td>0.699187</td>\n",
              "      <td>0.796748</td>\n",
              "      <td>0.308943</td>\n",
              "      <td>0.601626</td>\n",
              "      <td>0.203252</td>\n",
              "      <td>0.471545</td>\n",
              "    </tr>\n",
              "    <tr>\n",
              "      <th>2016</th>\n",
              "      <td>0.813793</td>\n",
              "      <td>83.882759</td>\n",
              "      <td>3441.834483</td>\n",
              "      <td>0.600000</td>\n",
              "      <td>0.262069</td>\n",
              "      <td>0.475862</td>\n",
              "      <td>0.510345</td>\n",
              "      <td>0.317241</td>\n",
              "      <td>0.613793</td>\n",
              "      <td>0.627586</td>\n",
              "      <td>0.744828</td>\n",
              "      <td>0.365517</td>\n",
              "      <td>0.482759</td>\n",
              "      <td>0.172414</td>\n",
              "      <td>0.503448</td>\n",
              "    </tr>\n",
              "    <tr>\n",
              "      <th>2017</th>\n",
              "      <td>0.804020</td>\n",
              "      <td>82.884422</td>\n",
              "      <td>2375.693467</td>\n",
              "      <td>0.643216</td>\n",
              "      <td>0.190955</td>\n",
              "      <td>0.381910</td>\n",
              "      <td>0.361809</td>\n",
              "      <td>0.185930</td>\n",
              "      <td>0.537688</td>\n",
              "      <td>0.562814</td>\n",
              "      <td>0.824121</td>\n",
              "      <td>0.331658</td>\n",
              "      <td>0.492462</td>\n",
              "      <td>0.236181</td>\n",
              "      <td>0.532663</td>\n",
              "    </tr>\n",
              "    <tr>\n",
              "      <th>2018</th>\n",
              "      <td>0.790476</td>\n",
              "      <td>78.352381</td>\n",
              "      <td>1254.796825</td>\n",
              "      <td>0.517460</td>\n",
              "      <td>0.187302</td>\n",
              "      <td>0.269841</td>\n",
              "      <td>0.314286</td>\n",
              "      <td>0.190476</td>\n",
              "      <td>0.498413</td>\n",
              "      <td>0.501587</td>\n",
              "      <td>0.752381</td>\n",
              "      <td>0.279365</td>\n",
              "      <td>0.387302</td>\n",
              "      <td>0.184127</td>\n",
              "      <td>0.517460</td>\n",
              "    </tr>\n",
              "    <tr>\n",
              "      <th>2019</th>\n",
              "      <td>0.711519</td>\n",
              "      <td>65.162080</td>\n",
              "      <td>252.173293</td>\n",
              "      <td>0.296636</td>\n",
              "      <td>0.084608</td>\n",
              "      <td>0.149847</td>\n",
              "      <td>0.168196</td>\n",
              "      <td>0.094801</td>\n",
              "      <td>0.287462</td>\n",
              "      <td>0.286442</td>\n",
              "      <td>0.612640</td>\n",
              "      <td>0.207951</td>\n",
              "      <td>0.231397</td>\n",
              "      <td>0.142712</td>\n",
              "      <td>0.508665</td>\n",
              "    </tr>\n",
              "  </tbody>\n",
              "</table>\n",
              "</div>"
            ],
            "text/plain": [
              "           PaperlessBilling  MonthlyCharges  ...  Dependents     Woman\n",
              "BeginDate                                    ...                      \n",
              "2013               0.750000      100.125000  ...    0.250000  0.500000\n",
              "2014               0.775510       95.724490  ...    0.295918  0.367347\n",
              "2015               0.756098       88.000000  ...    0.203252  0.471545\n",
              "2016               0.813793       83.882759  ...    0.172414  0.503448\n",
              "2017               0.804020       82.884422  ...    0.236181  0.532663\n",
              "2018               0.790476       78.352381  ...    0.184127  0.517460\n",
              "2019               0.711519       65.162080  ...    0.142712  0.508665\n",
              "\n",
              "[7 rows x 15 columns]"
            ]
          },
          "metadata": {
            "tags": []
          },
          "execution_count": 28
        }
      ]
    },
    {
      "cell_type": "code",
      "metadata": {
        "colab": {
          "base_uri": "https://localhost:8080/",
          "height": 287
        },
        "id": "Gl5aUjms5BrJ",
        "outputId": "8b663993-d19c-4cda-c18d-b60057a339a1"
      },
      "source": [
        "current_users.groupby('BeginDate').mean()"
      ],
      "execution_count": null,
      "outputs": [
        {
          "output_type": "execute_result",
          "data": {
            "text/html": [
              "<div>\n",
              "<style scoped>\n",
              "    .dataframe tbody tr th:only-of-type {\n",
              "        vertical-align: middle;\n",
              "    }\n",
              "\n",
              "    .dataframe tbody tr th {\n",
              "        vertical-align: top;\n",
              "    }\n",
              "\n",
              "    .dataframe thead th {\n",
              "        text-align: right;\n",
              "    }\n",
              "</style>\n",
              "<table border=\"1\" class=\"dataframe\">\n",
              "  <thead>\n",
              "    <tr style=\"text-align: right;\">\n",
              "      <th></th>\n",
              "      <th>PaperlessBilling</th>\n",
              "      <th>MonthlyCharges</th>\n",
              "      <th>TotalCharges</th>\n",
              "      <th>MultipleLines</th>\n",
              "      <th>OnlineSecurity</th>\n",
              "      <th>OnlineBackup</th>\n",
              "      <th>DeviceProtection</th>\n",
              "      <th>TechSupport</th>\n",
              "      <th>StreamingTV</th>\n",
              "      <th>StreamingMovies</th>\n",
              "      <th>FiberOptic</th>\n",
              "      <th>SeniorCitizen</th>\n",
              "      <th>Partner</th>\n",
              "      <th>Dependents</th>\n",
              "      <th>Woman</th>\n",
              "    </tr>\n",
              "    <tr>\n",
              "      <th>BeginDate</th>\n",
              "      <th></th>\n",
              "      <th></th>\n",
              "      <th></th>\n",
              "      <th></th>\n",
              "      <th></th>\n",
              "      <th></th>\n",
              "      <th></th>\n",
              "      <th></th>\n",
              "      <th></th>\n",
              "      <th></th>\n",
              "      <th></th>\n",
              "      <th></th>\n",
              "      <th></th>\n",
              "      <th></th>\n",
              "      <th></th>\n",
              "    </tr>\n",
              "  </thead>\n",
              "  <tbody>\n",
              "    <tr>\n",
              "      <th>2014</th>\n",
              "      <td>0.581059</td>\n",
              "      <td>74.090690</td>\n",
              "      <td>5121.858748</td>\n",
              "      <td>0.662921</td>\n",
              "      <td>0.542536</td>\n",
              "      <td>0.605939</td>\n",
              "      <td>0.600321</td>\n",
              "      <td>0.539326</td>\n",
              "      <td>0.561798</td>\n",
              "      <td>0.570626</td>\n",
              "      <td>0.418941</td>\n",
              "      <td>0.155698</td>\n",
              "      <td>0.763242</td>\n",
              "      <td>0.413323</td>\n",
              "      <td>0.483949</td>\n",
              "    </tr>\n",
              "    <tr>\n",
              "      <th>2015</th>\n",
              "      <td>0.578875</td>\n",
              "      <td>67.499314</td>\n",
              "      <td>3785.851852</td>\n",
              "      <td>0.508916</td>\n",
              "      <td>0.393690</td>\n",
              "      <td>0.462277</td>\n",
              "      <td>0.452675</td>\n",
              "      <td>0.406036</td>\n",
              "      <td>0.462277</td>\n",
              "      <td>0.475995</td>\n",
              "      <td>0.407407</td>\n",
              "      <td>0.153635</td>\n",
              "      <td>0.639232</td>\n",
              "      <td>0.370370</td>\n",
              "      <td>0.511660</td>\n",
              "    </tr>\n",
              "    <tr>\n",
              "      <th>2016</th>\n",
              "      <td>0.550162</td>\n",
              "      <td>62.250809</td>\n",
              "      <td>2746.218447</td>\n",
              "      <td>0.428803</td>\n",
              "      <td>0.330097</td>\n",
              "      <td>0.385113</td>\n",
              "      <td>0.399676</td>\n",
              "      <td>0.317152</td>\n",
              "      <td>0.401294</td>\n",
              "      <td>0.401294</td>\n",
              "      <td>0.364078</td>\n",
              "      <td>0.119741</td>\n",
              "      <td>0.548544</td>\n",
              "      <td>0.360841</td>\n",
              "      <td>0.525890</td>\n",
              "    </tr>\n",
              "    <tr>\n",
              "      <th>2017</th>\n",
              "      <td>0.518576</td>\n",
              "      <td>60.730650</td>\n",
              "      <td>1913.739938</td>\n",
              "      <td>0.380805</td>\n",
              "      <td>0.297214</td>\n",
              "      <td>0.329721</td>\n",
              "      <td>0.349845</td>\n",
              "      <td>0.326625</td>\n",
              "      <td>0.349845</td>\n",
              "      <td>0.345201</td>\n",
              "      <td>0.362229</td>\n",
              "      <td>0.147059</td>\n",
              "      <td>0.487616</td>\n",
              "      <td>0.329721</td>\n",
              "      <td>0.470588</td>\n",
              "    </tr>\n",
              "    <tr>\n",
              "      <th>2018</th>\n",
              "      <td>0.511888</td>\n",
              "      <td>54.158042</td>\n",
              "      <td>1074.416783</td>\n",
              "      <td>0.309091</td>\n",
              "      <td>0.236364</td>\n",
              "      <td>0.236364</td>\n",
              "      <td>0.236364</td>\n",
              "      <td>0.237762</td>\n",
              "      <td>0.261538</td>\n",
              "      <td>0.254545</td>\n",
              "      <td>0.318881</td>\n",
              "      <td>0.114685</td>\n",
              "      <td>0.446154</td>\n",
              "      <td>0.335664</td>\n",
              "      <td>0.492308</td>\n",
              "    </tr>\n",
              "    <tr>\n",
              "      <th>2019</th>\n",
              "      <td>0.498975</td>\n",
              "      <td>48.607582</td>\n",
              "      <td>347.054303</td>\n",
              "      <td>0.175205</td>\n",
              "      <td>0.177254</td>\n",
              "      <td>0.178279</td>\n",
              "      <td>0.148566</td>\n",
              "      <td>0.170082</td>\n",
              "      <td>0.184426</td>\n",
              "      <td>0.191598</td>\n",
              "      <td>0.267418</td>\n",
              "      <td>0.099385</td>\n",
              "      <td>0.309426</td>\n",
              "      <td>0.272541</td>\n",
              "      <td>0.501025</td>\n",
              "    </tr>\n",
              "    <tr>\n",
              "      <th>2020</th>\n",
              "      <td>0.397541</td>\n",
              "      <td>37.610656</td>\n",
              "      <td>35.766393</td>\n",
              "      <td>0.086066</td>\n",
              "      <td>0.094262</td>\n",
              "      <td>0.081967</td>\n",
              "      <td>0.049180</td>\n",
              "      <td>0.094262</td>\n",
              "      <td>0.061475</td>\n",
              "      <td>0.065574</td>\n",
              "      <td>0.131148</td>\n",
              "      <td>0.049180</td>\n",
              "      <td>0.168033</td>\n",
              "      <td>0.233607</td>\n",
              "      <td>0.422131</td>\n",
              "    </tr>\n",
              "  </tbody>\n",
              "</table>\n",
              "</div>"
            ],
            "text/plain": [
              "           PaperlessBilling  MonthlyCharges  ...  Dependents     Woman\n",
              "BeginDate                                    ...                      \n",
              "2014               0.581059       74.090690  ...    0.413323  0.483949\n",
              "2015               0.578875       67.499314  ...    0.370370  0.511660\n",
              "2016               0.550162       62.250809  ...    0.360841  0.525890\n",
              "2017               0.518576       60.730650  ...    0.329721  0.470588\n",
              "2018               0.511888       54.158042  ...    0.335664  0.492308\n",
              "2019               0.498975       48.607582  ...    0.272541  0.501025\n",
              "2020               0.397541       37.610656  ...    0.233607  0.422131\n",
              "\n",
              "[7 rows x 15 columns]"
            ]
          },
          "metadata": {
            "tags": []
          },
          "execution_count": 29
        }
      ]
    },
    {
      "cell_type": "markdown",
      "metadata": {
        "id": "76i4pjsY8NZD"
      },
      "source": [
        "### **Conclution of EDA:**\n",
        "\n",
        "Our ex-clients usually had internet with Fiber Optic, used Streaming TV and Streaming Movies and as an obvious fact paid more.\n",
        "They also less used Tech Support, more of them used Multiple Lines of the phone and there are more SeniorCitizen among ex-users. \n",
        "\n",
        "Partner and Gender information don't seem to be relevant, but Dependents can be as there are some difference by this parameter. \n",
        "\n",
        "Most of the ex-users came to us in 2019 year.\n"
      ]
    },
    {
      "cell_type": "markdown",
      "metadata": {
        "id": "3F5R9iATAHj0"
      },
      "source": [
        "### **Questions:**\n",
        "\n",
        "\n",
        "1.   What do Partner and Dependents columns mean? Are they relevant? \n",
        "2.   What the most relevant columns would be the best to take as the features for machine leaning model?\n",
        "3.   What is the target value?\n",
        "4.   It is a classification task: whether or not the user will quit, isn't it?\n",
        "5.   What metric to use?\n"
      ]
    },
    {
      "cell_type": "markdown",
      "metadata": {
        "id": "Loeauwh_HNeg"
      },
      "source": [
        "Our target column is EndDate. As far as it should has boolean type (with us or not), so the column values should be changed.\n",
        "\n",
        "It's better to remain all features as all of them can be relevant to the customer decision to leave or to stay. \n",
        "\n",
        "It is a classification task, but Logistic regression can be used as there are only two target options.\n",
        "\n",
        "AUC-ROC metric should be used here to find the best model, because our data is unballanced and it needs to take in account the rate of false-positive and false-negative values."
      ]
    },
    {
      "cell_type": "markdown",
      "metadata": {
        "id": "CbOTjqOJEVDi"
      },
      "source": [
        "# **Model Training**"
      ]
    },
    {
      "cell_type": "markdown",
      "metadata": {
        "id": "InMkypqME2_O"
      },
      "source": [
        "## Creating Features"
      ]
    },
    {
      "cell_type": "code",
      "metadata": {
        "id": "KzwPYvXmoh_G"
      },
      "source": [
        "df['IsClient'] = (df['EndDate'] == 'No').astype(int)"
      ],
      "execution_count": null,
      "outputs": []
    },
    {
      "cell_type": "code",
      "metadata": {
        "id": "f2Ye2E-85XHC"
      },
      "source": [
        "df['EndDate'] = df['EndDate'].where(df['EndDate'] != 'No', \"2020-02-01\")\n",
        "df['EndDate'] = pd.to_datetime(df['EndDate'], format='%Y-%m-%d')"
      ],
      "execution_count": null,
      "outputs": []
    },
    {
      "cell_type": "code",
      "metadata": {
        "id": "9apbRcSOi9Lx"
      },
      "source": [
        "df[\"AllTime\"] = (df['EndDate'] - df['BeginDate']) \n",
        "df[\"AllTime\"] = (df[\"AllTime\"] / np.timedelta64(1, \"M\"))\n",
        "df[\"AllTime\"] = df[\"AllTime\"].astype(int)"
      ],
      "execution_count": null,
      "outputs": []
    },
    {
      "cell_type": "code",
      "metadata": {
        "colab": {
          "base_uri": "https://localhost:8080/",
          "height": 351
        },
        "id": "Y82VXP4B1kFq",
        "outputId": "2cfdd968-0fab-4d47-fdf9-800aa14efc42"
      },
      "source": [
        "df.head()"
      ],
      "execution_count": null,
      "outputs": [
        {
          "output_type": "execute_result",
          "data": {
            "text/html": [
              "<div>\n",
              "<style scoped>\n",
              "    .dataframe tbody tr th:only-of-type {\n",
              "        vertical-align: middle;\n",
              "    }\n",
              "\n",
              "    .dataframe tbody tr th {\n",
              "        vertical-align: top;\n",
              "    }\n",
              "\n",
              "    .dataframe thead th {\n",
              "        text-align: right;\n",
              "    }\n",
              "</style>\n",
              "<table border=\"1\" class=\"dataframe\">\n",
              "  <thead>\n",
              "    <tr style=\"text-align: right;\">\n",
              "      <th></th>\n",
              "      <th>customerID</th>\n",
              "      <th>BeginDate</th>\n",
              "      <th>EndDate</th>\n",
              "      <th>Type</th>\n",
              "      <th>PaperlessBilling</th>\n",
              "      <th>PaymentMethod</th>\n",
              "      <th>MonthlyCharges</th>\n",
              "      <th>TotalCharges</th>\n",
              "      <th>MultipleLines</th>\n",
              "      <th>OnlineSecurity</th>\n",
              "      <th>OnlineBackup</th>\n",
              "      <th>DeviceProtection</th>\n",
              "      <th>TechSupport</th>\n",
              "      <th>StreamingTV</th>\n",
              "      <th>StreamingMovies</th>\n",
              "      <th>FiberOptic</th>\n",
              "      <th>SeniorCitizen</th>\n",
              "      <th>Partner</th>\n",
              "      <th>Dependents</th>\n",
              "      <th>Woman</th>\n",
              "      <th>IsClient</th>\n",
              "      <th>AllTime</th>\n",
              "    </tr>\n",
              "  </thead>\n",
              "  <tbody>\n",
              "    <tr>\n",
              "      <th>0</th>\n",
              "      <td>7590-VHVEG</td>\n",
              "      <td>2020-01-01</td>\n",
              "      <td>2020-02-01</td>\n",
              "      <td>Month-to-month</td>\n",
              "      <td>1</td>\n",
              "      <td>Electronic check</td>\n",
              "      <td>29</td>\n",
              "      <td>29</td>\n",
              "      <td>0</td>\n",
              "      <td>0</td>\n",
              "      <td>1</td>\n",
              "      <td>0</td>\n",
              "      <td>0</td>\n",
              "      <td>0</td>\n",
              "      <td>0</td>\n",
              "      <td>0</td>\n",
              "      <td>0</td>\n",
              "      <td>1</td>\n",
              "      <td>0</td>\n",
              "      <td>1</td>\n",
              "      <td>1</td>\n",
              "      <td>1</td>\n",
              "    </tr>\n",
              "    <tr>\n",
              "      <th>1</th>\n",
              "      <td>5575-GNVDE</td>\n",
              "      <td>2017-04-01</td>\n",
              "      <td>2020-02-01</td>\n",
              "      <td>One year</td>\n",
              "      <td>0</td>\n",
              "      <td>Mailed check</td>\n",
              "      <td>56</td>\n",
              "      <td>1889</td>\n",
              "      <td>0</td>\n",
              "      <td>1</td>\n",
              "      <td>0</td>\n",
              "      <td>1</td>\n",
              "      <td>0</td>\n",
              "      <td>0</td>\n",
              "      <td>0</td>\n",
              "      <td>0</td>\n",
              "      <td>0</td>\n",
              "      <td>0</td>\n",
              "      <td>0</td>\n",
              "      <td>0</td>\n",
              "      <td>1</td>\n",
              "      <td>34</td>\n",
              "    </tr>\n",
              "    <tr>\n",
              "      <th>2</th>\n",
              "      <td>3668-QPYBK</td>\n",
              "      <td>2019-10-01</td>\n",
              "      <td>2019-12-01</td>\n",
              "      <td>Month-to-month</td>\n",
              "      <td>1</td>\n",
              "      <td>Mailed check</td>\n",
              "      <td>53</td>\n",
              "      <td>108</td>\n",
              "      <td>0</td>\n",
              "      <td>1</td>\n",
              "      <td>1</td>\n",
              "      <td>0</td>\n",
              "      <td>0</td>\n",
              "      <td>0</td>\n",
              "      <td>0</td>\n",
              "      <td>0</td>\n",
              "      <td>0</td>\n",
              "      <td>0</td>\n",
              "      <td>0</td>\n",
              "      <td>0</td>\n",
              "      <td>0</td>\n",
              "      <td>2</td>\n",
              "    </tr>\n",
              "    <tr>\n",
              "      <th>3</th>\n",
              "      <td>7795-CFOCW</td>\n",
              "      <td>2016-05-01</td>\n",
              "      <td>2020-02-01</td>\n",
              "      <td>One year</td>\n",
              "      <td>0</td>\n",
              "      <td>Bank transfer (automatic)</td>\n",
              "      <td>42</td>\n",
              "      <td>1840</td>\n",
              "      <td>0</td>\n",
              "      <td>1</td>\n",
              "      <td>0</td>\n",
              "      <td>1</td>\n",
              "      <td>1</td>\n",
              "      <td>0</td>\n",
              "      <td>0</td>\n",
              "      <td>0</td>\n",
              "      <td>0</td>\n",
              "      <td>0</td>\n",
              "      <td>0</td>\n",
              "      <td>0</td>\n",
              "      <td>1</td>\n",
              "      <td>45</td>\n",
              "    </tr>\n",
              "    <tr>\n",
              "      <th>4</th>\n",
              "      <td>9237-HQITU</td>\n",
              "      <td>2019-09-01</td>\n",
              "      <td>2019-11-01</td>\n",
              "      <td>Month-to-month</td>\n",
              "      <td>1</td>\n",
              "      <td>Electronic check</td>\n",
              "      <td>70</td>\n",
              "      <td>151</td>\n",
              "      <td>0</td>\n",
              "      <td>0</td>\n",
              "      <td>0</td>\n",
              "      <td>0</td>\n",
              "      <td>0</td>\n",
              "      <td>0</td>\n",
              "      <td>0</td>\n",
              "      <td>1</td>\n",
              "      <td>0</td>\n",
              "      <td>0</td>\n",
              "      <td>0</td>\n",
              "      <td>1</td>\n",
              "      <td>0</td>\n",
              "      <td>2</td>\n",
              "    </tr>\n",
              "  </tbody>\n",
              "</table>\n",
              "</div>"
            ],
            "text/plain": [
              "   customerID  BeginDate    EndDate  ... Woman  IsClient AllTime\n",
              "0  7590-VHVEG 2020-01-01 2020-02-01  ...     1         1       1\n",
              "1  5575-GNVDE 2017-04-01 2020-02-01  ...     0         1      34\n",
              "2  3668-QPYBK 2019-10-01 2019-12-01  ...     0         0       2\n",
              "3  7795-CFOCW 2016-05-01 2020-02-01  ...     0         1      45\n",
              "4  9237-HQITU 2019-09-01 2019-11-01  ...     1         0       2\n",
              "\n",
              "[5 rows x 22 columns]"
            ]
          },
          "metadata": {
            "tags": []
          },
          "execution_count": 33
        }
      ]
    },
    {
      "cell_type": "code",
      "metadata": {
        "colab": {
          "base_uri": "https://localhost:8080/"
        },
        "id": "tTzw4zEbG2BY",
        "outputId": "afb2aef7-3006-460c-bab9-0c69089fe685"
      },
      "source": [
        "df.columns"
      ],
      "execution_count": null,
      "outputs": [
        {
          "output_type": "execute_result",
          "data": {
            "text/plain": [
              "Index(['customerID', 'BeginDate', 'EndDate', 'Type', 'PaperlessBilling',\n",
              "       'PaymentMethod', 'MonthlyCharges', 'TotalCharges', 'MultipleLines',\n",
              "       'OnlineSecurity', 'OnlineBackup', 'DeviceProtection', 'TechSupport',\n",
              "       'StreamingTV', 'StreamingMovies', 'FiberOptic', 'SeniorCitizen',\n",
              "       'Partner', 'Dependents', 'Woman', 'IsClient', 'AllTime'],\n",
              "      dtype='object')"
            ]
          },
          "metadata": {
            "tags": []
          },
          "execution_count": 34
        }
      ]
    },
    {
      "cell_type": "code",
      "metadata": {
        "id": "BGw9W0t3Gtq-"
      },
      "source": [
        "X = df.drop(['customerID', 'BeginDate', 'EndDate','Partner', 'Woman', 'IsClient'], axis=1)\n",
        "y = df['IsClient']"
      ],
      "execution_count": null,
      "outputs": []
    },
    {
      "cell_type": "code",
      "metadata": {
        "colab": {
          "base_uri": "https://localhost:8080/"
        },
        "id": "GNkp9oUpi5wQ",
        "outputId": "12426105-0ba6-4ac9-c706-c407dfc1871c"
      },
      "source": [
        "X.info()"
      ],
      "execution_count": null,
      "outputs": [
        {
          "output_type": "stream",
          "text": [
            "<class 'pandas.core.frame.DataFrame'>\n",
            "Int64Index: 7043 entries, 0 to 7042\n",
            "Data columns (total 16 columns):\n",
            " #   Column            Non-Null Count  Dtype \n",
            "---  ------            --------------  ----- \n",
            " 0   Type              7043 non-null   object\n",
            " 1   PaperlessBilling  7043 non-null   int64 \n",
            " 2   PaymentMethod     7043 non-null   object\n",
            " 3   MonthlyCharges    7043 non-null   int64 \n",
            " 4   TotalCharges      7043 non-null   int64 \n",
            " 5   MultipleLines     7043 non-null   int64 \n",
            " 6   OnlineSecurity    7043 non-null   int64 \n",
            " 7   OnlineBackup      7043 non-null   int64 \n",
            " 8   DeviceProtection  7043 non-null   int64 \n",
            " 9   TechSupport       7043 non-null   int64 \n",
            " 10  StreamingTV       7043 non-null   int64 \n",
            " 11  StreamingMovies   7043 non-null   int64 \n",
            " 12  FiberOptic        7043 non-null   int64 \n",
            " 13  SeniorCitizen     7043 non-null   int64 \n",
            " 14  Dependents        7043 non-null   int64 \n",
            " 15  AllTime           7043 non-null   int64 \n",
            "dtypes: int64(14), object(2)\n",
            "memory usage: 935.4+ KB\n"
          ],
          "name": "stdout"
        }
      ]
    },
    {
      "cell_type": "code",
      "metadata": {
        "id": "qMCMB1qIfw9K"
      },
      "source": [
        "encoder = OrdinalEncoder()\n",
        "X = pd.DataFrame(encoder.fit_transform(X), columns = X.columns)"
      ],
      "execution_count": null,
      "outputs": []
    },
    {
      "cell_type": "code",
      "metadata": {
        "colab": {
          "base_uri": "https://localhost:8080/",
          "height": 217
        },
        "id": "sRPdxbVHkH-O",
        "outputId": "59b8e624-1ea2-4cc9-afc2-d31ac446f16c"
      },
      "source": [
        "X.head()"
      ],
      "execution_count": null,
      "outputs": [
        {
          "output_type": "execute_result",
          "data": {
            "text/html": [
              "<div>\n",
              "<style scoped>\n",
              "    .dataframe tbody tr th:only-of-type {\n",
              "        vertical-align: middle;\n",
              "    }\n",
              "\n",
              "    .dataframe tbody tr th {\n",
              "        vertical-align: top;\n",
              "    }\n",
              "\n",
              "    .dataframe thead th {\n",
              "        text-align: right;\n",
              "    }\n",
              "</style>\n",
              "<table border=\"1\" class=\"dataframe\">\n",
              "  <thead>\n",
              "    <tr style=\"text-align: right;\">\n",
              "      <th></th>\n",
              "      <th>Type</th>\n",
              "      <th>PaperlessBilling</th>\n",
              "      <th>PaymentMethod</th>\n",
              "      <th>MonthlyCharges</th>\n",
              "      <th>TotalCharges</th>\n",
              "      <th>MultipleLines</th>\n",
              "      <th>OnlineSecurity</th>\n",
              "      <th>OnlineBackup</th>\n",
              "      <th>DeviceProtection</th>\n",
              "      <th>TechSupport</th>\n",
              "      <th>StreamingTV</th>\n",
              "      <th>StreamingMovies</th>\n",
              "      <th>FiberOptic</th>\n",
              "      <th>SeniorCitizen</th>\n",
              "      <th>Dependents</th>\n",
              "      <th>AllTime</th>\n",
              "    </tr>\n",
              "  </thead>\n",
              "  <tbody>\n",
              "    <tr>\n",
              "      <th>0</th>\n",
              "      <td>0.0</td>\n",
              "      <td>1.0</td>\n",
              "      <td>2.0</td>\n",
              "      <td>10.0</td>\n",
              "      <td>10.0</td>\n",
              "      <td>0.0</td>\n",
              "      <td>0.0</td>\n",
              "      <td>1.0</td>\n",
              "      <td>0.0</td>\n",
              "      <td>0.0</td>\n",
              "      <td>0.0</td>\n",
              "      <td>0.0</td>\n",
              "      <td>0.0</td>\n",
              "      <td>0.0</td>\n",
              "      <td>0.0</td>\n",
              "      <td>1.0</td>\n",
              "    </tr>\n",
              "    <tr>\n",
              "      <th>1</th>\n",
              "      <td>1.0</td>\n",
              "      <td>0.0</td>\n",
              "      <td>3.0</td>\n",
              "      <td>36.0</td>\n",
              "      <td>1539.0</td>\n",
              "      <td>0.0</td>\n",
              "      <td>1.0</td>\n",
              "      <td>0.0</td>\n",
              "      <td>1.0</td>\n",
              "      <td>0.0</td>\n",
              "      <td>0.0</td>\n",
              "      <td>0.0</td>\n",
              "      <td>0.0</td>\n",
              "      <td>0.0</td>\n",
              "      <td>0.0</td>\n",
              "      <td>34.0</td>\n",
              "    </tr>\n",
              "    <tr>\n",
              "      <th>2</th>\n",
              "      <td>0.0</td>\n",
              "      <td>1.0</td>\n",
              "      <td>3.0</td>\n",
              "      <td>33.0</td>\n",
              "      <td>89.0</td>\n",
              "      <td>0.0</td>\n",
              "      <td>1.0</td>\n",
              "      <td>1.0</td>\n",
              "      <td>0.0</td>\n",
              "      <td>0.0</td>\n",
              "      <td>0.0</td>\n",
              "      <td>0.0</td>\n",
              "      <td>0.0</td>\n",
              "      <td>0.0</td>\n",
              "      <td>0.0</td>\n",
              "      <td>2.0</td>\n",
              "    </tr>\n",
              "    <tr>\n",
              "      <th>3</th>\n",
              "      <td>1.0</td>\n",
              "      <td>0.0</td>\n",
              "      <td>0.0</td>\n",
              "      <td>22.0</td>\n",
              "      <td>1503.0</td>\n",
              "      <td>0.0</td>\n",
              "      <td>1.0</td>\n",
              "      <td>0.0</td>\n",
              "      <td>1.0</td>\n",
              "      <td>1.0</td>\n",
              "      <td>0.0</td>\n",
              "      <td>0.0</td>\n",
              "      <td>0.0</td>\n",
              "      <td>0.0</td>\n",
              "      <td>0.0</td>\n",
              "      <td>45.0</td>\n",
              "    </tr>\n",
              "    <tr>\n",
              "      <th>4</th>\n",
              "      <td>0.0</td>\n",
              "      <td>1.0</td>\n",
              "      <td>2.0</td>\n",
              "      <td>50.0</td>\n",
              "      <td>131.0</td>\n",
              "      <td>0.0</td>\n",
              "      <td>0.0</td>\n",
              "      <td>0.0</td>\n",
              "      <td>0.0</td>\n",
              "      <td>0.0</td>\n",
              "      <td>0.0</td>\n",
              "      <td>0.0</td>\n",
              "      <td>1.0</td>\n",
              "      <td>0.0</td>\n",
              "      <td>0.0</td>\n",
              "      <td>2.0</td>\n",
              "    </tr>\n",
              "  </tbody>\n",
              "</table>\n",
              "</div>"
            ],
            "text/plain": [
              "   Type  PaperlessBilling  PaymentMethod  ...  SeniorCitizen  Dependents  AllTime\n",
              "0   0.0               1.0            2.0  ...            0.0         0.0      1.0\n",
              "1   1.0               0.0            3.0  ...            0.0         0.0     34.0\n",
              "2   0.0               1.0            3.0  ...            0.0         0.0      2.0\n",
              "3   1.0               0.0            0.0  ...            0.0         0.0     45.0\n",
              "4   0.0               1.0            2.0  ...            0.0         0.0      2.0\n",
              "\n",
              "[5 rows x 16 columns]"
            ]
          },
          "metadata": {
            "tags": []
          },
          "execution_count": 38
        }
      ]
    },
    {
      "cell_type": "code",
      "metadata": {
        "id": "jzaKOkmMg4BB"
      },
      "source": [
        "for i in X.columns:\n",
        "  X[i] = X[i].astype('int')\n",
        "\n",
        "X_train, X_test, y_train, y_test = train_test_split(X, y, test_size=0.25, random_state=12345)"
      ],
      "execution_count": null,
      "outputs": []
    },
    {
      "cell_type": "code",
      "metadata": {
        "colab": {
          "base_uri": "https://localhost:8080/",
          "height": 217
        },
        "id": "CLrh--sNwsZ1",
        "outputId": "de5f5aca-3176-47b5-f560-b6f16ab6252f"
      },
      "source": [
        "X.head()"
      ],
      "execution_count": null,
      "outputs": [
        {
          "output_type": "execute_result",
          "data": {
            "text/html": [
              "<div>\n",
              "<style scoped>\n",
              "    .dataframe tbody tr th:only-of-type {\n",
              "        vertical-align: middle;\n",
              "    }\n",
              "\n",
              "    .dataframe tbody tr th {\n",
              "        vertical-align: top;\n",
              "    }\n",
              "\n",
              "    .dataframe thead th {\n",
              "        text-align: right;\n",
              "    }\n",
              "</style>\n",
              "<table border=\"1\" class=\"dataframe\">\n",
              "  <thead>\n",
              "    <tr style=\"text-align: right;\">\n",
              "      <th></th>\n",
              "      <th>Type</th>\n",
              "      <th>PaperlessBilling</th>\n",
              "      <th>PaymentMethod</th>\n",
              "      <th>MonthlyCharges</th>\n",
              "      <th>TotalCharges</th>\n",
              "      <th>MultipleLines</th>\n",
              "      <th>OnlineSecurity</th>\n",
              "      <th>OnlineBackup</th>\n",
              "      <th>DeviceProtection</th>\n",
              "      <th>TechSupport</th>\n",
              "      <th>StreamingTV</th>\n",
              "      <th>StreamingMovies</th>\n",
              "      <th>FiberOptic</th>\n",
              "      <th>SeniorCitizen</th>\n",
              "      <th>Dependents</th>\n",
              "      <th>AllTime</th>\n",
              "    </tr>\n",
              "  </thead>\n",
              "  <tbody>\n",
              "    <tr>\n",
              "      <th>0</th>\n",
              "      <td>0</td>\n",
              "      <td>1</td>\n",
              "      <td>2</td>\n",
              "      <td>10</td>\n",
              "      <td>10</td>\n",
              "      <td>0</td>\n",
              "      <td>0</td>\n",
              "      <td>1</td>\n",
              "      <td>0</td>\n",
              "      <td>0</td>\n",
              "      <td>0</td>\n",
              "      <td>0</td>\n",
              "      <td>0</td>\n",
              "      <td>0</td>\n",
              "      <td>0</td>\n",
              "      <td>1</td>\n",
              "    </tr>\n",
              "    <tr>\n",
              "      <th>1</th>\n",
              "      <td>1</td>\n",
              "      <td>0</td>\n",
              "      <td>3</td>\n",
              "      <td>36</td>\n",
              "      <td>1539</td>\n",
              "      <td>0</td>\n",
              "      <td>1</td>\n",
              "      <td>0</td>\n",
              "      <td>1</td>\n",
              "      <td>0</td>\n",
              "      <td>0</td>\n",
              "      <td>0</td>\n",
              "      <td>0</td>\n",
              "      <td>0</td>\n",
              "      <td>0</td>\n",
              "      <td>34</td>\n",
              "    </tr>\n",
              "    <tr>\n",
              "      <th>2</th>\n",
              "      <td>0</td>\n",
              "      <td>1</td>\n",
              "      <td>3</td>\n",
              "      <td>33</td>\n",
              "      <td>89</td>\n",
              "      <td>0</td>\n",
              "      <td>1</td>\n",
              "      <td>1</td>\n",
              "      <td>0</td>\n",
              "      <td>0</td>\n",
              "      <td>0</td>\n",
              "      <td>0</td>\n",
              "      <td>0</td>\n",
              "      <td>0</td>\n",
              "      <td>0</td>\n",
              "      <td>2</td>\n",
              "    </tr>\n",
              "    <tr>\n",
              "      <th>3</th>\n",
              "      <td>1</td>\n",
              "      <td>0</td>\n",
              "      <td>0</td>\n",
              "      <td>22</td>\n",
              "      <td>1503</td>\n",
              "      <td>0</td>\n",
              "      <td>1</td>\n",
              "      <td>0</td>\n",
              "      <td>1</td>\n",
              "      <td>1</td>\n",
              "      <td>0</td>\n",
              "      <td>0</td>\n",
              "      <td>0</td>\n",
              "      <td>0</td>\n",
              "      <td>0</td>\n",
              "      <td>45</td>\n",
              "    </tr>\n",
              "    <tr>\n",
              "      <th>4</th>\n",
              "      <td>0</td>\n",
              "      <td>1</td>\n",
              "      <td>2</td>\n",
              "      <td>50</td>\n",
              "      <td>131</td>\n",
              "      <td>0</td>\n",
              "      <td>0</td>\n",
              "      <td>0</td>\n",
              "      <td>0</td>\n",
              "      <td>0</td>\n",
              "      <td>0</td>\n",
              "      <td>0</td>\n",
              "      <td>1</td>\n",
              "      <td>0</td>\n",
              "      <td>0</td>\n",
              "      <td>2</td>\n",
              "    </tr>\n",
              "  </tbody>\n",
              "</table>\n",
              "</div>"
            ],
            "text/plain": [
              "   Type  PaperlessBilling  PaymentMethod  ...  SeniorCitizen  Dependents  AllTime\n",
              "0     0                 1              2  ...              0           0        1\n",
              "1     1                 0              3  ...              0           0       34\n",
              "2     0                 1              3  ...              0           0        2\n",
              "3     1                 0              0  ...              0           0       45\n",
              "4     0                 1              2  ...              0           0        2\n",
              "\n",
              "[5 rows x 16 columns]"
            ]
          },
          "metadata": {
            "tags": []
          },
          "execution_count": 40
        }
      ]
    },
    {
      "cell_type": "markdown",
      "metadata": {
        "id": "v-OBdxZfE98o"
      },
      "source": [
        "## Dummy model"
      ]
    },
    {
      "cell_type": "code",
      "metadata": {
        "id": "ZjSmCWPUEkNg"
      },
      "source": [
        "scorer_for_cv = make_scorer(roc_auc_score) "
      ],
      "execution_count": null,
      "outputs": []
    },
    {
      "cell_type": "code",
      "metadata": {
        "id": "nWGwFMPnElOW"
      },
      "source": [
        "dummy_regr = DummyRegressor(strategy=\"constant\", constant=0)\n",
        "dummy_regr.fit(X_train, y_train)\n",
        "dummy_predict = dummy_regr.predict(X_test)"
      ],
      "execution_count": null,
      "outputs": []
    },
    {
      "cell_type": "code",
      "metadata": {
        "id": "7Kl7amI7ElXo",
        "colab": {
          "base_uri": "https://localhost:8080/"
        },
        "outputId": "6728d1f8-c3e1-4595-b5dc-54253994bafd"
      },
      "source": [
        "dummy_auc = roc_auc_score(y_test, dummy_predict)\n",
        "print(\"AUC-ROC =\", dummy_auc)"
      ],
      "execution_count": null,
      "outputs": [
        {
          "output_type": "stream",
          "text": [
            "AUC-ROC = 0.5\n"
          ],
          "name": "stdout"
        }
      ]
    },
    {
      "cell_type": "markdown",
      "metadata": {
        "id": "lnv9i8cYFEnq"
      },
      "source": [
        "## Linear regression"
      ]
    },
    {
      "cell_type": "code",
      "metadata": {
        "id": "ThpOwBguElpI"
      },
      "source": [
        "model_lr = LinearRegression()\n",
        "\n",
        "param_grid = [{'normalize': [True, False]}]\n",
        "model_lr_cv = GridSearchCV(estimator=model_lr,\n",
        "                           scoring=scorer_for_cv,\n",
        "                           param_grid=param_grid,\n",
        "                           cv=3)\n",
        "model_lr_cv = model_lr_cv.fit(X_train, y_train)"
      ],
      "execution_count": null,
      "outputs": []
    },
    {
      "cell_type": "code",
      "metadata": {
        "colab": {
          "base_uri": "https://localhost:8080/"
        },
        "id": "0G0bAAmdElu8",
        "outputId": "7e1e7c19-67c7-434b-c494-83c454ff906e"
      },
      "source": [
        "model_lr_cv.best_score_"
      ],
      "execution_count": null,
      "outputs": [
        {
          "output_type": "execute_result",
          "data": {
            "text/plain": [
              "0.9134962791064755"
            ]
          },
          "metadata": {
            "tags": []
          },
          "execution_count": 45
        }
      ]
    },
    {
      "cell_type": "markdown",
      "metadata": {
        "id": "SEizqbBwFJuu"
      },
      "source": [
        "## Random forrest"
      ]
    },
    {
      "cell_type": "code",
      "metadata": {
        "id": "1MdjxNoYFgRV"
      },
      "source": [
        "model_rfr = RandomForestRegressor()\n",
        "\n",
        "param_grid = [\n",
        "   {'n_estimators':[20], 'max_depth':[12], 'random_state':[12345]},\n",
        "  {'n_estimators':[50], 'max_depth':[5],'random_state':[12345]},\n",
        "  {'n_estimators':[50],'max_depth':[50], 'random_state':[12345]}]\n",
        "\n",
        "\n",
        "model_rfr_cv = GridSearchCV(estimator=model_rfr,\n",
        "                          param_grid=param_grid,\n",
        "                           scoring=scorer_for_cv,\n",
        "                          cv=5)\n",
        "model_rfr_cv = model_rfr_cv.fit(X_train, y_train)"
      ],
      "execution_count": null,
      "outputs": []
    },
    {
      "cell_type": "code",
      "metadata": {
        "colab": {
          "base_uri": "https://localhost:8080/"
        },
        "id": "izVuSf-eFgkN",
        "outputId": "ac6bcf91-2fed-4e9b-93a1-5f758e9f0387"
      },
      "source": [
        "model_rfr_cv.best_score_"
      ],
      "execution_count": null,
      "outputs": [
        {
          "output_type": "execute_result",
          "data": {
            "text/plain": [
              "0.9228055321689848"
            ]
          },
          "metadata": {
            "tags": []
          },
          "execution_count": 47
        }
      ]
    },
    {
      "cell_type": "markdown",
      "metadata": {
        "id": "ZRkssg90Fhfv"
      },
      "source": [
        "## Gradient boosting"
      ]
    },
    {
      "cell_type": "code",
      "metadata": {
        "id": "fpsNDiJbTwr1"
      },
      "source": [
        "train_pool = Pool(X_train, \n",
        "                  y_train, \n",
        "                  cat_features=['PaperlessBilling',  'TotalCharges', 'MultipleLines', 'MonthlyCharges','AllTime', \n",
        "                  'OnlineSecurity', 'OnlineBackup', 'DeviceProtection', 'TechSupport',\n",
        "                  'StreamingTV', 'StreamingMovies', 'FiberOptic', 'SeniorCitizen',\n",
        "                    'Dependents']) \n",
        "model_CatBoostRegressor = CatBoostRegressor(eval_metric='AUC')"
      ],
      "execution_count": null,
      "outputs": []
    },
    {
      "cell_type": "code",
      "metadata": {
        "colab": {
          "base_uri": "https://localhost:8080/"
        },
        "id": "cD_iCvG2T9tx",
        "outputId": "1b9f791d-01b2-4f80-fc18-320619f7559b"
      },
      "source": [
        "#collapse_output\n",
        "param_grid = [\n",
        "  {'iterations': [5, 10, 100], 'depth':[5, 10, 15], 'learning_rate':[1]}]\n",
        "\n",
        "model_cb_cv = model_CatBoostRegressor.grid_search(param_grid, \n",
        "                                                   X=train_pool,\n",
        "                                                   cv=3)"
      ],
      "execution_count": null,
      "outputs": [
        {
          "output_type": "stream",
          "text": [
            "\n",
            "bestTest = 0.8371061337\n",
            "bestIteration = 4\n",
            "\n",
            "Metric AUC is not calculated on train by default. To calculate this metric on train, add hints=skip_train~false to metric parameters.\n",
            "0:\tloss: 0.8371061\tbest: 0.8371061 (0)\ttotal: 76.8ms\tremaining: 615ms\n",
            "\n",
            "bestTest = 0.8401220378\n",
            "bestIteration = 6\n",
            "\n",
            "Metric AUC is not calculated on train by default. To calculate this metric on train, add hints=skip_train~false to metric parameters.\n",
            "1:\tloss: 0.8401220\tbest: 0.8401220 (1)\ttotal: 102ms\tremaining: 358ms\n",
            "\n",
            "bestTest = 0.8451820289\n",
            "bestIteration = 14\n",
            "\n",
            "Metric AUC is not calculated on train by default. To calculate this metric on train, add hints=skip_train~false to metric parameters.\n",
            "2:\tloss: 0.8451820\tbest: 0.8451820 (2)\ttotal: 316ms\tremaining: 633ms\n",
            "\n",
            "bestTest = 0.826336716\n",
            "bestIteration = 3\n",
            "\n",
            "Metric AUC is not calculated on train by default. To calculate this metric on train, add hints=skip_train~false to metric parameters.\n",
            "3:\tloss: 0.8263367\tbest: 0.8451820 (2)\ttotal: 374ms\tremaining: 468ms\n",
            "\n",
            "bestTest = 0.8264395044\n",
            "bestIteration = 8\n",
            "\n",
            "Metric AUC is not calculated on train by default. To calculate this metric on train, add hints=skip_train~false to metric parameters.\n",
            "4:\tloss: 0.8264395\tbest: 0.8451820 (2)\ttotal: 475ms\tremaining: 380ms\n",
            "\n",
            "bestTest = 0.8264395044\n",
            "bestIteration = 8\n",
            "\n",
            "Metric AUC is not calculated on train by default. To calculate this metric on train, add hints=skip_train~false to metric parameters.\n",
            "5:\tloss: 0.8264395\tbest: 0.8451820 (2)\ttotal: 1.7s\tremaining: 852ms\n",
            "\n",
            "bestTest = 0.8060803992\n",
            "bestIteration = 1\n",
            "\n",
            "Metric AUC is not calculated on train by default. To calculate this metric on train, add hints=skip_train~false to metric parameters.\n",
            "6:\tloss: 0.8060804\tbest: 0.8451820 (2)\ttotal: 3.31s\tremaining: 945ms\n",
            "\n",
            "bestTest = 0.8060803992\n",
            "bestIteration = 1\n",
            "\n",
            "Metric AUC is not calculated on train by default. To calculate this metric on train, add hints=skip_train~false to metric parameters.\n",
            "7:\tloss: 0.8060804\tbest: 0.8451820 (2)\ttotal: 5.42s\tremaining: 678ms\n",
            "\n",
            "bestTest = 0.8060803992\n",
            "bestIteration = 1\n",
            "\n",
            "Metric AUC is not calculated on train by default. To calculate this metric on train, add hints=skip_train~false to metric parameters.\n",
            "8:\tloss: 0.8060804\tbest: 0.8451820 (2)\ttotal: 34.2s\tremaining: 0us\n",
            "Estimating final quality...\n"
          ],
          "name": "stdout"
        }
      ]
    },
    {
      "cell_type": "code",
      "metadata": {
        "colab": {
          "base_uri": "https://localhost:8080/"
        },
        "id": "OsLmI0hYT-XJ",
        "outputId": "ce11a565-a9dc-4354-820a-d94e724e188a"
      },
      "source": [
        "print(\"The best parameters is\", model_cb_cv['params'])"
      ],
      "execution_count": null,
      "outputs": [
        {
          "output_type": "stream",
          "text": [
            "The best parameters is {'depth': 5, 'learning_rate': 1, 'iterations': 100}\n"
          ],
          "name": "stdout"
        }
      ]
    },
    {
      "cell_type": "code",
      "metadata": {
        "colab": {
          "base_uri": "https://localhost:8080/"
        },
        "id": "psPVY5hyT-l5",
        "outputId": "8c92aa3d-b253-4658-b510-9cecd4bf63f5"
      },
      "source": [
        "#collapse_output\n",
        "model_cb_cv = CatBoostRegressor(iterations=100, depth=5, \n",
        "                                        learning_rate=1, eval_metric='AUC')\n",
        "model_cb_cv.fit(train_pool)"
      ],
      "execution_count": null,
      "outputs": [
        {
          "output_type": "stream",
          "text": [
            "0:\ttotal: 3.66ms\tremaining: 363ms\n",
            "1:\ttotal: 6ms\tremaining: 294ms\n",
            "2:\ttotal: 8.94ms\tremaining: 289ms\n",
            "3:\ttotal: 11.6ms\tremaining: 279ms\n",
            "4:\ttotal: 13.9ms\tremaining: 264ms\n",
            "5:\ttotal: 16.3ms\tremaining: 255ms\n",
            "6:\ttotal: 18.7ms\tremaining: 248ms\n",
            "7:\ttotal: 21ms\tremaining: 242ms\n",
            "8:\ttotal: 23.4ms\tremaining: 237ms\n",
            "9:\ttotal: 25.7ms\tremaining: 231ms\n",
            "10:\ttotal: 28.1ms\tremaining: 227ms\n",
            "11:\ttotal: 30.4ms\tremaining: 223ms\n",
            "12:\ttotal: 32.7ms\tremaining: 219ms\n",
            "13:\ttotal: 34.9ms\tremaining: 215ms\n",
            "14:\ttotal: 37.2ms\tremaining: 211ms\n",
            "15:\ttotal: 39.4ms\tremaining: 207ms\n",
            "16:\ttotal: 41.6ms\tremaining: 203ms\n",
            "17:\ttotal: 44.2ms\tremaining: 201ms\n",
            "18:\ttotal: 46.5ms\tremaining: 198ms\n",
            "19:\ttotal: 48.7ms\tremaining: 195ms\n",
            "20:\ttotal: 51ms\tremaining: 192ms\n",
            "21:\ttotal: 53.3ms\tremaining: 189ms\n",
            "22:\ttotal: 55.6ms\tremaining: 186ms\n",
            "23:\ttotal: 57.9ms\tremaining: 183ms\n",
            "24:\ttotal: 60.6ms\tremaining: 182ms\n",
            "25:\ttotal: 63ms\tremaining: 179ms\n",
            "26:\ttotal: 65.5ms\tremaining: 177ms\n",
            "27:\ttotal: 67.9ms\tremaining: 175ms\n",
            "28:\ttotal: 70.3ms\tremaining: 172ms\n",
            "29:\ttotal: 72.6ms\tremaining: 169ms\n",
            "30:\ttotal: 75.1ms\tremaining: 167ms\n",
            "31:\ttotal: 77.3ms\tremaining: 164ms\n",
            "32:\ttotal: 79.8ms\tremaining: 162ms\n",
            "33:\ttotal: 82.1ms\tremaining: 159ms\n",
            "34:\ttotal: 84.5ms\tremaining: 157ms\n",
            "35:\ttotal: 86.9ms\tremaining: 155ms\n",
            "36:\ttotal: 89.3ms\tremaining: 152ms\n",
            "37:\ttotal: 91.7ms\tremaining: 150ms\n",
            "38:\ttotal: 94ms\tremaining: 147ms\n",
            "39:\ttotal: 96.4ms\tremaining: 145ms\n",
            "40:\ttotal: 98.7ms\tremaining: 142ms\n",
            "41:\ttotal: 101ms\tremaining: 140ms\n",
            "42:\ttotal: 103ms\tremaining: 137ms\n",
            "43:\ttotal: 106ms\tremaining: 135ms\n",
            "44:\ttotal: 108ms\tremaining: 132ms\n",
            "45:\ttotal: 111ms\tremaining: 130ms\n",
            "46:\ttotal: 113ms\tremaining: 127ms\n",
            "47:\ttotal: 115ms\tremaining: 125ms\n",
            "48:\ttotal: 118ms\tremaining: 123ms\n",
            "49:\ttotal: 120ms\tremaining: 120ms\n",
            "50:\ttotal: 123ms\tremaining: 118ms\n",
            "51:\ttotal: 125ms\tremaining: 116ms\n",
            "52:\ttotal: 128ms\tremaining: 113ms\n",
            "53:\ttotal: 130ms\tremaining: 111ms\n",
            "54:\ttotal: 132ms\tremaining: 108ms\n",
            "55:\ttotal: 135ms\tremaining: 106ms\n",
            "56:\ttotal: 137ms\tremaining: 103ms\n",
            "57:\ttotal: 140ms\tremaining: 101ms\n",
            "58:\ttotal: 142ms\tremaining: 98.7ms\n",
            "59:\ttotal: 144ms\tremaining: 96.2ms\n",
            "60:\ttotal: 147ms\tremaining: 93.8ms\n",
            "61:\ttotal: 149ms\tremaining: 91.3ms\n",
            "62:\ttotal: 151ms\tremaining: 89ms\n",
            "63:\ttotal: 154ms\tremaining: 86.5ms\n",
            "64:\ttotal: 156ms\tremaining: 84.1ms\n",
            "65:\ttotal: 159ms\tremaining: 81.7ms\n",
            "66:\ttotal: 161ms\tremaining: 79.2ms\n",
            "67:\ttotal: 167ms\tremaining: 78.4ms\n",
            "68:\ttotal: 169ms\tremaining: 76ms\n",
            "69:\ttotal: 172ms\tremaining: 73.5ms\n",
            "70:\ttotal: 176ms\tremaining: 72ms\n",
            "71:\ttotal: 182ms\tremaining: 70.9ms\n",
            "72:\ttotal: 186ms\tremaining: 68.8ms\n",
            "73:\ttotal: 190ms\tremaining: 66.6ms\n",
            "74:\ttotal: 195ms\tremaining: 65ms\n",
            "75:\ttotal: 197ms\tremaining: 62.3ms\n",
            "76:\ttotal: 200ms\tremaining: 59.6ms\n",
            "77:\ttotal: 202ms\tremaining: 57ms\n",
            "78:\ttotal: 204ms\tremaining: 54.3ms\n",
            "79:\ttotal: 207ms\tremaining: 51.7ms\n",
            "80:\ttotal: 209ms\tremaining: 49ms\n",
            "81:\ttotal: 211ms\tremaining: 46.4ms\n",
            "82:\ttotal: 214ms\tremaining: 43.8ms\n",
            "83:\ttotal: 216ms\tremaining: 41.1ms\n",
            "84:\ttotal: 218ms\tremaining: 38.5ms\n",
            "85:\ttotal: 221ms\tremaining: 35.9ms\n",
            "86:\ttotal: 223ms\tremaining: 33.3ms\n",
            "87:\ttotal: 225ms\tremaining: 30.7ms\n",
            "88:\ttotal: 228ms\tremaining: 28.1ms\n",
            "89:\ttotal: 230ms\tremaining: 25.5ms\n",
            "90:\ttotal: 232ms\tremaining: 23ms\n",
            "91:\ttotal: 235ms\tremaining: 20.4ms\n",
            "92:\ttotal: 237ms\tremaining: 17.8ms\n",
            "93:\ttotal: 239ms\tremaining: 15.3ms\n",
            "94:\ttotal: 242ms\tremaining: 12.7ms\n",
            "95:\ttotal: 244ms\tremaining: 10.2ms\n",
            "96:\ttotal: 246ms\tremaining: 7.62ms\n",
            "97:\ttotal: 249ms\tremaining: 5.08ms\n",
            "98:\ttotal: 251ms\tremaining: 2.54ms\n",
            "99:\ttotal: 254ms\tremaining: 0us\n"
          ],
          "name": "stdout"
        },
        {
          "output_type": "execute_result",
          "data": {
            "text/plain": [
              "<catboost.core.CatBoostRegressor at 0x7ff9bcacaed0>"
            ]
          },
          "metadata": {
            "tags": []
          },
          "execution_count": 51
        }
      ]
    },
    {
      "cell_type": "markdown",
      "metadata": {
        "id": "YAAlNVnHyVfU"
      },
      "source": [
        "# **Test the model**"
      ]
    },
    {
      "cell_type": "markdown",
      "metadata": {
        "id": "kYYuZC4zzEPD"
      },
      "source": [
        "### **Linear regression**"
      ]
    },
    {
      "cell_type": "code",
      "metadata": {
        "colab": {
          "base_uri": "https://localhost:8080/"
        },
        "id": "Yj5GyP-dyjEI",
        "outputId": "66e57ab0-33e2-442d-b12e-137b25359ef6"
      },
      "source": [
        "y_pred = model_lr_cv.predict(X_test)\n",
        "lr_auc = roc_auc_score(y_test, y_pred)\n",
        "print(\"AUC-ROC =\", lr_auc)"
      ],
      "execution_count": null,
      "outputs": [
        {
          "output_type": "stream",
          "text": [
            "AUC-ROC = 0.8293950540785984\n"
          ],
          "name": "stdout"
        }
      ]
    },
    {
      "cell_type": "markdown",
      "metadata": {
        "id": "EKdReY4ly37c"
      },
      "source": [
        "### **Random forrest**"
      ]
    },
    {
      "cell_type": "code",
      "metadata": {
        "colab": {
          "base_uri": "https://localhost:8080/"
        },
        "id": "imkD5ubTyjTT",
        "outputId": "82508f85-1d16-48e6-e7c6-840afc67c059"
      },
      "source": [
        "y_pred = model_rfr_cv.predict(X_test)\n",
        "rfr_auc = roc_auc_score(y_test, y_pred)\n",
        "print(\"AUC-ROC =\", rfr_auc)"
      ],
      "execution_count": null,
      "outputs": [
        {
          "output_type": "stream",
          "text": [
            "AUC-ROC = 0.8531534101154354\n"
          ],
          "name": "stdout"
        }
      ]
    },
    {
      "cell_type": "markdown",
      "metadata": {
        "id": "hN3Al5MUyzwo"
      },
      "source": [
        "### **CatBoostClassifier**"
      ]
    },
    {
      "cell_type": "code",
      "metadata": {
        "colab": {
          "base_uri": "https://localhost:8080/"
        },
        "id": "MwFoSuwhyjqn",
        "outputId": "9c8eec0b-1e36-4629-d2ed-0189ce15cf75"
      },
      "source": [
        "test_pool = Pool(X_test, \n",
        "                  cat_features=['PaperlessBilling', 'MonthlyCharges', 'TotalCharges', 'MultipleLines',\n",
        "       'OnlineSecurity', 'OnlineBackup', 'DeviceProtection', 'TechSupport',\n",
        "       'StreamingTV', 'StreamingMovies', 'FiberOptic', 'SeniorCitizen',\n",
        "        'Dependents', 'AllTime']) \n",
        "y_pred = model_cb_cv.predict(test_pool)\n",
        "print(y_pred)\n",
        "\n",
        "cbc_auc = roc_auc_score(y_test, y_pred)\n",
        "print(\"AUC-ROC =\", cbc_auc)"
      ],
      "execution_count": null,
      "outputs": [
        {
          "output_type": "stream",
          "text": [
            "[0.88648241 0.46205313 0.10287211 ... 0.79784994 1.16184092 1.02592976]\n",
            "AUC-ROC = 0.8272001088456784\n"
          ],
          "name": "stdout"
        }
      ]
    },
    {
      "cell_type": "markdown",
      "metadata": {
        "id": "iQ7FidP4WazM"
      },
      "source": [
        "# **Solution Report**\n",
        "\n",
        "* Question: What steps of the plan were performed and what steps were skipped (explain why)? \n",
        "* Answer: It was no need to skip any steps in the plan, so all steps were performed. \n",
        "\n",
        "\n",
        "---\n",
        "\n",
        "* Question: What difficulties did you encounter and how did you manage to solve them?\n",
        "* Answer: The difficult and unsucceded part was to increase the AUC-ROC metric more than 0.88. \n",
        "\n",
        "\n",
        "\n",
        "---\n",
        "\n",
        "\n",
        "\n",
        "* Question: What were some of the key steps to solving the task?\n",
        "* Answer: The key steps were to prepare data for model training and to find the best hyperparameters. \n",
        "\n",
        "\n",
        "---\n",
        "\n",
        "\n",
        "* Question: What is your final model and what quality score does it have?\n",
        "* Answer: The Random Forest model gave the best result - it's AUC-ROC metric has value 0,853. It is the best model to predict the churn of clients. "
      ]
    }
  ]
}