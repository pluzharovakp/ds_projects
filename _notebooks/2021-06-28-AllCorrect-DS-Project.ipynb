{
  "nbformat": 4,
  "nbformat_minor": 0,
  "metadata": {
    "colab": {
      "name": "all_correct_ds_project.ipynb",
      "provenance": [],
      "collapsed_sections": [
        "8d5kkW0lhPk2",
        "t-oqCU-7NxH_"
      ],
      "toc_visible": true
    },
    "kernelspec": {
      "display_name": "Python 3",
      "name": "python3"
    },
    "language_info": {
      "name": "python"
    },
    "accelerator": "GPU"
  },
  "cells": [
    {
      "cell_type": "markdown",
      "metadata": {
        "id": "jHiZLfzPNFHN"
      },
      "source": [
        "# AllCorrect DS Project"
      ]
    },
    {
      "cell_type": "markdown",
      "metadata": {
        "id": "Opg1AURG6jzg"
      },
      "source": [
        "# Task\n",
        "Build an algorithm for classification of user reviews into one of the four categories.\n",
        "The quality of the algorithm should be evaluated using hold-out subset or crossvalidation technique."
      ]
    },
    {
      "cell_type": "code",
      "metadata": {
        "colab": {
          "base_uri": "https://localhost:8080/"
        },
        "id": "NZ-8hnpEo9St",
        "outputId": "1f017847-c0e7-43e9-e369-fd5ac5cabdb5"
      },
      "source": [
        "#hide\n",
        "from google.colab import drive\n",
        "drive.mount('/content/drive')\n",
        "path = '/content/drive/My Drive/data/reviews.xlsx'"
      ],
      "execution_count": 1,
      "outputs": [
        {
          "output_type": "stream",
          "text": [
            "Drive already mounted at /content/drive; to attempt to forcibly remount, call drive.mount(\"/content/drive\", force_remount=True).\n"
          ],
          "name": "stdout"
        }
      ]
    },
    {
      "cell_type": "markdown",
      "metadata": {
        "id": "it1dZGhzqvf4"
      },
      "source": [
        "**Plan**\n",
        "\n",
        "1.   [Data Preprocessing](#Preprocessing)\n",
        "2.   [EDA](#EDA)\n",
        "3.  [Baseline model + TFDIF](#Baseline-model-+-TFDIF)\n",
        "  *   [Train and test split](#Train-and-test-split)\n",
        "  *   [Vectorization](#Vectorization)\n",
        "  *   [Training](#Training)\n",
        "4.  [CatBoost](CatBoost)\n",
        "5.  [BERT embedding](#BERT-embedding)\n",
        "6.  [Keras + BERT](#Keras-+-BERT)\n",
        "7.  [Conclusion](#Conclusion)\n",
        "8.  [Python script](#Python-script)"
      ]
    },
    {
      "cell_type": "markdown",
      "metadata": {
        "id": "Y0SUQbwwyZP5"
      },
      "source": [
        "Let's import all needed libs"
      ]
    },
    {
      "cell_type": "code",
      "metadata": {
        "id": "bh5CzTCAvbsE"
      },
      "source": [
        "import tensorflow as tf\n",
        "from tensorflow import keras\n",
        "from tensorflow.keras import layers"
      ],
      "execution_count": 2,
      "outputs": []
    },
    {
      "cell_type": "code",
      "metadata": {
        "colab": {
          "base_uri": "https://localhost:8080/"
        },
        "id": "XZi9nDGqP9Ry",
        "outputId": "bd14859f-b47d-4d67-9d25-05c58ebcd9c4"
      },
      "source": [
        "#hide\n",
        "import nltk\n",
        "nltk.download('punkt')\n",
        "nltk.download('wordnet')\n",
        "nltk.download('stopwords')"
      ],
      "execution_count": 3,
      "outputs": [
        {
          "output_type": "stream",
          "text": [
            "[nltk_data] Downloading package punkt to /root/nltk_data...\n",
            "[nltk_data]   Package punkt is already up-to-date!\n",
            "[nltk_data] Downloading package wordnet to /root/nltk_data...\n",
            "[nltk_data]   Package wordnet is already up-to-date!\n",
            "[nltk_data] Downloading package stopwords to /root/nltk_data...\n",
            "[nltk_data]   Package stopwords is already up-to-date!\n"
          ],
          "name": "stdout"
        },
        {
          "output_type": "execute_result",
          "data": {
            "text/plain": [
              "True"
            ]
          },
          "metadata": {
            "tags": []
          },
          "execution_count": 3
        }
      ]
    },
    {
      "cell_type": "code",
      "metadata": {
        "colab": {
          "base_uri": "https://localhost:8080/"
        },
        "id": "loM97nwmS2nz",
        "outputId": "b9064245-27aa-4db7-9405-cf1218f76717"
      },
      "source": [
        "#hide\n",
        "!pip install catboost"
      ],
      "execution_count": 4,
      "outputs": [
        {
          "output_type": "stream",
          "text": [
            "Requirement already satisfied: catboost in /usr/local/lib/python3.7/dist-packages (0.26)\n",
            "Requirement already satisfied: scipy in /usr/local/lib/python3.7/dist-packages (from catboost) (1.4.1)\n",
            "Requirement already satisfied: pandas>=0.24.0 in /usr/local/lib/python3.7/dist-packages (from catboost) (1.1.5)\n",
            "Requirement already satisfied: matplotlib in /usr/local/lib/python3.7/dist-packages (from catboost) (3.2.2)\n",
            "Requirement already satisfied: plotly in /usr/local/lib/python3.7/dist-packages (from catboost) (4.4.1)\n",
            "Requirement already satisfied: numpy>=1.16.0 in /usr/local/lib/python3.7/dist-packages (from catboost) (1.19.5)\n",
            "Requirement already satisfied: graphviz in /usr/local/lib/python3.7/dist-packages (from catboost) (0.10.1)\n",
            "Requirement already satisfied: six in /usr/local/lib/python3.7/dist-packages (from catboost) (1.15.0)\n",
            "Requirement already satisfied: python-dateutil>=2.7.3 in /usr/local/lib/python3.7/dist-packages (from pandas>=0.24.0->catboost) (2.8.1)\n",
            "Requirement already satisfied: pytz>=2017.2 in /usr/local/lib/python3.7/dist-packages (from pandas>=0.24.0->catboost) (2018.9)\n",
            "Requirement already satisfied: kiwisolver>=1.0.1 in /usr/local/lib/python3.7/dist-packages (from matplotlib->catboost) (1.3.1)\n",
            "Requirement already satisfied: cycler>=0.10 in /usr/local/lib/python3.7/dist-packages (from matplotlib->catboost) (0.10.0)\n",
            "Requirement already satisfied: pyparsing!=2.0.4,!=2.1.2,!=2.1.6,>=2.0.1 in /usr/local/lib/python3.7/dist-packages (from matplotlib->catboost) (2.4.7)\n",
            "Requirement already satisfied: retrying>=1.3.3 in /usr/local/lib/python3.7/dist-packages (from plotly->catboost) (1.3.3)\n"
          ],
          "name": "stdout"
        }
      ]
    },
    {
      "cell_type": "code",
      "metadata": {
        "colab": {
          "base_uri": "https://localhost:8080/"
        },
        "id": "s87JOcc25nsF",
        "outputId": "ad7e7649-c0e0-4acd-865c-1e4d119f8f31"
      },
      "source": [
        "#hide\n",
        "!pip install transformers"
      ],
      "execution_count": 5,
      "outputs": [
        {
          "output_type": "stream",
          "text": [
            "Requirement already satisfied: transformers in /usr/local/lib/python3.7/dist-packages (4.8.1)\n",
            "Requirement already satisfied: packaging in /usr/local/lib/python3.7/dist-packages (from transformers) (20.9)\n",
            "Requirement already satisfied: regex!=2019.12.17 in /usr/local/lib/python3.7/dist-packages (from transformers) (2019.12.20)\n",
            "Requirement already satisfied: filelock in /usr/local/lib/python3.7/dist-packages (from transformers) (3.0.12)\n",
            "Requirement already satisfied: tokenizers<0.11,>=0.10.1 in /usr/local/lib/python3.7/dist-packages (from transformers) (0.10.3)\n",
            "Requirement already satisfied: numpy>=1.17 in /usr/local/lib/python3.7/dist-packages (from transformers) (1.19.5)\n",
            "Requirement already satisfied: importlib-metadata; python_version < \"3.8\" in /usr/local/lib/python3.7/dist-packages (from transformers) (4.5.0)\n",
            "Requirement already satisfied: sacremoses in /usr/local/lib/python3.7/dist-packages (from transformers) (0.0.45)\n",
            "Requirement already satisfied: requests in /usr/local/lib/python3.7/dist-packages (from transformers) (2.23.0)\n",
            "Requirement already satisfied: tqdm>=4.27 in /usr/local/lib/python3.7/dist-packages (from transformers) (4.41.1)\n",
            "Requirement already satisfied: pyyaml in /usr/local/lib/python3.7/dist-packages (from transformers) (3.13)\n",
            "Requirement already satisfied: huggingface-hub==0.0.12 in /usr/local/lib/python3.7/dist-packages (from transformers) (0.0.12)\n",
            "Requirement already satisfied: pyparsing>=2.0.2 in /usr/local/lib/python3.7/dist-packages (from packaging->transformers) (2.4.7)\n",
            "Requirement already satisfied: zipp>=0.5 in /usr/local/lib/python3.7/dist-packages (from importlib-metadata; python_version < \"3.8\"->transformers) (3.4.1)\n",
            "Requirement already satisfied: typing-extensions>=3.6.4; python_version < \"3.8\" in /usr/local/lib/python3.7/dist-packages (from importlib-metadata; python_version < \"3.8\"->transformers) (3.7.4.3)\n",
            "Requirement already satisfied: click in /usr/local/lib/python3.7/dist-packages (from sacremoses->transformers) (7.1.2)\n",
            "Requirement already satisfied: joblib in /usr/local/lib/python3.7/dist-packages (from sacremoses->transformers) (1.0.1)\n",
            "Requirement already satisfied: six in /usr/local/lib/python3.7/dist-packages (from sacremoses->transformers) (1.15.0)\n",
            "Requirement already satisfied: certifi>=2017.4.17 in /usr/local/lib/python3.7/dist-packages (from requests->transformers) (2021.5.30)\n",
            "Requirement already satisfied: idna<3,>=2.5 in /usr/local/lib/python3.7/dist-packages (from requests->transformers) (2.10)\n",
            "Requirement already satisfied: urllib3!=1.25.0,!=1.25.1,<1.26,>=1.21.1 in /usr/local/lib/python3.7/dist-packages (from requests->transformers) (1.24.3)\n",
            "Requirement already satisfied: chardet<4,>=3.0.2 in /usr/local/lib/python3.7/dist-packages (from requests->transformers) (3.0.4)\n"
          ],
          "name": "stdout"
        }
      ]
    },
    {
      "cell_type": "code",
      "metadata": {
        "id": "XwCK_JhU5kAP"
      },
      "source": [
        "import torch\n",
        "import transformers\n",
        "from tqdm.auto import tqdm"
      ],
      "execution_count": 6,
      "outputs": []
    },
    {
      "cell_type": "code",
      "metadata": {
        "id": "tvKZry6ZrYYI"
      },
      "source": [
        "import pandas as pd\n",
        "import numpy as np\n",
        "import re\n",
        "import math\n",
        "from sklearn.linear_model import LogisticRegression\n",
        "from sklearn.model_selection import cross_val_score\n",
        "from sklearn.model_selection import train_test_split\n",
        "from sklearn.preprocessing import LabelEncoder\n",
        "from sklearn.metrics import classification_report, confusion_matrix, accuracy_score, f1_score\n",
        "from sklearn.feature_extraction.text import TfidfVectorizer\n",
        "\n",
        "from nltk.tokenize import word_tokenize\n",
        "from nltk.stem.wordnet import WordNetLemmatizer\n",
        "from nltk.corpus import stopwords\n",
        "\n",
        "from catboost import CatBoostClassifier, Pool\n",
        "import joblib"
      ],
      "execution_count": 7,
      "outputs": []
    },
    {
      "cell_type": "code",
      "metadata": {
        "id": "_cu-V4tHrY8Q"
      },
      "source": [
        "df =  pd.read_excel(path)"
      ],
      "execution_count": 8,
      "outputs": []
    },
    {
      "cell_type": "code",
      "metadata": {
        "colab": {
          "base_uri": "https://localhost:8080/"
        },
        "id": "L1cigPnUnt-7",
        "outputId": "d429d6b5-fa5f-4390-f79b-8079c74feea5"
      },
      "source": [
        "df.info()"
      ],
      "execution_count": 9,
      "outputs": [
        {
          "output_type": "stream",
          "text": [
            "<class 'pandas.core.frame.DataFrame'>\n",
            "RangeIndex: 51800 entries, 0 to 51799\n",
            "Data columns (total 3 columns):\n",
            " #   Column  Non-Null Count  Dtype \n",
            "---  ------  --------------  ----- \n",
            " 0   id      51800 non-null  int64 \n",
            " 1   mark    51800 non-null  object\n",
            " 2   review  51800 non-null  object\n",
            "dtypes: int64(1), object(2)\n",
            "memory usage: 1.2+ MB\n"
          ],
          "name": "stdout"
        }
      ]
    },
    {
      "cell_type": "code",
      "metadata": {
        "colab": {
          "base_uri": "https://localhost:8080/"
        },
        "id": "emNMe004Wr0h",
        "outputId": "7a3885fa-e8a9-4191-c14c-a7bf7c46d0d4"
      },
      "source": [
        "df.iloc[0]"
      ],
      "execution_count": 10,
      "outputs": [
        {
          "output_type": "execute_result",
          "data": {
            "text/plain": [
              "id                                                     6720\n",
              "mark                                                     RL\n",
              "review    It's not Turkish, it's a lie, but I recommend ...\n",
              "Name: 0, dtype: object"
            ]
          },
          "metadata": {
            "tags": []
          },
          "execution_count": 10
        }
      ]
    },
    {
      "cell_type": "markdown",
      "metadata": {
        "id": "Xf9IF4sk4Iqh"
      },
      "source": [
        "# Preprocessing\n"
      ]
    },
    {
      "cell_type": "code",
      "metadata": {
        "id": "Y1JqO4BPLEgm"
      },
      "source": [
        "lemmatizer = WordNetLemmatizer()\n",
        "\n",
        "def clean_text(text):\n",
        "  #lower\n",
        "  text = text.strip().lower()\n",
        "  #clear the text\n",
        "  text = re.sub(r\"[^a-zA-Z']+\", ' ', text)\n",
        "  #lemmatization\n",
        "  tokens = word_tokenize(text)\n",
        "  lemmas = [lemmatizer.lemmatize(word) for word in tokens]\n",
        "\n",
        "  return \" \".join(lemmas)\n",
        "\n",
        "df['review'] = df['review'].apply(clean_text)"
      ],
      "execution_count": 11,
      "outputs": []
    },
    {
      "cell_type": "code",
      "metadata": {
        "colab": {
          "base_uri": "https://localhost:8080/",
          "height": 202
        },
        "id": "-GF11qLlZ6m4",
        "outputId": "4bde90ec-2644-4af9-d150-27f21bc69251"
      },
      "source": [
        "df['review_len'] = df['review'].str.len()\n",
        "df = df.sort_values('review_len',axis=0)\n",
        "df.head()"
      ],
      "execution_count": 12,
      "outputs": [
        {
          "output_type": "execute_result",
          "data": {
            "text/html": [
              "<div>\n",
              "<style scoped>\n",
              "    .dataframe tbody tr th:only-of-type {\n",
              "        vertical-align: middle;\n",
              "    }\n",
              "\n",
              "    .dataframe tbody tr th {\n",
              "        vertical-align: top;\n",
              "    }\n",
              "\n",
              "    .dataframe thead th {\n",
              "        text-align: right;\n",
              "    }\n",
              "</style>\n",
              "<table border=\"1\" class=\"dataframe\">\n",
              "  <thead>\n",
              "    <tr style=\"text-align: right;\">\n",
              "      <th></th>\n",
              "      <th>id</th>\n",
              "      <th>mark</th>\n",
              "      <th>review</th>\n",
              "      <th>review_len</th>\n",
              "    </tr>\n",
              "  </thead>\n",
              "  <tbody>\n",
              "    <tr>\n",
              "      <th>8779</th>\n",
              "      <td>47782</td>\n",
              "      <td>YL</td>\n",
              "      <td></td>\n",
              "      <td>0</td>\n",
              "    </tr>\n",
              "    <tr>\n",
              "      <th>48906</th>\n",
              "      <td>24112</td>\n",
              "      <td>RL</td>\n",
              "      <td></td>\n",
              "      <td>0</td>\n",
              "    </tr>\n",
              "    <tr>\n",
              "      <th>45267</th>\n",
              "      <td>7454</td>\n",
              "      <td>RL</td>\n",
              "      <td></td>\n",
              "      <td>0</td>\n",
              "    </tr>\n",
              "    <tr>\n",
              "      <th>26259</th>\n",
              "      <td>27730</td>\n",
              "      <td>RL</td>\n",
              "      <td></td>\n",
              "      <td>0</td>\n",
              "    </tr>\n",
              "    <tr>\n",
              "      <th>14029</th>\n",
              "      <td>47768</td>\n",
              "      <td>RL</td>\n",
              "      <td></td>\n",
              "      <td>0</td>\n",
              "    </tr>\n",
              "  </tbody>\n",
              "</table>\n",
              "</div>"
            ],
            "text/plain": [
              "          id mark review  review_len\n",
              "8779   47782   YL                  0\n",
              "48906  24112   RL                  0\n",
              "45267   7454   RL                  0\n",
              "26259  27730   RL                  0\n",
              "14029  47768   RL                  0"
            ]
          },
          "metadata": {
            "tags": []
          },
          "execution_count": 12
        }
      ]
    },
    {
      "cell_type": "code",
      "metadata": {
        "colab": {
          "base_uri": "https://localhost:8080/"
        },
        "id": "hlfqpRzKaSZ4",
        "outputId": "998d1151-c901-473d-dd78-fcb4323387f3"
      },
      "source": [
        "df[df['review_len'] == 0]['review_len'].count()"
      ],
      "execution_count": 13,
      "outputs": [
        {
          "output_type": "execute_result",
          "data": {
            "text/plain": [
              "14"
            ]
          },
          "metadata": {
            "tags": []
          },
          "execution_count": 13
        }
      ]
    },
    {
      "cell_type": "code",
      "metadata": {
        "id": "OFPj3yBGa0Od"
      },
      "source": [
        "df = df[df['review_len'] != 0]"
      ],
      "execution_count": 14,
      "outputs": []
    },
    {
      "cell_type": "code",
      "metadata": {
        "colab": {
          "base_uri": "https://localhost:8080/"
        },
        "id": "6ln314tvdi2c",
        "outputId": "2282bc08-ee57-4f30-d692-8c7c6172a1d7"
      },
      "source": [
        "df['mark'] = df['mark'].str.upper()\n",
        "df['mark'].unique()"
      ],
      "execution_count": 15,
      "outputs": [
        {
          "output_type": "execute_result",
          "data": {
            "text/plain": [
              "array(['RL', 'L-', 'L+', 'YL'], dtype=object)"
            ]
          },
          "metadata": {
            "tags": []
          },
          "execution_count": 15
        }
      ]
    },
    {
      "cell_type": "code",
      "metadata": {
        "id": "X0aMXOudLEMb"
      },
      "source": [
        "encoder = LabelEncoder()\n",
        "df['mark_num'] = encoder.fit_transform(df['mark'])"
      ],
      "execution_count": 16,
      "outputs": []
    },
    {
      "cell_type": "code",
      "metadata": {
        "colab": {
          "base_uri": "https://localhost:8080/"
        },
        "id": "LcUbwHZOlFD4",
        "outputId": "2b9ffa04-cebc-4e30-d84b-c104a637353b"
      },
      "source": [
        "df['mark_num'].unique()"
      ],
      "execution_count": 17,
      "outputs": [
        {
          "output_type": "execute_result",
          "data": {
            "text/plain": [
              "array([2, 1, 0, 3])"
            ]
          },
          "metadata": {
            "tags": []
          },
          "execution_count": 17
        }
      ]
    },
    {
      "cell_type": "markdown",
      "metadata": {
        "id": "8d5kkW0lhPk2"
      },
      "source": [
        "# EDA"
      ]
    },
    {
      "cell_type": "code",
      "metadata": {
        "colab": {
          "base_uri": "https://localhost:8080/",
          "height": 265
        },
        "id": "IuS6_xcrsSYs",
        "outputId": "1f3d128a-0fc8-441d-eb8f-4bbdbb83c1d6"
      },
      "source": [
        "df['mark'].value_counts(normalize=True).plot(kind='pie')"
      ],
      "execution_count": 18,
      "outputs": [
        {
          "output_type": "execute_result",
          "data": {
            "text/plain": [
              "<matplotlib.axes._subplots.AxesSubplot at 0x7f4381c53a50>"
            ]
          },
          "metadata": {
            "tags": []
          },
          "execution_count": 18
        },
        {
          "output_type": "display_data",
          "data": {
            "image/png": "[encoded data removed]",
            "text/plain": [
              "<Figure size 432x288 with 1 Axes>"
            ]
          },
          "metadata": {
            "tags": []
          }
        }
      ]
    },
    {
      "cell_type": "code",
      "metadata": {
        "colab": {
          "base_uri": "https://localhost:8080/",
          "height": 282
        },
        "id": "raGqDkImhsf_",
        "outputId": "d57e6dc2-5485-46af-e1ee-5a37862db532"
      },
      "source": [
        "df[(df['review_len'] < 2000) & (df['review_len'] > 250)]['review_len'].hist(bins=100,density=True)"
      ],
      "execution_count": 19,
      "outputs": [
        {
          "output_type": "execute_result",
          "data": {
            "text/plain": [
              "<matplotlib.axes._subplots.AxesSubplot at 0x7f4381a85110>"
            ]
          },
          "metadata": {
            "tags": []
          },
          "execution_count": 19
        },
        {
          "output_type": "display_data",
          "data": {
            "image/png": "[encoded data removed]",
            "text/plain": [
              "<Figure size 432x288 with 1 Axes>"
            ]
          },
          "metadata": {
            "tags": [],
            "needs_background": "light"
          }
        }
      ]
    },
    {
      "cell_type": "markdown",
      "metadata": {
        "id": "ouWxC9Eoet0l"
      },
      "source": [
        "The data is unbalanced. There is 82% of the one type out of four.\n",
        "\n",
        "Most of reviews are not longer than 500 signs. "
      ]
    },
    {
      "cell_type": "markdown",
      "metadata": {
        "id": "t-oqCU-7NxH_"
      },
      "source": [
        "# Baseline Model + TFIDF"
      ]
    },
    {
      "cell_type": "markdown",
      "metadata": {
        "id": "lhXwaC6EXvdR"
      },
      "source": [
        "## Train and test split"
      ]
    },
    {
      "cell_type": "code",
      "metadata": {
        "id": "G8iStGfKLEc6"
      },
      "source": [
        "stop_words = set(stopwords.words('english'))\n",
        "corpus = df['review']"
      ],
      "execution_count": 20,
      "outputs": []
    },
    {
      "cell_type": "code",
      "metadata": {
        "id": "HZbCXzjkN0hM"
      },
      "source": [
        "X = df['review']\n",
        "y = df['mark_num']\n",
        "X_train, X_test, y_train, y_test = train_test_split(X, y, test_size=0.2, random_state=42, stratify=y)"
      ],
      "execution_count": 21,
      "outputs": []
    },
    {
      "cell_type": "markdown",
      "metadata": {
        "id": "GGgDkYzWDiap"
      },
      "source": [
        "## Vectorization"
      ]
    },
    {
      "cell_type": "code",
      "metadata": {
        "id": "Q0hHODVDLEYH"
      },
      "source": [
        "count_tf_idf = TfidfVectorizer(stop_words = stop_words)\n",
        "tf_idf_train = count_tf_idf.fit_transform(X_train)\n",
        "tf_idf_test = count_tf_idf.transform(X_test)"
      ],
      "execution_count": 22,
      "outputs": []
    },
    {
      "cell_type": "markdown",
      "metadata": {
        "id": "jnt8rFE6gQkX"
      },
      "source": [
        "## Training "
      ]
    },
    {
      "cell_type": "code",
      "metadata": {
        "colab": {
          "base_uri": "https://localhost:8080/"
        },
        "id": "AuuOK13IedqU",
        "outputId": "ba7665df-a3c9-4fc2-f332-e61511022fcd"
      },
      "source": [
        "lr_model = LogisticRegression(multi_class='ovr', solver='liblinear')\n",
        "lr_model.fit(tf_idf_train, y_train)"
      ],
      "execution_count": 23,
      "outputs": [
        {
          "output_type": "execute_result",
          "data": {
            "text/plain": [
              "LogisticRegression(C=1.0, class_weight=None, dual=False, fit_intercept=True,\n",
              "                   intercept_scaling=1, l1_ratio=None, max_iter=100,\n",
              "                   multi_class='ovr', n_jobs=None, penalty='l2',\n",
              "                   random_state=None, solver='liblinear', tol=0.0001, verbose=0,\n",
              "                   warm_start=False)"
            ]
          },
          "metadata": {
            "tags": []
          },
          "execution_count": 23
        }
      ]
    },
    {
      "cell_type": "code",
      "metadata": {
        "colab": {
          "base_uri": "https://localhost:8080/"
        },
        "id": "6l0E68l5m6gd",
        "outputId": "e1de3adf-a271-4949-93b5-2125976d565b"
      },
      "source": [
        "y_pred = lr_model.predict(tf_idf_test)\n",
        "print(classification_report(y_test, y_pred))"
      ],
      "execution_count": 24,
      "outputs": [
        {
          "output_type": "stream",
          "text": [
            "              precision    recall  f1-score   support\n",
            "\n",
            "           0       0.75      0.02      0.04       133\n",
            "           1       0.80      0.68      0.73      1096\n",
            "           2       0.91      0.99      0.94      8537\n",
            "           3       0.70      0.18      0.29       592\n",
            "\n",
            "    accuracy                           0.89     10358\n",
            "   macro avg       0.79      0.47      0.50     10358\n",
            "weighted avg       0.88      0.89      0.87     10358\n",
            "\n"
          ],
          "name": "stdout"
        }
      ]
    },
    {
      "cell_type": "code",
      "metadata": {
        "colab": {
          "base_uri": "https://localhost:8080/"
        },
        "id": "Q0_s1DfchWwR",
        "outputId": "e39d6a7d-691d-416a-9150-9aa1512270ba"
      },
      "source": [
        "print(confusion_matrix(y_test, y_pred))"
      ],
      "execution_count": 25,
      "outputs": [
        {
          "output_type": "stream",
          "text": [
            "[[   3   45   70   15]\n",
            " [   1  742  350    3]\n",
            " [   0   97 8412   28]\n",
            " [   0   42  443  107]]\n"
          ],
          "name": "stdout"
        }
      ]
    },
    {
      "cell_type": "code",
      "metadata": {
        "colab": {
          "base_uri": "https://localhost:8080/"
        },
        "id": "hopu1TYI8H8E",
        "outputId": "6483472c-14f6-41a1-8181-bd61274bdc26"
      },
      "source": [
        "print(f1_score(y_test, y_pred, average='weighted'))"
      ],
      "execution_count": 26,
      "outputs": [
        {
          "output_type": "stream",
          "text": [
            "0.8731152130914144\n"
          ],
          "name": "stdout"
        }
      ]
    },
    {
      "cell_type": "code",
      "metadata": {
        "colab": {
          "base_uri": "https://localhost:8080/"
        },
        "id": "L-zgTMXPThQC",
        "outputId": "e3362f40-ed9e-4296-b8a7-090c65df4443"
      },
      "source": [
        "print(accuracy_score(y_test, y_pred))"
      ],
      "execution_count": 27,
      "outputs": [
        {
          "output_type": "stream",
          "text": [
            "0.8943811546630623\n"
          ],
          "name": "stdout"
        }
      ]
    },
    {
      "cell_type": "markdown",
      "metadata": {
        "id": "c5MIG-3bR5ze"
      },
      "source": [
        "# CatBoost\n",
        "\n",
        "\n"
      ]
    },
    {
      "cell_type": "code",
      "metadata": {
        "id": "O_iys2rljk4y"
      },
      "source": [
        "X = df[['review', 'id']]\n",
        "y = df['mark_num']\n",
        "X_train, X_test, y_train, y_test = train_test_split(X, y, test_size=0.2, random_state=42, stratify=y)"
      ],
      "execution_count": 28,
      "outputs": []
    },
    {
      "cell_type": "code",
      "metadata": {
        "id": "HpcXvxSRSSiH"
      },
      "source": [
        "train_pool = Pool(data=X_train,\n",
        "                  label=y_train, \n",
        "                  text_features=['review']) \n",
        "valid_pool = Pool(data=X_test, \n",
        "                  label=y_test, \n",
        "                  text_features=['review']) \n",
        "model_CB = CatBoostClassifier(loss_function='MultiClass')"
      ],
      "execution_count": 29,
      "outputs": []
    },
    {
      "cell_type": "code",
      "metadata": {
        "id": "lEqo-zDRSi5r"
      },
      "source": [
        "# model_CB.fit(train_pool, eval_set=valid_pool)\n",
        "\n",
        "\n",
        "# joblib.dump(model_CB, '/content/drive/My Drive/data/model_CB.joblib')\n",
        "model_CB = joblib.load('/content/drive/My Drive/data/model_CB.joblib')\n",
        "y_pred = model_CB.predict(X_test)\n",
        "# print(model_CB.get_best_score())"
      ],
      "execution_count": 30,
      "outputs": []
    },
    {
      "cell_type": "code",
      "metadata": {
        "colab": {
          "base_uri": "https://localhost:8080/"
        },
        "id": "3giQiKK79pI_",
        "outputId": "0314253c-38c7-4bce-ad6e-3c2c4cba51fe"
      },
      "source": [
        "print(classification_report(y_test, y_pred))"
      ],
      "execution_count": 31,
      "outputs": [
        {
          "output_type": "stream",
          "text": [
            "              precision    recall  f1-score   support\n",
            "\n",
            "           0       0.69      0.23      0.35       133\n",
            "           1       0.82      0.78      0.80      1096\n",
            "           2       0.94      0.98      0.96      8537\n",
            "           3       0.79      0.43      0.56       592\n",
            "\n",
            "    accuracy                           0.92     10358\n",
            "   macro avg       0.81      0.61      0.67     10358\n",
            "weighted avg       0.91      0.92      0.91     10358\n",
            "\n"
          ],
          "name": "stdout"
        }
      ]
    },
    {
      "cell_type": "code",
      "metadata": {
        "colab": {
          "base_uri": "https://localhost:8080/"
        },
        "id": "te3rW43QrfLV",
        "outputId": "c5e031e9-12bc-4548-bb30-1c82c55ba211"
      },
      "source": [
        "print(f1_score(y_test, y_pred, average='weighted'))"
      ],
      "execution_count": 32,
      "outputs": [
        {
          "output_type": "stream",
          "text": [
            "0.9115470087472277\n"
          ],
          "name": "stdout"
        }
      ]
    },
    {
      "cell_type": "code",
      "metadata": {
        "colab": {
          "base_uri": "https://localhost:8080/"
        },
        "id": "yYCIRurpkhTs",
        "outputId": "cfd70887-30e6-4429-e549-02c767f8e2b7"
      },
      "source": [
        "print(accuracy_score(y_test, y_pred))"
      ],
      "execution_count": 33,
      "outputs": [
        {
          "output_type": "stream",
          "text": [
            "0.9196756130527128\n"
          ],
          "name": "stdout"
        }
      ]
    },
    {
      "cell_type": "markdown",
      "metadata": {
        "id": "rTcHR5tHSS63"
      },
      "source": [
        "# BERT embedding\n"
      ]
    },
    {
      "cell_type": "code",
      "metadata": {
        "id": "tS3mKjPoShGc"
      },
      "source": [
        "bert_tokenizer = transformers.BertTokenizer.from_pretrained('bert-base-uncased')"
      ],
      "execution_count": 34,
      "outputs": []
    },
    {
      "cell_type": "code",
      "metadata": {
        "colab": {
          "base_uri": "https://localhost:8080/"
        },
        "id": "ZXd-QCgX_UbL",
        "outputId": "ea08d43c-7b13-4a34-bab1-957ecdb14879"
      },
      "source": [
        "#collapse_output\n",
        "bert_model = transformers.BertModel.from_pretrained('bert-base-uncased')"
      ],
      "execution_count": 35,
      "outputs": [
        {
          "output_type": "stream",
          "text": [
            "Some weights of the model checkpoint at bert-base-uncased were not used when initializing BertModel: ['cls.seq_relationship.weight', 'cls.predictions.transform.dense.weight', 'cls.predictions.transform.LayerNorm.bias', 'cls.predictions.transform.dense.bias', 'cls.seq_relationship.bias', 'cls.predictions.transform.LayerNorm.weight', 'cls.predictions.bias', 'cls.predictions.decoder.weight']\n",
            "- This IS expected if you are initializing BertModel from the checkpoint of a model trained on another task or with another architecture (e.g. initializing a BertForSequenceClassification model from a BertForPreTraining model).\n",
            "- This IS NOT expected if you are initializing BertModel from the checkpoint of a model that you expect to be exactly identical (initializing a BertForSequenceClassification model from a BertForSequenceClassification model).\n"
          ],
          "name": "stderr"
        }
      ]
    },
    {
      "cell_type": "code",
      "metadata": {
        "id": "FPufnytdSiKU"
      },
      "source": [
        "def BERT_process(texts, max_length=512, batch_size=100, disable_progress_bar=True):\n",
        "\n",
        "  ids_list = []\n",
        "  attention_mask_list = []\n",
        "\n",
        "  # text to padded IDs of tokens along with their attention masks\n",
        "  \n",
        "  for input_text in tqdm(texts, disable=disable_progress_bar):\n",
        "      ids = bert_tokenizer.encode(input_text.lower(), add_special_tokens=True, truncation=True, max_length=max_length)\n",
        "      padded = np.array(ids + [0]*(max_length - len(ids)))\n",
        "      attention_mask = np.where(padded != 0, 1, 0)\n",
        "      ids_list.append(padded)\n",
        "      attention_mask_list.append(attention_mask)\n",
        "  # use cuda if possible: \n",
        "\n",
        "  device = torch.device('cuda' if torch.cuda.is_available() else 'cpu')\n",
        "  bert_model.to(device)\n",
        "  \n",
        "  # gettings embeddings in batches\n",
        "\n",
        "  embeddings = []\n",
        "\n",
        "  for i in tqdm(range(math.ceil(len(ids_list)/batch_size)), disable=disable_progress_bar):\n",
        "          \n",
        "      ids_batch = torch.LongTensor(ids_list[batch_size*i:batch_size*(i+1)]).to(device)\n",
        "      attention_mask_batch = torch.LongTensor(attention_mask_list[batch_size*i:batch_size*(i+1)]).to(device)\n",
        "          \n",
        "      with torch.no_grad():            \n",
        "          bert_model.eval()\n",
        "          batch_embeddings = bert_model(input_ids=ids_batch, attention_mask=attention_mask_batch)   \n",
        "      embeddings.append(batch_embeddings[0][:,0,:].detach().cpu().numpy())\n",
        "        \n",
        "  return np.concatenate(embeddings)\n"
      ],
      "execution_count": 36,
      "outputs": []
    },
    {
      "cell_type": "markdown",
      "metadata": {
        "id": "K8G_2xDpD-uh"
      },
      "source": [
        "# Keras + BERT"
      ]
    },
    {
      "cell_type": "code",
      "metadata": {
        "id": "_xzT9xRqPa32"
      },
      "source": [
        "# X = BERT_process(df['review'])\n",
        "# np.savez_compressed('/content/drive/My Drive/data/X_BERT.npz', X=X)\n",
        "with np.load('/content/drive/My Drive/data/X_BERT.npz') as data:\n",
        "    X = data['X']"
      ],
      "execution_count": 37,
      "outputs": []
    },
    {
      "cell_type": "code",
      "metadata": {
        "id": "XH4F7haC7Jwp"
      },
      "source": [
        "y = df['mark_num']\n",
        "X_train, X_test, y_train, y_test = train_test_split(X, y, test_size=0.3, random_state=42)"
      ],
      "execution_count": 38,
      "outputs": []
    },
    {
      "cell_type": "code",
      "metadata": {
        "id": "X04C35gmcLIO"
      },
      "source": [
        "X_test, X_val, y_test, y_val = train_test_split(X_test, y_test, test_size=.5)"
      ],
      "execution_count": 39,
      "outputs": []
    },
    {
      "cell_type": "code",
      "metadata": {
        "id": "OhHArChLyW-U"
      },
      "source": [
        "y_train = np.asarray(y_train).astype(np.float32)\n",
        "train_dataset = tf.data.Dataset.from_tensor_slices((\n",
        "    X_train,\n",
        "    y_train\n",
        "))\n",
        "test_dataset = tf.data.Dataset.from_tensor_slices((\n",
        "    X_test,\n",
        "    y_test\n",
        "))"
      ],
      "execution_count": 40,
      "outputs": []
    },
    {
      "cell_type": "code",
      "metadata": {
        "colab": {
          "base_uri": "https://localhost:8080/"
        },
        "id": "2xzdwhJ5yW6n",
        "outputId": "d25e4fba-a1eb-4687-a0de-354f9afa87b4"
      },
      "source": [
        "#collapse_output\n",
        "model = keras.models.Sequential()\n",
        "\n",
        "optimizer = tf.keras.optimizers.Adam(learning_rate=0.01)\n",
        "# optimizer = tf.keras.optimizers.SGD(learning_rate=0.01)\n",
        "\n",
        "model.add(tf.keras.layers.Dense(16, activation=\"relu\"))\n",
        "model.add(tf.keras.layers.Dense(32, activation=\"relu\"))\n",
        "model.add(tf.keras.layers.Dense(128, activation='softmax'))\n",
        "# model.compile(optimizer=optimizer, loss='sparse_categorical_crossentropy')\n",
        "model.compile(\n",
        "    optimizer=optimizer,  # Optimizer\n",
        "    # Loss function to minimize\n",
        "    loss=keras.losses.SparseCategoricalCrossentropy(),\n",
        "    # List of metrics to monitor\n",
        "    metrics=[keras.metrics.SparseCategoricalAccuracy()],\n",
        ")\n",
        "model.fit(train_dataset.shuffle(1000).batch(16), epochs=3, batch_size=16, validation_data=(X_val, y_val))\n",
        "y_pred = model.predict(X_test, verbose=True).argmax(axis=-1)"
      ],
      "execution_count": 41,
      "outputs": [
        {
          "output_type": "stream",
          "text": [
            "Epoch 1/3\n",
            "2266/2266 [==============================] - 6s 2ms/step - loss: 0.4185 - sparse_categorical_accuracy: 0.8592 - val_loss: 0.3678 - val_sparse_categorical_accuracy: 0.8704\n",
            "Epoch 2/3\n",
            "2266/2266 [==============================] - 5s 2ms/step - loss: 0.3630 - sparse_categorical_accuracy: 0.8734 - val_loss: 0.3487 - val_sparse_categorical_accuracy: 0.8791\n",
            "Epoch 3/3\n",
            "2266/2266 [==============================] - 5s 2ms/step - loss: 0.3513 - sparse_categorical_accuracy: 0.8784 - val_loss: 0.3394 - val_sparse_categorical_accuracy: 0.8808\n",
            "243/243 [==============================] - 0s 934us/step\n"
          ],
          "name": "stdout"
        }
      ]
    },
    {
      "cell_type": "code",
      "metadata": {
        "colab": {
          "base_uri": "https://localhost:8080/"
        },
        "id": "3s5jieal9qba",
        "outputId": "b22ec6c8-219f-4dd5-d502-a635d308b8c5"
      },
      "source": [
        "print(classification_report(y_test, y_pred))"
      ],
      "execution_count": 42,
      "outputs": [
        {
          "output_type": "stream",
          "text": [
            "              precision    recall  f1-score   support\n",
            "\n",
            "           0       0.29      0.06      0.11       108\n",
            "           1       0.63      0.72      0.67       786\n",
            "           2       0.92      0.96      0.94      6427\n",
            "           3       0.63      0.21      0.31       447\n",
            "\n",
            "    accuracy                           0.88      7768\n",
            "   macro avg       0.62      0.49      0.51      7768\n",
            "weighted avg       0.86      0.88      0.86      7768\n",
            "\n"
          ],
          "name": "stdout"
        }
      ]
    },
    {
      "cell_type": "code",
      "metadata": {
        "colab": {
          "base_uri": "https://localhost:8080/"
        },
        "id": "NXNALn79rhn1",
        "outputId": "fcb7caf0-1b18-478e-b659-378a1526ab76"
      },
      "source": [
        "print(f1_score(y_test, y_pred, average='weighted'))"
      ],
      "execution_count": 43,
      "outputs": [
        {
          "output_type": "stream",
          "text": [
            "0.8615621529186347\n"
          ],
          "name": "stdout"
        }
      ]
    },
    {
      "cell_type": "code",
      "metadata": {
        "colab": {
          "base_uri": "https://localhost:8080/"
        },
        "id": "Ntve6Qkgrj2B",
        "outputId": "353af698-3837-4c1a-ecfe-1003ca1a836b"
      },
      "source": [
        "print(accuracy_score(y_test, y_pred))"
      ],
      "execution_count": 44,
      "outputs": [
        {
          "output_type": "stream",
          "text": [
            "0.8761585993820803\n"
          ],
          "name": "stdout"
        }
      ]
    },
    {
      "cell_type": "markdown",
      "metadata": {
        "id": "Vyal6Bb-DErK"
      },
      "source": [
        "# Conclusion\n",
        "The score of deep-learning model + BERT is the lest than accuracy of a simple LogisticRegression model.\n",
        "\n",
        "Probably it's because the data is unbalanced. If the data are a bit more balanced, perhaps we would have a better result.\n",
        "\n",
        "I decided to continue with already trained Catboost model, that showed the best result, and create python script for production."
      ]
    },
    {
      "cell_type": "markdown",
      "metadata": {
        "id": "g70kO6RzTI7K"
      },
      "source": [
        "# Python script\n",
        "Code of the python script to classify users' reviews.\n",
        "\n",
        "**Input**: \n",
        "\n",
        "*   CatBoost model\n",
        "*   Excel file with two columns. First column is unique identifier of the review, second column is review's text.\n",
        "\n",
        "**Output**: \n",
        "*   Excel file with six columns. First two columns remain from the input file,  other columns contain probability to belong to each category.\n",
        "\n",
        "```\n",
        "import nltk\n",
        "nltk.download('punkt')\n",
        "nltk.download('wordnet')\n",
        "nltk.download('stopwords')\n",
        "from nltk.tokenize import word_tokenize\n",
        "from nltk.stem.wordnet import WordNetLemmatizer\n",
        "from nltk.corpus import stopwords\n",
        "import joblib\n",
        "import pandas as pd\n",
        "from optparse import OptionParser\n",
        "import re\n",
        "\n",
        "parser = OptionParser()\n",
        "\n",
        "parser.add_option(\"-t\", \"--text_file\",\n",
        "                  action=\"store\", type=\"string\", dest=\"text_path\")\n",
        "parser.add_option(\"-m\", \"--model_file\",\n",
        "                  action=\"store\", type=\"string\", dest=\"model_path\")\n",
        "(options, args) = parser.parse_args()\n",
        "\n",
        "\n",
        "lemmatizer = WordNetLemmatizer()\n",
        "\n",
        "def clean_text(text):\n",
        "  #lower\n",
        "  text = text.strip().lower()\n",
        "  #clear the text\n",
        "  text = re.sub(r\"[^a-zA-Z']+\", ' ', text)\n",
        "  #lemmatization\n",
        "  tokens = word_tokenize(text)\n",
        "  lemmas = [lemmatizer.lemmatize(word) for word in tokens]\n",
        "\n",
        "  return \" \".join(lemmas)\n",
        "\n",
        "def predict_mark(text):\n",
        "  model = joblib.load(model_path)\n",
        "  y_pred = model.predict(text_preprocessed) \n",
        "  return y_pred\n",
        "\n",
        "df =  pd.read_excel(text_path)\n",
        "df['review'] = df['review'].apply(clean_text)\n",
        "df['mark'] = df['review'].apply(predict_mark)\n",
        "\n",
        "df.to_excel(\"output.xlsx\") \n",
        "```\n",
        "\n"
      ]
    }
  ]
}